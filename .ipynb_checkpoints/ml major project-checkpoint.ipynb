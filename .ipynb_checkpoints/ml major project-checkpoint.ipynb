{
 "cells": [
  {
   "cell_type": "markdown",
   "metadata": {
    "colab_type": "text",
    "id": "qa35E37h3u9E"
   },
   "source": [
    "## MAJOR PROJECT IN MACHINE LEARNING\n"
   ]
  },
  {
   "cell_type": "markdown",
   "metadata": {
    "colab_type": "text",
    "id": "BW8AEddY3u9I"
   },
   "source": [
    " ### Problem Statement:Predicting the costs of used cars given the data collected from various sources and distributed across various locations in India.\n"
   ]
  },
  {
   "cell_type": "markdown",
   "metadata": {
    "colab_type": "text",
    "id": "nIuuskt83u9M"
   },
   "source": [
    "## FEATURES "
   ]
  },
  {
   "cell_type": "markdown",
   "metadata": {
    "colab_type": "text",
    "id": "03QXIg2b3u9N"
   },
   "source": [
    "* Name: The brand and model of the car. \n",
    "* Location: The location in which the car is being sold or is available for purchase. \n",
    "* Year: The year or edition of the model.\n",
    "* Kilometers_Driven: The total kilometres driven in the car by the previous owner(s) in KM.\n",
    "* Fuel_Type: The type of fuel used by the car.\n",
    "* Transmission: The type of transmission used by the car. \n",
    "* Owner_Type: Whether the ownership is Firsthand, Second hand or other. \n",
    "* Mileage: The standard mileage offered by the car company in kmpl or km/kg\n",
    "* Engine: The displacement volume of the engine in cc.\n",
    "* Power: The maximum power of the engine in bhp. \n",
    "* Seats: The number of seats in the car. \n",
    "* Price: The price of the used car in INR Lakhs."
   ]
  },
  {
   "cell_type": "markdown",
   "metadata": {
    "colab_type": "text",
    "id": "jp7mB2A33u9R"
   },
   "source": [
    "## IMPORTING THE LIBRARIES"
   ]
  },
  {
   "cell_type": "code",
   "execution_count": 2,
   "metadata": {
    "colab": {
     "base_uri": "https://localhost:8080/",
     "height": 70
    },
    "colab_type": "code",
    "executionInfo": {
     "elapsed": 3088,
     "status": "ok",
     "timestamp": 1596300065237,
     "user": {
      "displayName": "Vaishnavi Rai",
      "photoUrl": "https://lh3.googleusercontent.com/-muQ4WjNuOb8/AAAAAAAAAAI/AAAAAAAAF5A/L9I9qOt7G_8/s64/photo.jpg",
      "userId": "13557949291054352338"
     },
     "user_tz": -330
    },
    "id": "-qxV-xqh3u9T",
    "outputId": "ff06dd54-31ec-4356-8967-2a77e5abc6f1"
   },
   "outputs": [],
   "source": [
    "from sklearn.model_selection import train_test_split  \n",
    "import pandas as pd\n",
    "import numpy as np\n",
    "import seaborn as sns\n",
    "import matplotlib.pyplot as plt\n",
    "import statsmodels.api as sm\n",
    "from sklearn.preprocessing import StandardScaler\n",
    "from sklearn.model_selection import train_test_split\n",
    "from sklearn import metrics\n",
    "import math\n",
    "from sklearn.metrics import mean_squared_error"
   ]
  },
  {
   "cell_type": "markdown",
   "metadata": {
    "colab_type": "text",
    "id": "3besRUAz3u9b"
   },
   "source": [
    "## LOADING THE DATASETS"
   ]
  },
  {
   "cell_type": "code",
   "execution_count": null,
   "metadata": {
    "colab": {
     "base_uri": "https://localhost:8080/",
     "height": 34
    },
    "colab_type": "code",
    "executionInfo": {
     "elapsed": 2456,
     "status": "ok",
     "timestamp": 1596299820641,
     "user": {
      "displayName": "Vaishnavi Rai",
      "photoUrl": "https://lh3.googleusercontent.com/-muQ4WjNuOb8/AAAAAAAAAAI/AAAAAAAAF5A/L9I9qOt7G_8/s64/photo.jpg",
      "userId": "13557949291054352338"
     },
     "user_tz": -330
    },
    "id": "_xRVTKKY3u9c",
    "outputId": "c8893681-18d6-4b41-8fe1-0138a9c9b48b"
   },
   "outputs": [],
   "source": [
    "import pandas as pd\n",
    "pr = pd.read_excel('Data_Train.xlsx')\n",
    "prtest=pd.read_excel('Data_Test.xlsx')\n",
    "\n",
    "#To see how many rows and columns are there in each dataset\n",
    "pr.shape, prtest.shape"
   ]
  },
  {
   "cell_type": "markdown",
   "metadata": {
    "colab_type": "text",
    "id": "y_VLCZRc3u9k"
   },
   "source": [
    "## EXPLORATORY DATA ANALYSIS"
   ]
  },
  {
   "cell_type": "code",
   "execution_count": 5,
   "metadata": {
    "colab": {
     "base_uri": "https://localhost:8080/",
     "height": 284
    },
    "colab_type": "code",
    "executionInfo": {
     "elapsed": 2050,
     "status": "ok",
     "timestamp": 1596299826149,
     "user": {
      "displayName": "Vaishnavi Rai",
      "photoUrl": "https://lh3.googleusercontent.com/-muQ4WjNuOb8/AAAAAAAAAAI/AAAAAAAAF5A/L9I9qOt7G_8/s64/photo.jpg",
      "userId": "13557949291054352338"
     },
     "user_tz": -330
    },
    "id": "cwpfJR9l3u9l",
    "outputId": "ac281e80-5750-43ee-c654-647c2463746e"
   },
   "outputs": [
    {
     "data": {
      "text/html": [
       "<div>\n",
       "<style scoped>\n",
       "    .dataframe tbody tr th:only-of-type {\n",
       "        vertical-align: middle;\n",
       "    }\n",
       "\n",
       "    .dataframe tbody tr th {\n",
       "        vertical-align: top;\n",
       "    }\n",
       "\n",
       "    .dataframe thead th {\n",
       "        text-align: right;\n",
       "    }\n",
       "</style>\n",
       "<table border=\"1\" class=\"dataframe\">\n",
       "  <thead>\n",
       "    <tr style=\"text-align: right;\">\n",
       "      <th></th>\n",
       "      <th>Year</th>\n",
       "      <th>Kilometers_Driven</th>\n",
       "      <th>Seats</th>\n",
       "      <th>Price</th>\n",
       "    </tr>\n",
       "  </thead>\n",
       "  <tbody>\n",
       "    <tr>\n",
       "      <th>count</th>\n",
       "      <td>6019.000000</td>\n",
       "      <td>6.019000e+03</td>\n",
       "      <td>5977.000000</td>\n",
       "      <td>6019.000000</td>\n",
       "    </tr>\n",
       "    <tr>\n",
       "      <th>mean</th>\n",
       "      <td>2013.358199</td>\n",
       "      <td>5.873838e+04</td>\n",
       "      <td>5.278735</td>\n",
       "      <td>9.479468</td>\n",
       "    </tr>\n",
       "    <tr>\n",
       "      <th>std</th>\n",
       "      <td>3.269742</td>\n",
       "      <td>9.126884e+04</td>\n",
       "      <td>0.808840</td>\n",
       "      <td>11.187917</td>\n",
       "    </tr>\n",
       "    <tr>\n",
       "      <th>min</th>\n",
       "      <td>1998.000000</td>\n",
       "      <td>1.710000e+02</td>\n",
       "      <td>0.000000</td>\n",
       "      <td>0.440000</td>\n",
       "    </tr>\n",
       "    <tr>\n",
       "      <th>25%</th>\n",
       "      <td>2011.000000</td>\n",
       "      <td>3.400000e+04</td>\n",
       "      <td>5.000000</td>\n",
       "      <td>3.500000</td>\n",
       "    </tr>\n",
       "    <tr>\n",
       "      <th>50%</th>\n",
       "      <td>2014.000000</td>\n",
       "      <td>5.300000e+04</td>\n",
       "      <td>5.000000</td>\n",
       "      <td>5.640000</td>\n",
       "    </tr>\n",
       "    <tr>\n",
       "      <th>75%</th>\n",
       "      <td>2016.000000</td>\n",
       "      <td>7.300000e+04</td>\n",
       "      <td>5.000000</td>\n",
       "      <td>9.950000</td>\n",
       "    </tr>\n",
       "    <tr>\n",
       "      <th>max</th>\n",
       "      <td>2019.000000</td>\n",
       "      <td>6.500000e+06</td>\n",
       "      <td>10.000000</td>\n",
       "      <td>160.000000</td>\n",
       "    </tr>\n",
       "  </tbody>\n",
       "</table>\n",
       "</div>"
      ],
      "text/plain": [
       "              Year  Kilometers_Driven        Seats        Price\n",
       "count  6019.000000       6.019000e+03  5977.000000  6019.000000\n",
       "mean   2013.358199       5.873838e+04     5.278735     9.479468\n",
       "std       3.269742       9.126884e+04     0.808840    11.187917\n",
       "min    1998.000000       1.710000e+02     0.000000     0.440000\n",
       "25%    2011.000000       3.400000e+04     5.000000     3.500000\n",
       "50%    2014.000000       5.300000e+04     5.000000     5.640000\n",
       "75%    2016.000000       7.300000e+04     5.000000     9.950000\n",
       "max    2019.000000       6.500000e+06    10.000000   160.000000"
      ]
     },
     "execution_count": 5,
     "metadata": {
      "tags": []
     },
     "output_type": "execute_result"
    }
   ],
   "source": [
    "pr.describe()"
   ]
  },
  {
   "cell_type": "code",
   "execution_count": 6,
   "metadata": {
    "colab": {
     "base_uri": "https://localhost:8080/",
     "height": 235
    },
    "colab_type": "code",
    "executionInfo": {
     "elapsed": 1727,
     "status": "ok",
     "timestamp": 1596299830100,
     "user": {
      "displayName": "Vaishnavi Rai",
      "photoUrl": "https://lh3.googleusercontent.com/-muQ4WjNuOb8/AAAAAAAAAAI/AAAAAAAAF5A/L9I9qOt7G_8/s64/photo.jpg",
      "userId": "13557949291054352338"
     },
     "user_tz": -330
    },
    "id": "jAKVgFVr3u9r",
    "outputId": "e6a4c46b-64c2-4f23-daed-ce07eb9307e6"
   },
   "outputs": [
    {
     "data": {
      "text/plain": [
       "Name                 1876\n",
       "Location               11\n",
       "Year                   22\n",
       "Kilometers_Driven    3093\n",
       "Fuel_Type               5\n",
       "Transmission            2\n",
       "Owner_Type              4\n",
       "Mileage               442\n",
       "Engine                146\n",
       "Power                 372\n",
       "Seats                   9\n",
       "Price                1373\n",
       "dtype: int64"
      ]
     },
     "execution_count": 6,
     "metadata": {
      "tags": []
     },
     "output_type": "execute_result"
    }
   ],
   "source": [
    "# To see the number of unique values in each column\n",
    "pr.nunique()"
   ]
  },
  {
   "cell_type": "code",
   "execution_count": 7,
   "metadata": {
    "colab": {
     "base_uri": "https://localhost:8080/",
     "height": 336
    },
    "colab_type": "code",
    "executionInfo": {
     "elapsed": 1537,
     "status": "ok",
     "timestamp": 1596299834142,
     "user": {
      "displayName": "Vaishnavi Rai",
      "photoUrl": "https://lh3.googleusercontent.com/-muQ4WjNuOb8/AAAAAAAAAAI/AAAAAAAAF5A/L9I9qOt7G_8/s64/photo.jpg",
      "userId": "13557949291054352338"
     },
     "user_tz": -330
    },
    "id": "uvrAw0g83u9w",
    "outputId": "b42d90d3-fc54-44d0-8046-8f0711ef3356"
   },
   "outputs": [
    {
     "name": "stdout",
     "output_type": "stream",
     "text": [
      "<class 'pandas.core.frame.DataFrame'>\n",
      "RangeIndex: 6019 entries, 0 to 6018\n",
      "Data columns (total 12 columns):\n",
      " #   Column             Non-Null Count  Dtype  \n",
      "---  ------             --------------  -----  \n",
      " 0   Name               6019 non-null   object \n",
      " 1   Location           6019 non-null   object \n",
      " 2   Year               6019 non-null   int64  \n",
      " 3   Kilometers_Driven  6019 non-null   int64  \n",
      " 4   Fuel_Type          6019 non-null   object \n",
      " 5   Transmission       6019 non-null   object \n",
      " 6   Owner_Type         6019 non-null   object \n",
      " 7   Mileage            6017 non-null   object \n",
      " 8   Engine             5983 non-null   object \n",
      " 9   Power              5983 non-null   object \n",
      " 10  Seats              5977 non-null   float64\n",
      " 11  Price              6019 non-null   float64\n",
      "dtypes: float64(2), int64(2), object(8)\n",
      "memory usage: 564.4+ KB\n"
     ]
    }
   ],
   "source": [
    "# To see the column Data Types and non missing values\n",
    "pr.info()"
   ]
  },
  {
   "cell_type": "markdown",
   "metadata": {
    "colab_type": "text",
    "id": "N_9KfGVK3u91"
   },
   "source": [
    "- To check whether by mistakenly same data has been added to the list or not!\n"
   ]
  },
  {
   "cell_type": "code",
   "execution_count": null,
   "metadata": {
    "colab": {},
    "colab_type": "code",
    "id": "eo_XhvsS3u91",
    "outputId": "1a1952a1-bc54-44b9-9ab8-182ab4a3bbb5"
   },
   "outputs": [
    {
     "name": "stdout",
     "output_type": "stream",
     "text": [
      "Empty DataFrame\n",
      "Columns: [Name, Location, Year, Kilometers_Driven, Fuel_Type, Transmission, Owner_Type, Mileage, Engine, Power, Seats, Price]\n",
      "Index: []\n"
     ]
    }
   ],
   "source": [
    "temp = pd.DataFrame(pr,columns=['Name','Location','Year','Kilometers_Driven','Fuel_Type','Transmission','Owner_Type','Mileage','Engine','Power','Seats','Price'])\n",
    "dup_rows=temp[temp.duplicated(['Name','Location','Year','Kilometers_Driven','Fuel_Type','Transmission','Owner_Type','Mileage','Engine','Power','Seats','Price'])]\n",
    "print(dup_rows)\n"
   ]
  },
  {
   "cell_type": "markdown",
   "metadata": {
    "colab_type": "text",
    "id": "ERFUpfWK3u95"
   },
   "source": [
    " - We got no such double entry of data.\n"
   ]
  },
  {
   "cell_type": "markdown",
   "metadata": {
    "colab_type": "text",
    "id": "jYELAUdE3u96"
   },
   "source": [
    "## To see the unique values in each column \n",
    " \n",
    " \n",
    " \n",
    "   - First function will be used to count the unique values present. \n",
    "   - Second function will be used for retrieving those unique values.\n"
   ]
  },
  {
   "cell_type": "code",
   "execution_count": 18,
   "metadata": {
    "colab": {
     "base_uri": "https://localhost:8080/",
     "height": 34
    },
    "colab_type": "code",
    "executionInfo": {
     "elapsed": 2087,
     "status": "ok",
     "timestamp": 1596299975199,
     "user": {
      "displayName": "Vaishnavi Rai",
      "photoUrl": "https://lh3.googleusercontent.com/-muQ4WjNuOb8/AAAAAAAAAAI/AAAAAAAAF5A/L9I9qOt7G_8/s64/photo.jpg",
      "userId": "13557949291054352338"
     },
     "user_tz": -330
    },
    "id": "1MnBnCb83u97",
    "outputId": "0f2275db-4665-49a6-9d35-f85ea2deae85"
   },
   "outputs": [
    {
     "data": {
      "text/plain": [
       "1871"
      ]
     },
     "execution_count": 18,
     "metadata": {
      "tags": []
     },
     "output_type": "execute_result"
    }
   ],
   "source": [
    "# To see the unique values present in each column\n",
    "pr.Name.nunique()"
   ]
  },
  {
   "cell_type": "code",
   "execution_count": 19,
   "metadata": {
    "colab": {
     "base_uri": "https://localhost:8080/",
     "height": 67
    },
    "colab_type": "code",
    "executionInfo": {
     "elapsed": 1561,
     "status": "ok",
     "timestamp": 1596299977776,
     "user": {
      "displayName": "Vaishnavi Rai",
      "photoUrl": "https://lh3.googleusercontent.com/-muQ4WjNuOb8/AAAAAAAAAAI/AAAAAAAAF5A/L9I9qOt7G_8/s64/photo.jpg",
      "userId": "13557949291054352338"
     },
     "user_tz": -330
    },
    "id": "mUnzXPCa3u9-",
    "outputId": "43a3410f-c5f9-4753-a389-ad0b5af4ae35"
   },
   "outputs": [
    {
     "data": {
      "text/plain": [
       "array(['Maruti Wagon R LXI CNG', 'Hyundai Creta 1.6 CRDi SX Option',\n",
       "       'Honda Jazz V', ..., 'Volkswagen Polo IPL II 1.2 Petrol Highline',\n",
       "       'Tata Bolt Revotron XT', 'Mahindra Xylo D4 BSIV'], dtype=object)"
      ]
     },
     "execution_count": 19,
     "metadata": {
      "tags": []
     },
     "output_type": "execute_result"
    }
   ],
   "source": [
    "pr.Name.unique()\n"
   ]
  },
  {
   "cell_type": "code",
   "execution_count": 20,
   "metadata": {
    "colab": {
     "base_uri": "https://localhost:8080/",
     "height": 34
    },
    "colab_type": "code",
    "executionInfo": {
     "elapsed": 1311,
     "status": "ok",
     "timestamp": 1596299981505,
     "user": {
      "displayName": "Vaishnavi Rai",
      "photoUrl": "https://lh3.googleusercontent.com/-muQ4WjNuOb8/AAAAAAAAAAI/AAAAAAAAF5A/L9I9qOt7G_8/s64/photo.jpg",
      "userId": "13557949291054352338"
     },
     "user_tz": -330
    },
    "id": "cZVkRXsf3u-C",
    "outputId": "0086d76c-389d-41ea-d1d0-5379c319dc05"
   },
   "outputs": [
    {
     "data": {
      "text/plain": [
       "11"
      ]
     },
     "execution_count": 20,
     "metadata": {
      "tags": []
     },
     "output_type": "execute_result"
    }
   ],
   "source": [
    "pr.Location.nunique()"
   ]
  },
  {
   "cell_type": "code",
   "execution_count": 21,
   "metadata": {
    "colab": {
     "base_uri": "https://localhost:8080/",
     "height": 67
    },
    "colab_type": "code",
    "executionInfo": {
     "elapsed": 1986,
     "status": "ok",
     "timestamp": 1596299985168,
     "user": {
      "displayName": "Vaishnavi Rai",
      "photoUrl": "https://lh3.googleusercontent.com/-muQ4WjNuOb8/AAAAAAAAAAI/AAAAAAAAF5A/L9I9qOt7G_8/s64/photo.jpg",
      "userId": "13557949291054352338"
     },
     "user_tz": -330
    },
    "id": "EUw3NfKS3u-F",
    "outputId": "4ca3de5a-53e4-40ca-8a09-76c415d320f2"
   },
   "outputs": [
    {
     "data": {
      "text/plain": [
       "array(['Mumbai', 'Pune', 'Chennai', 'Coimbatore', 'Hyderabad', 'Jaipur',\n",
       "       'Kochi', 'Kolkata', 'Delhi', 'Bangalore', 'Ahmedabad'],\n",
       "      dtype=object)"
      ]
     },
     "execution_count": 21,
     "metadata": {
      "tags": []
     },
     "output_type": "execute_result"
    }
   ],
   "source": [
    "pr.Location.unique()\n"
   ]
  },
  {
   "cell_type": "code",
   "execution_count": 22,
   "metadata": {
    "colab": {
     "base_uri": "https://localhost:8080/",
     "height": 34
    },
    "colab_type": "code",
    "executionInfo": {
     "elapsed": 1524,
     "status": "ok",
     "timestamp": 1596299989237,
     "user": {
      "displayName": "Vaishnavi Rai",
      "photoUrl": "https://lh3.googleusercontent.com/-muQ4WjNuOb8/AAAAAAAAAAI/AAAAAAAAF5A/L9I9qOt7G_8/s64/photo.jpg",
      "userId": "13557949291054352338"
     },
     "user_tz": -330
    },
    "id": "IOSQDfvy3u-J",
    "outputId": "53968d05-9985-4637-f8e2-9eb5d9af5bc4"
   },
   "outputs": [
    {
     "data": {
      "text/plain": [
       "5"
      ]
     },
     "execution_count": 22,
     "metadata": {
      "tags": []
     },
     "output_type": "execute_result"
    }
   ],
   "source": [
    "pr.Fuel_Type.nunique()"
   ]
  },
  {
   "cell_type": "code",
   "execution_count": 23,
   "metadata": {
    "colab": {
     "base_uri": "https://localhost:8080/",
     "height": 34
    },
    "colab_type": "code",
    "executionInfo": {
     "elapsed": 1627,
     "status": "ok",
     "timestamp": 1596299993467,
     "user": {
      "displayName": "Vaishnavi Rai",
      "photoUrl": "https://lh3.googleusercontent.com/-muQ4WjNuOb8/AAAAAAAAAAI/AAAAAAAAF5A/L9I9qOt7G_8/s64/photo.jpg",
      "userId": "13557949291054352338"
     },
     "user_tz": -330
    },
    "id": "NbMEokES3u-M",
    "outputId": "6608139c-aa00-491c-cca5-c4c2796fb537"
   },
   "outputs": [
    {
     "data": {
      "text/plain": [
       "array(['CNG', 'Diesel', 'Petrol', 'LPG', 'Electric'], dtype=object)"
      ]
     },
     "execution_count": 23,
     "metadata": {
      "tags": []
     },
     "output_type": "execute_result"
    }
   ],
   "source": [
    "\n",
    "pr.Fuel_Type.unique()"
   ]
  },
  {
   "cell_type": "code",
   "execution_count": 24,
   "metadata": {
    "colab": {
     "base_uri": "https://localhost:8080/",
     "height": 34
    },
    "colab_type": "code",
    "executionInfo": {
     "elapsed": 1361,
     "status": "ok",
     "timestamp": 1596299997359,
     "user": {
      "displayName": "Vaishnavi Rai",
      "photoUrl": "https://lh3.googleusercontent.com/-muQ4WjNuOb8/AAAAAAAAAAI/AAAAAAAAF5A/L9I9qOt7G_8/s64/photo.jpg",
      "userId": "13557949291054352338"
     },
     "user_tz": -330
    },
    "id": "eYd2Kw7q3u-P",
    "outputId": "bc8adad7-6e11-4b32-9605-13fa019a926a"
   },
   "outputs": [
    {
     "data": {
      "text/plain": [
       "2"
      ]
     },
     "execution_count": 24,
     "metadata": {
      "tags": []
     },
     "output_type": "execute_result"
    }
   ],
   "source": [
    "pr.Transmission.nunique()"
   ]
  },
  {
   "cell_type": "code",
   "execution_count": 25,
   "metadata": {
    "colab": {
     "base_uri": "https://localhost:8080/",
     "height": 34
    },
    "colab_type": "code",
    "executionInfo": {
     "elapsed": 1385,
     "status": "ok",
     "timestamp": 1596300001867,
     "user": {
      "displayName": "Vaishnavi Rai",
      "photoUrl": "https://lh3.googleusercontent.com/-muQ4WjNuOb8/AAAAAAAAAAI/AAAAAAAAF5A/L9I9qOt7G_8/s64/photo.jpg",
      "userId": "13557949291054352338"
     },
     "user_tz": -330
    },
    "id": "VI5SiIxq3u-T",
    "outputId": "5bf2a6ad-adbe-4b95-8610-69183317f5f8"
   },
   "outputs": [
    {
     "data": {
      "text/plain": [
       "array(['Manual', 'Automatic'], dtype=object)"
      ]
     },
     "execution_count": 25,
     "metadata": {
      "tags": []
     },
     "output_type": "execute_result"
    }
   ],
   "source": [
    "pr.Transmission.unique()"
   ]
  },
  {
   "cell_type": "code",
   "execution_count": 26,
   "metadata": {
    "colab": {
     "base_uri": "https://localhost:8080/",
     "height": 34
    },
    "colab_type": "code",
    "executionInfo": {
     "elapsed": 2261,
     "status": "ok",
     "timestamp": 1596300006100,
     "user": {
      "displayName": "Vaishnavi Rai",
      "photoUrl": "https://lh3.googleusercontent.com/-muQ4WjNuOb8/AAAAAAAAAAI/AAAAAAAAF5A/L9I9qOt7G_8/s64/photo.jpg",
      "userId": "13557949291054352338"
     },
     "user_tz": -330
    },
    "id": "qIT2aK2n3u-X",
    "outputId": "c31bd535-9f0c-4d58-af4e-0e818a5d99a3"
   },
   "outputs": [
    {
     "data": {
      "text/plain": [
       "4"
      ]
     },
     "execution_count": 26,
     "metadata": {
      "tags": []
     },
     "output_type": "execute_result"
    }
   ],
   "source": [
    "pr.Owner_Type.nunique()"
   ]
  },
  {
   "cell_type": "code",
   "execution_count": 27,
   "metadata": {
    "colab": {
     "base_uri": "https://localhost:8080/",
     "height": 34
    },
    "colab_type": "code",
    "executionInfo": {
     "elapsed": 1327,
     "status": "ok",
     "timestamp": 1596300008474,
     "user": {
      "displayName": "Vaishnavi Rai",
      "photoUrl": "https://lh3.googleusercontent.com/-muQ4WjNuOb8/AAAAAAAAAAI/AAAAAAAAF5A/L9I9qOt7G_8/s64/photo.jpg",
      "userId": "13557949291054352338"
     },
     "user_tz": -330
    },
    "id": "-mOivH0-3u-b",
    "outputId": "7cec7330-e51a-4a37-bb05-6b710f413767"
   },
   "outputs": [
    {
     "data": {
      "text/plain": [
       "array(['First', 'Second', 'Fourth & Above', 'Third'], dtype=object)"
      ]
     },
     "execution_count": 27,
     "metadata": {
      "tags": []
     },
     "output_type": "execute_result"
    }
   ],
   "source": [
    "pr.Owner_Type.unique()"
   ]
  },
  {
   "cell_type": "code",
   "execution_count": 28,
   "metadata": {
    "colab": {
     "base_uri": "https://localhost:8080/",
     "height": 34
    },
    "colab_type": "code",
    "executionInfo": {
     "elapsed": 1451,
     "status": "ok",
     "timestamp": 1596300012624,
     "user": {
      "displayName": "Vaishnavi Rai",
      "photoUrl": "https://lh3.googleusercontent.com/-muQ4WjNuOb8/AAAAAAAAAAI/AAAAAAAAF5A/L9I9qOt7G_8/s64/photo.jpg",
      "userId": "13557949291054352338"
     },
     "user_tz": -330
    },
    "id": "8VwOjJld3u-h",
    "outputId": "891f2b1e-6a4a-4b59-a949-34f25945a596"
   },
   "outputs": [
    {
     "data": {
      "text/plain": [
       "9"
      ]
     },
     "execution_count": 28,
     "metadata": {
      "tags": []
     },
     "output_type": "execute_result"
    }
   ],
   "source": [
    "pr.Seats.nunique()"
   ]
  },
  {
   "cell_type": "code",
   "execution_count": 29,
   "metadata": {
    "colab": {
     "base_uri": "https://localhost:8080/",
     "height": 34
    },
    "colab_type": "code",
    "executionInfo": {
     "elapsed": 1561,
     "status": "ok",
     "timestamp": 1596300017225,
     "user": {
      "displayName": "Vaishnavi Rai",
      "photoUrl": "https://lh3.googleusercontent.com/-muQ4WjNuOb8/AAAAAAAAAAI/AAAAAAAAF5A/L9I9qOt7G_8/s64/photo.jpg",
      "userId": "13557949291054352338"
     },
     "user_tz": -330
    },
    "id": "hNMiR1au3u-k",
    "outputId": "79a3ed7c-f318-4477-f07a-687c891ef2fa"
   },
   "outputs": [
    {
     "data": {
      "text/plain": [
       "array([ 5.,  7.,  8.,  4.,  6.,  2., nan, 10.,  9.,  0.])"
      ]
     },
     "execution_count": 29,
     "metadata": {
      "tags": []
     },
     "output_type": "execute_result"
    }
   ],
   "source": [
    "pr.Seats.unique()"
   ]
  },
  {
   "cell_type": "code",
   "execution_count": 30,
   "metadata": {
    "colab": {
     "base_uri": "https://localhost:8080/",
     "height": 34
    },
    "colab_type": "code",
    "executionInfo": {
     "elapsed": 1560,
     "status": "ok",
     "timestamp": 1596300021526,
     "user": {
      "displayName": "Vaishnavi Rai",
      "photoUrl": "https://lh3.googleusercontent.com/-muQ4WjNuOb8/AAAAAAAAAAI/AAAAAAAAF5A/L9I9qOt7G_8/s64/photo.jpg",
      "userId": "13557949291054352338"
     },
     "user_tz": -330
    },
    "id": "QNfTjvrM3u-n",
    "outputId": "12d636b5-5f3e-47e3-9349-6dcaa20c5b0e"
   },
   "outputs": [
    {
     "data": {
      "text/plain": [
       "22"
      ]
     },
     "execution_count": 30,
     "metadata": {
      "tags": []
     },
     "output_type": "execute_result"
    }
   ],
   "source": [
    "pr.Year.nunique()\n"
   ]
  },
  {
   "cell_type": "code",
   "execution_count": 31,
   "metadata": {
    "colab": {
     "base_uri": "https://localhost:8080/",
     "height": 50
    },
    "colab_type": "code",
    "executionInfo": {
     "elapsed": 1618,
     "status": "ok",
     "timestamp": 1596300026368,
     "user": {
      "displayName": "Vaishnavi Rai",
      "photoUrl": "https://lh3.googleusercontent.com/-muQ4WjNuOb8/AAAAAAAAAAI/AAAAAAAAF5A/L9I9qOt7G_8/s64/photo.jpg",
      "userId": "13557949291054352338"
     },
     "user_tz": -330
    },
    "id": "EzagNkpL3u-q",
    "outputId": "db4e7b1a-2449-4d3e-feaa-8eb9f1ba146f"
   },
   "outputs": [
    {
     "data": {
      "text/plain": [
       "array([2010, 2015, 2011, 2012, 2013, 2016, 2018, 2014, 2017, 2007, 2009,\n",
       "       2008, 2019, 2006, 2005, 2004, 2002, 2000, 2003, 1999, 2001, 1998])"
      ]
     },
     "execution_count": 31,
     "metadata": {
      "tags": []
     },
     "output_type": "execute_result"
    }
   ],
   "source": [
    "pr.Year.unique()\n"
   ]
  },
  {
   "cell_type": "markdown",
   "metadata": {
    "colab_type": "text",
    "id": "FgwmLNvw3u-u"
   },
   "source": [
    "  ## Graphical Representation and relation depiction of data\n",
    " \n",
    "\n",
    " \n",
    " - For the following graphs as Price is our basic constraint, so we will be plotting relations with respect to Price.\n"
   ]
  },
  {
   "cell_type": "code",
   "execution_count": 35,
   "metadata": {
    "colab": {
     "base_uri": "https://localhost:8080/",
     "height": 459
    },
    "colab_type": "code",
    "executionInfo": {
     "elapsed": 23912,
     "status": "ok",
     "timestamp": 1596300140648,
     "user": {
      "displayName": "Vaishnavi Rai",
      "photoUrl": "https://lh3.googleusercontent.com/-muQ4WjNuOb8/AAAAAAAAAAI/AAAAAAAAF5A/L9I9qOt7G_8/s64/photo.jpg",
      "userId": "13557949291054352338"
     },
     "user_tz": -330
    },
    "id": "5tHO9Aay3u-u",
    "outputId": "c00b141b-a7b1-4a1a-c756-e3b09016af09"
   },
   "outputs": [
    {
     "data": {
      "text/plain": [
       "<matplotlib.axes._subplots.AxesSubplot at 0x7f0b25e36cc0>"
      ]
     },
     "execution_count": 35,
     "metadata": {
      "tags": []
     },
     "output_type": "execute_result"
    },
    {
     "data": {
      "image/png": "[encoded data removed]",
      "text/plain": [
       "<Figure size 936x504 with 1 Axes>"
      ]
     },
     "metadata": {
      "tags": []
     },
     "output_type": "display_data"
    }
   ],
   "source": [
    "import seaborn as sns\n",
    "sns.set_style('darkgrid')\n",
    "fig_dims = (13, 7)\n",
    "fig, ax = plt.subplots(figsize=fig_dims)\n",
    "sns.swarmplot(x='Location',y='Price',data=pr,ax=ax)"
   ]
  },
  {
   "cell_type": "code",
   "execution_count": 36,
   "metadata": {
    "colab": {
     "base_uri": "https://localhost:8080/",
     "height": 296
    },
    "colab_type": "code",
    "executionInfo": {
     "elapsed": 1778,
     "status": "ok",
     "timestamp": 1596300162869,
     "user": {
      "displayName": "Vaishnavi Rai",
      "photoUrl": "https://lh3.googleusercontent.com/-muQ4WjNuOb8/AAAAAAAAAAI/AAAAAAAAF5A/L9I9qOt7G_8/s64/photo.jpg",
      "userId": "13557949291054352338"
     },
     "user_tz": -330
    },
    "id": "0IAuoZv03u-x",
    "outputId": "ff59b33d-ca34-4cc5-fd0c-687f305da592"
   },
   "outputs": [
    {
     "data": {
      "text/plain": [
       "<matplotlib.axes._subplots.AxesSubplot at 0x7f0b25dbad30>"
      ]
     },
     "execution_count": 36,
     "metadata": {
      "tags": []
     },
     "output_type": "execute_result"
    },
    {
     "data": {
      "image/png": "[encoded data removed]",
      "text/plain": [
       "<Figure size 936x288 with 1 Axes>"
      ]
     },
     "metadata": {
      "tags": []
     },
     "output_type": "display_data"
    }
   ],
   "source": [
    "fig_dims = (13, 4)\n",
    "fig, ax = plt.subplots(figsize=fig_dims)\n",
    "sns.scatterplot('Year','Price',data=pr,ax=ax)"
   ]
  },
  {
   "cell_type": "code",
   "execution_count": 37,
   "metadata": {
    "colab": {
     "base_uri": "https://localhost:8080/",
     "height": 297
    },
    "colab_type": "code",
    "executionInfo": {
     "elapsed": 1581,
     "status": "ok",
     "timestamp": 1596300167499,
     "user": {
      "displayName": "Vaishnavi Rai",
      "photoUrl": "https://lh3.googleusercontent.com/-muQ4WjNuOb8/AAAAAAAAAAI/AAAAAAAAF5A/L9I9qOt7G_8/s64/photo.jpg",
      "userId": "13557949291054352338"
     },
     "user_tz": -330
    },
    "id": "5hqtqdFF3u-0",
    "outputId": "2f780d56-1336-4d93-e30c-797f4889796c"
   },
   "outputs": [
    {
     "data": {
      "text/plain": [
       "<matplotlib.axes._subplots.AxesSubplot at 0x7f0b2458f048>"
      ]
     },
     "execution_count": 37,
     "metadata": {
      "tags": []
     },
     "output_type": "execute_result"
    },
    {
     "data": {
      "image/png": "[encoded data removed]",
      "text/plain": [
       "<Figure size 360x288 with 1 Axes>"
      ]
     },
     "metadata": {
      "tags": []
     },
     "output_type": "display_data"
    }
   ],
   "source": [
    "fig_dims = (5, 4)\n",
    "fig, ax = plt.subplots(figsize=fig_dims)\n",
    "sns.barplot('Fuel_Type','Price',data=pr,ax=ax)"
   ]
  },
  {
   "cell_type": "code",
   "execution_count": 38,
   "metadata": {
    "colab": {
     "base_uri": "https://localhost:8080/",
     "height": 297
    },
    "colab_type": "code",
    "executionInfo": {
     "elapsed": 1522,
     "status": "ok",
     "timestamp": 1596300171765,
     "user": {
      "displayName": "Vaishnavi Rai",
      "photoUrl": "https://lh3.googleusercontent.com/-muQ4WjNuOb8/AAAAAAAAAAI/AAAAAAAAF5A/L9I9qOt7G_8/s64/photo.jpg",
      "userId": "13557949291054352338"
     },
     "user_tz": -330
    },
    "id": "U-JoP-vD3u-4",
    "outputId": "15074093-274f-4cce-c685-21d464d1ee19"
   },
   "outputs": [
    {
     "data": {
      "text/plain": [
       "<matplotlib.axes._subplots.AxesSubplot at 0x7f0b245117b8>"
      ]
     },
     "execution_count": 38,
     "metadata": {
      "tags": []
     },
     "output_type": "execute_result"
    },
    {
     "data": {
      "image/png": "[encoded data removed]",
      "text/plain": [
       "<Figure size 360x288 with 1 Axes>"
      ]
     },
     "metadata": {
      "tags": []
     },
     "output_type": "display_data"
    }
   ],
   "source": [
    "fig_dims = (5, 4)\n",
    "fig, ax = plt.subplots(figsize=fig_dims)\n",
    "sns.barplot('Owner_Type','Price',data=pr,ax=ax)"
   ]
  },
  {
   "cell_type": "code",
   "execution_count": 39,
   "metadata": {
    "colab": {
     "base_uri": "https://localhost:8080/",
     "height": 296
    },
    "colab_type": "code",
    "executionInfo": {
     "elapsed": 2314,
     "status": "ok",
     "timestamp": 1596300177532,
     "user": {
      "displayName": "Vaishnavi Rai",
      "photoUrl": "https://lh3.googleusercontent.com/-muQ4WjNuOb8/AAAAAAAAAAI/AAAAAAAAF5A/L9I9qOt7G_8/s64/photo.jpg",
      "userId": "13557949291054352338"
     },
     "user_tz": -330
    },
    "id": "U51wEx-93u-8",
    "outputId": "01c666dd-269a-4e27-f87e-a42fceb79505"
   },
   "outputs": [
    {
     "data": {
      "text/plain": [
       "<matplotlib.axes._subplots.AxesSubplot at 0x7f0b24475518>"
      ]
     },
     "execution_count": 39,
     "metadata": {
      "tags": []
     },
     "output_type": "execute_result"
    },
    {
     "data": {
      "image/png": "[encoded data removed]",
      "text/plain": [
       "<Figure size 216x288 with 1 Axes>"
      ]
     },
     "metadata": {
      "tags": []
     },
     "output_type": "display_data"
    }
   ],
   "source": [
    "fig_dims = (3, 4)\n",
    "fig, ax = plt.subplots(figsize=fig_dims)\n",
    "sns.barplot('Transmission','Price',data=pr,ax=ax)"
   ]
  },
  {
   "cell_type": "code",
   "execution_count": 40,
   "metadata": {
    "colab": {
     "base_uri": "https://localhost:8080/",
     "height": 296
    },
    "colab_type": "code",
    "executionInfo": {
     "elapsed": 1740,
     "status": "ok",
     "timestamp": 1596300182051,
     "user": {
      "displayName": "Vaishnavi Rai",
      "photoUrl": "https://lh3.googleusercontent.com/-muQ4WjNuOb8/AAAAAAAAAAI/AAAAAAAAF5A/L9I9qOt7G_8/s64/photo.jpg",
      "userId": "13557949291054352338"
     },
     "user_tz": -330
    },
    "id": "iU-mKW4e3u-_",
    "outputId": "396bb09b-96c7-4a58-fa7f-33830084348f"
   },
   "outputs": [
    {
     "data": {
      "text/plain": [
       "<matplotlib.axes._subplots.AxesSubplot at 0x7f0b2442d4e0>"
      ]
     },
     "execution_count": 40,
     "metadata": {
      "tags": []
     },
     "output_type": "execute_result"
    },
    {
     "data": {
      "image/png": "[encoded data removed]",
      "text/plain": [
       "<Figure size 936x288 with 1 Axes>"
      ]
     },
     "metadata": {
      "tags": []
     },
     "output_type": "display_data"
    }
   ],
   "source": [
    "fig_dims = (13, 4)\n",
    "fig, ax = plt.subplots(figsize=fig_dims)\n",
    "sns.barplot('Seats','Price',data=pr,ax=ax)"
   ]
  },
  {
   "cell_type": "code",
   "execution_count": 41,
   "metadata": {
    "colab": {
     "base_uri": "https://localhost:8080/",
     "height": 297
    },
    "colab_type": "code",
    "executionInfo": {
     "elapsed": 1881,
     "status": "ok",
     "timestamp": 1596300186779,
     "user": {
      "displayName": "Vaishnavi Rai",
      "photoUrl": "https://lh3.googleusercontent.com/-muQ4WjNuOb8/AAAAAAAAAAI/AAAAAAAAF5A/L9I9qOt7G_8/s64/photo.jpg",
      "userId": "13557949291054352338"
     },
     "user_tz": -330
    },
    "id": "hcI3Op6K3u_B",
    "outputId": "0a1907e2-6162-4cb0-a117-43302c13bbb7"
   },
   "outputs": [
    {
     "data": {
      "text/plain": [
       "<matplotlib.axes._subplots.AxesSubplot at 0x7f0b243f1e80>"
      ]
     },
     "execution_count": 41,
     "metadata": {
      "tags": []
     },
     "output_type": "execute_result"
    },
    {
     "data": {
      "image/png": "[encoded data removed]",
      "text/plain": [
       "<Figure size 432x288 with 1 Axes>"
      ]
     },
     "metadata": {
      "tags": []
     },
     "output_type": "display_data"
    }
   ],
   "source": [
    "sns.scatterplot('Kilometers_Driven','Price',data=pr)"
   ]
  },
  {
   "cell_type": "code",
   "execution_count": 42,
   "metadata": {
    "colab": {
     "base_uri": "https://localhost:8080/",
     "height": 351
    },
    "colab_type": "code",
    "executionInfo": {
     "elapsed": 14500,
     "status": "ok",
     "timestamp": 1596300204314,
     "user": {
      "displayName": "Vaishnavi Rai",
      "photoUrl": "https://lh3.googleusercontent.com/-muQ4WjNuOb8/AAAAAAAAAAI/AAAAAAAAF5A/L9I9qOt7G_8/s64/photo.jpg",
      "userId": "13557949291054352338"
     },
     "user_tz": -330
    },
    "id": "IPBJbQTy3u_E",
    "outputId": "1e5d735e-1af5-433b-86d2-3d466264692c"
   },
   "outputs": [
    {
     "data": {
      "text/plain": [
       "<matplotlib.axes._subplots.AxesSubplot at 0x7f0b24396898>"
      ]
     },
     "execution_count": 42,
     "metadata": {
      "tags": []
     },
     "output_type": "execute_result"
    },
    {
     "data": {
      "image/png": "[encoded data removed]",
      "text/plain": [
       "<Figure size 1080x360 with 1 Axes>"
      ]
     },
     "metadata": {
      "tags": []
     },
     "output_type": "display_data"
    }
   ],
   "source": [
    "fig_dims = (15, 5)\n",
    "fig, ax = plt.subplots(figsize=fig_dims)\n",
    "sns.scatterplot('Mileage','Price',data=pr,ax=ax)"
   ]
  },
  {
   "cell_type": "code",
   "execution_count": 43,
   "metadata": {
    "colab": {
     "base_uri": "https://localhost:8080/",
     "height": 296
    },
    "colab_type": "code",
    "executionInfo": {
     "elapsed": 12006,
     "status": "ok",
     "timestamp": 1596300218784,
     "user": {
      "displayName": "Vaishnavi Rai",
      "photoUrl": "https://lh3.googleusercontent.com/-muQ4WjNuOb8/AAAAAAAAAAI/AAAAAAAAF5A/L9I9qOt7G_8/s64/photo.jpg",
      "userId": "13557949291054352338"
     },
     "user_tz": -330
    },
    "id": "T3uWkjKv3u_G",
    "outputId": "8044bcf6-3a16-4760-cf21-afdd69654761"
   },
   "outputs": [
    {
     "data": {
      "text/plain": [
       "<matplotlib.axes._subplots.AxesSubplot at 0x7f0b24380e80>"
      ]
     },
     "execution_count": 43,
     "metadata": {
      "tags": []
     },
     "output_type": "execute_result"
    },
    {
     "data": {
      "image/png": "[encoded data removed]",
      "text/plain": [
       "<Figure size 936x288 with 1 Axes>"
      ]
     },
     "metadata": {
      "tags": []
     },
     "output_type": "display_data"
    }
   ],
   "source": [
    "fig_dims = (13, 4)\n",
    "fig, ax = plt.subplots(figsize=fig_dims)\n",
    "sns.scatterplot('Power','Price',data=pr)"
   ]
  },
  {
   "cell_type": "code",
   "execution_count": 44,
   "metadata": {
    "colab": {
     "base_uri": "https://localhost:8080/",
     "height": 296
    },
    "colab_type": "code",
    "executionInfo": {
     "elapsed": 6141,
     "status": "ok",
     "timestamp": 1596300227077,
     "user": {
      "displayName": "Vaishnavi Rai",
      "photoUrl": "https://lh3.googleusercontent.com/-muQ4WjNuOb8/AAAAAAAAAAI/AAAAAAAAF5A/L9I9qOt7G_8/s64/photo.jpg",
      "userId": "13557949291054352338"
     },
     "user_tz": -330
    },
    "id": "Em13MsKi3u_I",
    "outputId": "a7f8bb1e-3b2a-4df0-f4e4-062ca979b554"
   },
   "outputs": [
    {
     "data": {
      "text/plain": [
       "<matplotlib.axes._subplots.AxesSubplot at 0x7f0b23b0cb38>"
      ]
     },
     "execution_count": 44,
     "metadata": {
      "tags": []
     },
     "output_type": "execute_result"
    },
    {
     "data": {
      "image/png": "[encoded data removed]",
      "text/plain": [
       "<Figure size 936x288 with 1 Axes>"
      ]
     },
     "metadata": {
      "tags": []
     },
     "output_type": "display_data"
    }
   ],
   "source": [
    "fig_dims = (13, 4)\n",
    "fig, ax = plt.subplots(figsize=fig_dims)\n",
    "sns.scatterplot('Engine','Price',data=pr)"
   ]
  },
  {
   "cell_type": "markdown",
   "metadata": {
    "colab_type": "text",
    "id": "WASkQf1-3u_K"
   },
   "source": [
    "## COUNTING THE VALUES THAT NEED TO BE REFERENCED AND REMOVING THE OUTLIERS\n"
   ]
  },
  {
   "cell_type": "code",
   "execution_count": 45,
   "metadata": {
    "colab": {
     "base_uri": "https://localhost:8080/",
     "height": 296
    },
    "colab_type": "code",
    "executionInfo": {
     "elapsed": 1437,
     "status": "ok",
     "timestamp": 1596300235117,
     "user": {
      "displayName": "Vaishnavi Rai",
      "photoUrl": "https://lh3.googleusercontent.com/-muQ4WjNuOb8/AAAAAAAAAAI/AAAAAAAAF5A/L9I9qOt7G_8/s64/photo.jpg",
      "userId": "13557949291054352338"
     },
     "user_tz": -330
    },
    "id": "KRh8c8Em3u_L",
    "outputId": "fb8f9c73-a0ce-4fe7-9832-6cb9b8fe9d73"
   },
   "outputs": [
    {
     "data": {
      "text/plain": [
       "<matplotlib.axes._subplots.AxesSubplot at 0x7f0b23987ef0>"
      ]
     },
     "execution_count": 45,
     "metadata": {
      "tags": []
     },
     "output_type": "execute_result"
    },
    {
     "data": {
      "image/png": "[encoded data removed]",
      "text/plain": [
       "<Figure size 936x288 with 1 Axes>"
      ]
     },
     "metadata": {
      "tags": []
     },
     "output_type": "display_data"
    }
   ],
   "source": [
    "fig_dims = (13, 4)\n",
    "fig, ax = plt.subplots(figsize=fig_dims)\n",
    "sns.countplot('Location',data=pr)"
   ]
  },
  {
   "cell_type": "code",
   "execution_count": 46,
   "metadata": {
    "colab": {
     "base_uri": "https://localhost:8080/",
     "height": 296
    },
    "colab_type": "code",
    "executionInfo": {
     "elapsed": 1544,
     "status": "ok",
     "timestamp": 1596300240206,
     "user": {
      "displayName": "Vaishnavi Rai",
      "photoUrl": "https://lh3.googleusercontent.com/-muQ4WjNuOb8/AAAAAAAAAAI/AAAAAAAAF5A/L9I9qOt7G_8/s64/photo.jpg",
      "userId": "13557949291054352338"
     },
     "user_tz": -330
    },
    "id": "PkaC81_C3u_N",
    "outputId": "29eeb9d9-bceb-4705-e463-bd604d3b92ef"
   },
   "outputs": [
    {
     "data": {
      "text/plain": [
       "<matplotlib.axes._subplots.AxesSubplot at 0x7f0b23f4c4e0>"
      ]
     },
     "execution_count": 46,
     "metadata": {
      "tags": []
     },
     "output_type": "execute_result"
    },
    {
     "data": {
      "image/png": "[encoded data removed]",
      "text/plain": [
       "<Figure size 936x288 with 1 Axes>"
      ]
     },
     "metadata": {
      "tags": []
     },
     "output_type": "display_data"
    }
   ],
   "source": [
    "fig_dims = (13, 4)\n",
    "fig, ax = plt.subplots(figsize=fig_dims)\n",
    "sns.countplot('Year',data=pr)"
   ]
  },
  {
   "cell_type": "code",
   "execution_count": 47,
   "metadata": {
    "colab": {
     "base_uri": "https://localhost:8080/",
     "height": 296
    },
    "colab_type": "code",
    "executionInfo": {
     "elapsed": 1721,
     "status": "ok",
     "timestamp": 1596300244775,
     "user": {
      "displayName": "Vaishnavi Rai",
      "photoUrl": "https://lh3.googleusercontent.com/-muQ4WjNuOb8/AAAAAAAAAAI/AAAAAAAAF5A/L9I9qOt7G_8/s64/photo.jpg",
      "userId": "13557949291054352338"
     },
     "user_tz": -330
    },
    "id": "UXZOu3t93u_P",
    "outputId": "fff0df5d-9253-46b8-c581-f505a482ada5"
   },
   "outputs": [
    {
     "data": {
      "text/plain": [
       "<matplotlib.axes._subplots.AxesSubplot at 0x7f0b23874160>"
      ]
     },
     "execution_count": 47,
     "metadata": {
      "tags": []
     },
     "output_type": "execute_result"
    },
    {
     "data": {
      "image/png": "[encoded data removed]",
      "text/plain": [
       "<Figure size 936x288 with 1 Axes>"
      ]
     },
     "metadata": {
      "tags": []
     },
     "output_type": "display_data"
    }
   ],
   "source": [
    "fig_dims = (13, 4)\n",
    "fig, ax = plt.subplots(figsize=fig_dims)\n",
    "sns.scatterplot('Year','Price',data=pr)"
   ]
  },
  {
   "cell_type": "code",
   "execution_count": 48,
   "metadata": {
    "colab": {
     "base_uri": "https://localhost:8080/",
     "height": 297
    },
    "colab_type": "code",
    "executionInfo": {
     "elapsed": 1527,
     "status": "ok",
     "timestamp": 1596300249776,
     "user": {
      "displayName": "Vaishnavi Rai",
      "photoUrl": "https://lh3.googleusercontent.com/-muQ4WjNuOb8/AAAAAAAAAAI/AAAAAAAAF5A/L9I9qOt7G_8/s64/photo.jpg",
      "userId": "13557949291054352338"
     },
     "user_tz": -330
    },
    "id": "dTXjpb5x3u_S",
    "outputId": "1995c68c-9c86-49d6-950e-d30a73f94693"
   },
   "outputs": [
    {
     "data": {
      "text/plain": [
       "<matplotlib.axes._subplots.AxesSubplot at 0x7f0b23883f28>"
      ]
     },
     "execution_count": 48,
     "metadata": {
      "tags": []
     },
     "output_type": "execute_result"
    },
    {
     "data": {
      "image/png": "[encoded data removed]",
      "text/plain": [
       "<Figure size 360x288 with 1 Axes>"
      ]
     },
     "metadata": {
      "tags": []
     },
     "output_type": "display_data"
    }
   ],
   "source": [
    "fig_dims = (5, 4)\n",
    "fig, ax = plt.subplots(figsize=fig_dims)\n",
    "sns.countplot('Owner_Type',data=pr)"
   ]
  },
  {
   "cell_type": "code",
   "execution_count": 49,
   "metadata": {
    "colab": {
     "base_uri": "https://localhost:8080/",
     "height": 296
    },
    "colab_type": "code",
    "executionInfo": {
     "elapsed": 1646,
     "status": "ok",
     "timestamp": 1596300254386,
     "user": {
      "displayName": "Vaishnavi Rai",
      "photoUrl": "https://lh3.googleusercontent.com/-muQ4WjNuOb8/AAAAAAAAAAI/AAAAAAAAF5A/L9I9qOt7G_8/s64/photo.jpg",
      "userId": "13557949291054352338"
     },
     "user_tz": -330
    },
    "id": "f2QRlQG03u_U",
    "outputId": "eb46b856-2994-42b4-da4c-238829fa2654"
   },
   "outputs": [
    {
     "data": {
      "text/plain": [
       "<matplotlib.axes._subplots.AxesSubplot at 0x7f0b237c7710>"
      ]
     },
     "execution_count": 49,
     "metadata": {
      "tags": []
     },
     "output_type": "execute_result"
    },
    {
     "data": {
      "image/png": "[encoded data removed]",
      "text/plain": [
       "<Figure size 288x288 with 1 Axes>"
      ]
     },
     "metadata": {
      "tags": []
     },
     "output_type": "display_data"
    }
   ],
   "source": [
    "fig_dims = (4, 4)\n",
    "fig, ax = plt.subplots(figsize=fig_dims)\n",
    "sns.countplot('Transmission',data=pr)"
   ]
  },
  {
   "cell_type": "code",
   "execution_count": 50,
   "metadata": {
    "colab": {
     "base_uri": "https://localhost:8080/",
     "height": 296
    },
    "colab_type": "code",
    "executionInfo": {
     "elapsed": 1766,
     "status": "ok",
     "timestamp": 1596300259012,
     "user": {
      "displayName": "Vaishnavi Rai",
      "photoUrl": "https://lh3.googleusercontent.com/-muQ4WjNuOb8/AAAAAAAAAAI/AAAAAAAAF5A/L9I9qOt7G_8/s64/photo.jpg",
      "userId": "13557949291054352338"
     },
     "user_tz": -330
    },
    "id": "zCCLKvcp3u_W",
    "outputId": "aca10862-6444-4490-c504-a4e90bfbd41f"
   },
   "outputs": [
    {
     "data": {
      "text/plain": [
       "<matplotlib.axes._subplots.AxesSubplot at 0x7f0b2378f550>"
      ]
     },
     "execution_count": 50,
     "metadata": {
      "tags": []
     },
     "output_type": "execute_result"
    },
    {
     "data": {
      "image/png": "[encoded data removed]",
      "text/plain": [
       "<Figure size 936x288 with 1 Axes>"
      ]
     },
     "metadata": {
      "tags": []
     },
     "output_type": "display_data"
    }
   ],
   "source": [
    "fig_dims = (13, 4)\n",
    "fig, ax = plt.subplots(figsize=fig_dims)\n",
    "sns.boxplot('Price',data=pr,ax=ax)"
   ]
  },
  {
   "cell_type": "markdown",
   "metadata": {
    "colab_type": "text",
    "id": "peJ0Da0_3u_Y"
   },
   "source": [
    "## DATA PREPROCESSING"
   ]
  },
  {
   "cell_type": "code",
   "execution_count": 51,
   "metadata": {
    "colab": {
     "base_uri": "https://localhost:8080/",
     "height": 235
    },
    "colab_type": "code",
    "executionInfo": {
     "elapsed": 1397,
     "status": "ok",
     "timestamp": 1596300263451,
     "user": {
      "displayName": "Vaishnavi Rai",
      "photoUrl": "https://lh3.googleusercontent.com/-muQ4WjNuOb8/AAAAAAAAAAI/AAAAAAAAF5A/L9I9qOt7G_8/s64/photo.jpg",
      "userId": "13557949291054352338"
     },
     "user_tz": -330
    },
    "id": "6R9iUVVS3u_Z",
    "outputId": "61921962-f8e1-4281-d067-73cc58e462ba"
   },
   "outputs": [
    {
     "data": {
      "text/plain": [
       "Name                  0\n",
       "Location              0\n",
       "Year                  0\n",
       "Kilometers_Driven     0\n",
       "Fuel_Type             0\n",
       "Transmission          0\n",
       "Owner_Type            0\n",
       "Mileage               2\n",
       "Engine               36\n",
       "Power                36\n",
       "Seats                42\n",
       "Price                 0\n",
       "dtype: int64"
      ]
     },
     "execution_count": 51,
     "metadata": {
      "tags": []
     },
     "output_type": "execute_result"
    }
   ],
   "source": [
    "# To find the no of missing values in each attribute of data\n",
    "pr.isnull().sum()"
   ]
  },
  {
   "cell_type": "code",
   "execution_count": 52,
   "metadata": {
    "colab": {
     "base_uri": "https://localhost:8080/",
     "height": 34
    },
    "colab_type": "code",
    "executionInfo": {
     "elapsed": 1286,
     "status": "ok",
     "timestamp": 1596300267602,
     "user": {
      "displayName": "Vaishnavi Rai",
      "photoUrl": "https://lh3.googleusercontent.com/-muQ4WjNuOb8/AAAAAAAAAAI/AAAAAAAAF5A/L9I9qOt7G_8/s64/photo.jpg",
      "userId": "13557949291054352338"
     },
     "user_tz": -330
    },
    "id": "ZnSEE2Aq3u_b",
    "outputId": "e8a37ca3-87a3-4af2-e273-43b407bcfa36"
   },
   "outputs": [
    {
     "data": {
      "text/plain": [
       "(6013, 12)"
      ]
     },
     "execution_count": 52,
     "metadata": {
      "tags": []
     },
     "output_type": "execute_result"
    }
   ],
   "source": [
    "# The original shape of dataset\n",
    "pr.shape"
   ]
  },
  {
   "cell_type": "code",
   "execution_count": 53,
   "metadata": {
    "colab": {},
    "colab_type": "code",
    "executionInfo": {
     "elapsed": 1718,
     "status": "ok",
     "timestamp": 1596300273747,
     "user": {
      "displayName": "Vaishnavi Rai",
      "photoUrl": "https://lh3.googleusercontent.com/-muQ4WjNuOb8/AAAAAAAAAAI/AAAAAAAAF5A/L9I9qOt7G_8/s64/photo.jpg",
      "userId": "13557949291054352338"
     },
     "user_tz": -330
    },
    "id": "Du7GyhGb3u_e"
   },
   "outputs": [],
   "source": [
    "#  To drop the rows having missing data\n",
    "pr.dropna(how='any',inplace=True)\n"
   ]
  },
  {
   "cell_type": "code",
   "execution_count": 54,
   "metadata": {
    "colab": {
     "base_uri": "https://localhost:8080/",
     "height": 235
    },
    "colab_type": "code",
    "executionInfo": {
     "elapsed": 1561,
     "status": "ok",
     "timestamp": 1596300278350,
     "user": {
      "displayName": "Vaishnavi Rai",
      "photoUrl": "https://lh3.googleusercontent.com/-muQ4WjNuOb8/AAAAAAAAAAI/AAAAAAAAF5A/L9I9qOt7G_8/s64/photo.jpg",
      "userId": "13557949291054352338"
     },
     "user_tz": -330
    },
    "id": "minOqPlt3u_g",
    "outputId": "35244e16-a2f8-461f-f2ad-00d78f4443db"
   },
   "outputs": [
    {
     "data": {
      "text/plain": [
       "Name                 0\n",
       "Location             0\n",
       "Year                 0\n",
       "Kilometers_Driven    0\n",
       "Fuel_Type            0\n",
       "Transmission         0\n",
       "Owner_Type           0\n",
       "Mileage              0\n",
       "Engine               0\n",
       "Power                0\n",
       "Seats                0\n",
       "Price                0\n",
       "dtype: int64"
      ]
     },
     "execution_count": 54,
     "metadata": {
      "tags": []
     },
     "output_type": "execute_result"
    }
   ],
   "source": [
    "pr.isnull().sum()"
   ]
  },
  {
   "cell_type": "code",
   "execution_count": 55,
   "metadata": {
    "colab": {
     "base_uri": "https://localhost:8080/",
     "height": 34
    },
    "colab_type": "code",
    "executionInfo": {
     "elapsed": 1706,
     "status": "ok",
     "timestamp": 1596300283336,
     "user": {
      "displayName": "Vaishnavi Rai",
      "photoUrl": "https://lh3.googleusercontent.com/-muQ4WjNuOb8/AAAAAAAAAAI/AAAAAAAAF5A/L9I9qOt7G_8/s64/photo.jpg",
      "userId": "13557949291054352338"
     },
     "user_tz": -330
    },
    "id": "hY9FMnNh3u_j",
    "outputId": "c712d6fd-0038-4017-b543-b9b6a47920ec"
   },
   "outputs": [
    {
     "data": {
      "text/plain": [
       "5969"
      ]
     },
     "execution_count": 55,
     "metadata": {
      "tags": []
     },
     "output_type": "execute_result"
    }
   ],
   "source": [
    "# Removing the cars which are of extremely high price\n",
    "pr = pr[pr['Name'] != 'Ambassador Classic Nova Diesel']\n",
    "pr = pr[pr['Name'] != 'Lamborghini Gallardo Coupe']\n",
    "pr = pr[pr['Name'] != 'Force One LX 4x4']\n",
    "pr = pr[pr['Name'] != 'Force One LX ABS 7 Seating']\n",
    "pr = pr[pr['Name'] != 'Smart Fortwo CDI AT']\n",
    "len(pr)"
   ]
  },
  {
   "cell_type": "markdown",
   "metadata": {
    "colab_type": "text",
    "id": "unBl7IAn3u_l"
   },
   "source": [
    "- Cars listed should be driven more than 999 Km and less than 700000 Km.\n"
   ]
  },
  {
   "cell_type": "code",
   "execution_count": 56,
   "metadata": {
    "colab": {},
    "colab_type": "code",
    "executionInfo": {
     "elapsed": 1216,
     "status": "ok",
     "timestamp": 1596300289391,
     "user": {
      "displayName": "Vaishnavi Rai",
      "photoUrl": "https://lh3.googleusercontent.com/-muQ4WjNuOb8/AAAAAAAAAAI/AAAAAAAAF5A/L9I9qOt7G_8/s64/photo.jpg",
      "userId": "13557949291054352338"
     },
     "user_tz": -330
    },
    "id": "s4CL5bG53u_m"
   },
   "outputs": [],
   "source": [
    "pr = pr[pr['Kilometers_Driven'] < 700000]\n",
    "pr = pr[pr['Kilometers_Driven'] > 999]"
   ]
  },
  {
   "cell_type": "markdown",
   "metadata": {
    "colab_type": "text",
    "id": "il4fy3z23u_p"
   },
   "source": [
    "- Taking into consideration only those cars which are powered without electricity, because our country does not have much electric charging stations.\n"
   ]
  },
  {
   "cell_type": "code",
   "execution_count": 57,
   "metadata": {
    "colab": {
     "base_uri": "https://localhost:8080/",
     "height": 34
    },
    "colab_type": "code",
    "executionInfo": {
     "elapsed": 1377,
     "status": "ok",
     "timestamp": 1596300294478,
     "user": {
      "displayName": "Vaishnavi Rai",
      "photoUrl": "https://lh3.googleusercontent.com/-muQ4WjNuOb8/AAAAAAAAAAI/AAAAAAAAF5A/L9I9qOt7G_8/s64/photo.jpg",
      "userId": "13557949291054352338"
     },
     "user_tz": -330
    },
    "id": "YhcJRhGN3u_p",
    "outputId": "f830aee9-2e4e-49b6-d332-93a7f15aa81f"
   },
   "outputs": [
    {
     "data": {
      "text/plain": [
       "5964"
      ]
     },
     "execution_count": 57,
     "metadata": {
      "tags": []
     },
     "output_type": "execute_result"
    }
   ],
   "source": [
    "pr = pr[pr['Fuel_Type'] != 'Electric']\n",
    "len(pr)"
   ]
  },
  {
   "cell_type": "code",
   "execution_count": 59,
   "metadata": {
    "colab": {},
    "colab_type": "code",
    "executionInfo": {
     "elapsed": 1610,
     "status": "ok",
     "timestamp": 1596300302308,
     "user": {
      "displayName": "Vaishnavi Rai",
      "photoUrl": "https://lh3.googleusercontent.com/-muQ4WjNuOb8/AAAAAAAAAAI/AAAAAAAAF5A/L9I9qOt7G_8/s64/photo.jpg",
      "userId": "13557949291054352338"
     },
     "user_tz": -330
    },
    "id": "sQdcDems3u_r"
   },
   "outputs": [],
   "source": [
    "# Forming a dataset containing both training and testing data for preprocessing of data \n",
    "tr=pr.append(prtest,ignore_index=True,sort=False)"
   ]
  },
  {
   "cell_type": "code",
   "execution_count": 60,
   "metadata": {
    "colab": {
     "base_uri": "https://localhost:8080/",
     "height": 279
    },
    "colab_type": "code",
    "executionInfo": {
     "elapsed": 1027,
     "status": "ok",
     "timestamp": 1596300306621,
     "user": {
      "displayName": "Vaishnavi Rai",
      "photoUrl": "https://lh3.googleusercontent.com/-muQ4WjNuOb8/AAAAAAAAAAI/AAAAAAAAF5A/L9I9qOt7G_8/s64/photo.jpg",
      "userId": "13557949291054352338"
     },
     "user_tz": -330
    },
    "id": "cpqX1cfS3u_u",
    "outputId": "79565306-719b-490d-9119-e246f6c0888d"
   },
   "outputs": [
    {
     "data": {
      "text/html": [
       "<div>\n",
       "<style scoped>\n",
       "    .dataframe tbody tr th:only-of-type {\n",
       "        vertical-align: middle;\n",
       "    }\n",
       "\n",
       "    .dataframe tbody tr th {\n",
       "        vertical-align: top;\n",
       "    }\n",
       "\n",
       "    .dataframe thead th {\n",
       "        text-align: right;\n",
       "    }\n",
       "</style>\n",
       "<table border=\"1\" class=\"dataframe\">\n",
       "  <thead>\n",
       "    <tr style=\"text-align: right;\">\n",
       "      <th></th>\n",
       "      <th>Name</th>\n",
       "      <th>Location</th>\n",
       "      <th>Year</th>\n",
       "      <th>Kilometers_Driven</th>\n",
       "      <th>Fuel_Type</th>\n",
       "      <th>Transmission</th>\n",
       "      <th>Owner_Type</th>\n",
       "      <th>Mileage</th>\n",
       "      <th>Engine</th>\n",
       "      <th>Power</th>\n",
       "      <th>Seats</th>\n",
       "      <th>Price</th>\n",
       "    </tr>\n",
       "  </thead>\n",
       "  <tbody>\n",
       "    <tr>\n",
       "      <th>0</th>\n",
       "      <td>Maruti Wagon R LXI CNG</td>\n",
       "      <td>Mumbai</td>\n",
       "      <td>2010</td>\n",
       "      <td>72000</td>\n",
       "      <td>CNG</td>\n",
       "      <td>Manual</td>\n",
       "      <td>First</td>\n",
       "      <td>26.6 km/kg</td>\n",
       "      <td>998 CC</td>\n",
       "      <td>58.16 bhp</td>\n",
       "      <td>5.0</td>\n",
       "      <td>1.75</td>\n",
       "    </tr>\n",
       "    <tr>\n",
       "      <th>1</th>\n",
       "      <td>Hyundai Creta 1.6 CRDi SX Option</td>\n",
       "      <td>Pune</td>\n",
       "      <td>2015</td>\n",
       "      <td>41000</td>\n",
       "      <td>Diesel</td>\n",
       "      <td>Manual</td>\n",
       "      <td>First</td>\n",
       "      <td>19.67 kmpl</td>\n",
       "      <td>1582 CC</td>\n",
       "      <td>126.2 bhp</td>\n",
       "      <td>5.0</td>\n",
       "      <td>12.50</td>\n",
       "    </tr>\n",
       "    <tr>\n",
       "      <th>2</th>\n",
       "      <td>Honda Jazz V</td>\n",
       "      <td>Chennai</td>\n",
       "      <td>2011</td>\n",
       "      <td>46000</td>\n",
       "      <td>Petrol</td>\n",
       "      <td>Manual</td>\n",
       "      <td>First</td>\n",
       "      <td>18.2 kmpl</td>\n",
       "      <td>1199 CC</td>\n",
       "      <td>88.7 bhp</td>\n",
       "      <td>5.0</td>\n",
       "      <td>4.50</td>\n",
       "    </tr>\n",
       "    <tr>\n",
       "      <th>3</th>\n",
       "      <td>Maruti Ertiga VDI</td>\n",
       "      <td>Chennai</td>\n",
       "      <td>2012</td>\n",
       "      <td>87000</td>\n",
       "      <td>Diesel</td>\n",
       "      <td>Manual</td>\n",
       "      <td>First</td>\n",
       "      <td>20.77 kmpl</td>\n",
       "      <td>1248 CC</td>\n",
       "      <td>88.76 bhp</td>\n",
       "      <td>7.0</td>\n",
       "      <td>6.00</td>\n",
       "    </tr>\n",
       "    <tr>\n",
       "      <th>4</th>\n",
       "      <td>Audi A4 New 2.0 TDI Multitronic</td>\n",
       "      <td>Coimbatore</td>\n",
       "      <td>2013</td>\n",
       "      <td>40670</td>\n",
       "      <td>Diesel</td>\n",
       "      <td>Automatic</td>\n",
       "      <td>Second</td>\n",
       "      <td>15.2 kmpl</td>\n",
       "      <td>1968 CC</td>\n",
       "      <td>140.8 bhp</td>\n",
       "      <td>5.0</td>\n",
       "      <td>17.74</td>\n",
       "    </tr>\n",
       "  </tbody>\n",
       "</table>\n",
       "</div>"
      ],
      "text/plain": [
       "                               Name    Location  Year  ...      Power Seats  Price\n",
       "0            Maruti Wagon R LXI CNG      Mumbai  2010  ...  58.16 bhp   5.0   1.75\n",
       "1  Hyundai Creta 1.6 CRDi SX Option        Pune  2015  ...  126.2 bhp   5.0  12.50\n",
       "2                      Honda Jazz V     Chennai  2011  ...   88.7 bhp   5.0   4.50\n",
       "3                 Maruti Ertiga VDI     Chennai  2012  ...  88.76 bhp   7.0   6.00\n",
       "4   Audi A4 New 2.0 TDI Multitronic  Coimbatore  2013  ...  140.8 bhp   5.0  17.74\n",
       "\n",
       "[5 rows x 12 columns]"
      ]
     },
     "execution_count": 60,
     "metadata": {
      "tags": []
     },
     "output_type": "execute_result"
    }
   ],
   "source": [
    "tr.head()"
   ]
  },
  {
   "cell_type": "code",
   "execution_count": 61,
   "metadata": {
    "colab": {},
    "colab_type": "code",
    "executionInfo": {
     "elapsed": 1855,
     "status": "ok",
     "timestamp": 1596300311280,
     "user": {
      "displayName": "Vaishnavi Rai",
      "photoUrl": "https://lh3.googleusercontent.com/-muQ4WjNuOb8/AAAAAAAAAAI/AAAAAAAAF5A/L9I9qOt7G_8/s64/photo.jpg",
      "userId": "13557949291054352338"
     },
     "user_tz": -330
    },
    "id": "gTdf3KE63u_v"
   },
   "outputs": [],
   "source": [
    "# Creating a new variable 'Car age ' containing the age of car\n",
    "tr['Car age']=2020-tr.Year"
   ]
  },
  {
   "cell_type": "code",
   "execution_count": 62,
   "metadata": {
    "colab": {},
    "colab_type": "code",
    "executionInfo": {
     "elapsed": 1428,
     "status": "ok",
     "timestamp": 1596300315413,
     "user": {
      "displayName": "Vaishnavi Rai",
      "photoUrl": "https://lh3.googleusercontent.com/-muQ4WjNuOb8/AAAAAAAAAAI/AAAAAAAAF5A/L9I9qOt7G_8/s64/photo.jpg",
      "userId": "13557949291054352338"
     },
     "user_tz": -330
    },
    "id": "j9NrWnrS3u_x"
   },
   "outputs": [],
   "source": [
    "# Converting the string variables into numerical.\n",
    "tr.Engine=tr.Engine.apply(lambda x: str(x).split(\" \")[0]).astype(float)"
   ]
  },
  {
   "cell_type": "code",
   "execution_count": 63,
   "metadata": {
    "colab": {},
    "colab_type": "code",
    "executionInfo": {
     "elapsed": 949,
     "status": "ok",
     "timestamp": 1596300318420,
     "user": {
      "displayName": "Vaishnavi Rai",
      "photoUrl": "https://lh3.googleusercontent.com/-muQ4WjNuOb8/AAAAAAAAAAI/AAAAAAAAF5A/L9I9qOt7G_8/s64/photo.jpg",
      "userId": "13557949291054352338"
     },
     "user_tz": -330
    },
    "id": "g14Mvx8R3u_0"
   },
   "outputs": [],
   "source": [
    "tr.Mileage=tr.Mileage.apply(lambda x: str(x).split(\" \")[0]).astype(float)"
   ]
  },
  {
   "cell_type": "code",
   "execution_count": 64,
   "metadata": {
    "colab": {},
    "colab_type": "code",
    "executionInfo": {
     "elapsed": 1499,
     "status": "ok",
     "timestamp": 1596300321968,
     "user": {
      "displayName": "Vaishnavi Rai",
      "photoUrl": "https://lh3.googleusercontent.com/-muQ4WjNuOb8/AAAAAAAAAAI/AAAAAAAAF5A/L9I9qOt7G_8/s64/photo.jpg",
      "userId": "13557949291054352338"
     },
     "user_tz": -330
    },
    "id": "dUGBNucJ3u_1"
   },
   "outputs": [],
   "source": [
    "tr.Power=tr.Power.replace('null bhp','0 ')"
   ]
  },
  {
   "cell_type": "code",
   "execution_count": 65,
   "metadata": {
    "colab": {},
    "colab_type": "code",
    "executionInfo": {
     "elapsed": 1872,
     "status": "ok",
     "timestamp": 1596300326331,
     "user": {
      "displayName": "Vaishnavi Rai",
      "photoUrl": "https://lh3.googleusercontent.com/-muQ4WjNuOb8/AAAAAAAAAAI/AAAAAAAAF5A/L9I9qOt7G_8/s64/photo.jpg",
      "userId": "13557949291054352338"
     },
     "user_tz": -330
    },
    "id": "4woabM5g3u_5"
   },
   "outputs": [],
   "source": [
    "tr.Power=tr.Power.apply(lambda x: str(x).split(\" \")[0]).astype(float)"
   ]
  },
  {
   "cell_type": "code",
   "execution_count": 66,
   "metadata": {
    "colab": {
     "base_uri": "https://localhost:8080/",
     "height": 246
    },
    "colab_type": "code",
    "executionInfo": {
     "elapsed": 1004,
     "status": "ok",
     "timestamp": 1596300328334,
     "user": {
      "displayName": "Vaishnavi Rai",
      "photoUrl": "https://lh3.googleusercontent.com/-muQ4WjNuOb8/AAAAAAAAAAI/AAAAAAAAF5A/L9I9qOt7G_8/s64/photo.jpg",
      "userId": "13557949291054352338"
     },
     "user_tz": -330
    },
    "id": "lSJ-FzLQ3u_7",
    "outputId": "f82dbf38-53cd-4a71-8569-a4ddb3218b75"
   },
   "outputs": [
    {
     "data": {
      "text/html": [
       "<div>\n",
       "<style scoped>\n",
       "    .dataframe tbody tr th:only-of-type {\n",
       "        vertical-align: middle;\n",
       "    }\n",
       "\n",
       "    .dataframe tbody tr th {\n",
       "        vertical-align: top;\n",
       "    }\n",
       "\n",
       "    .dataframe thead th {\n",
       "        text-align: right;\n",
       "    }\n",
       "</style>\n",
       "<table border=\"1\" class=\"dataframe\">\n",
       "  <thead>\n",
       "    <tr style=\"text-align: right;\">\n",
       "      <th></th>\n",
       "      <th>Name</th>\n",
       "      <th>Location</th>\n",
       "      <th>Year</th>\n",
       "      <th>Kilometers_Driven</th>\n",
       "      <th>Fuel_Type</th>\n",
       "      <th>Transmission</th>\n",
       "      <th>Owner_Type</th>\n",
       "      <th>Mileage</th>\n",
       "      <th>Engine</th>\n",
       "      <th>Power</th>\n",
       "      <th>Seats</th>\n",
       "      <th>Price</th>\n",
       "      <th>Car age</th>\n",
       "    </tr>\n",
       "  </thead>\n",
       "  <tbody>\n",
       "    <tr>\n",
       "      <th>0</th>\n",
       "      <td>Maruti Wagon R LXI CNG</td>\n",
       "      <td>Mumbai</td>\n",
       "      <td>2010</td>\n",
       "      <td>72000</td>\n",
       "      <td>CNG</td>\n",
       "      <td>Manual</td>\n",
       "      <td>First</td>\n",
       "      <td>26.60</td>\n",
       "      <td>998.0</td>\n",
       "      <td>58.16</td>\n",
       "      <td>5.0</td>\n",
       "      <td>1.75</td>\n",
       "      <td>10</td>\n",
       "    </tr>\n",
       "    <tr>\n",
       "      <th>1</th>\n",
       "      <td>Hyundai Creta 1.6 CRDi SX Option</td>\n",
       "      <td>Pune</td>\n",
       "      <td>2015</td>\n",
       "      <td>41000</td>\n",
       "      <td>Diesel</td>\n",
       "      <td>Manual</td>\n",
       "      <td>First</td>\n",
       "      <td>19.67</td>\n",
       "      <td>1582.0</td>\n",
       "      <td>126.20</td>\n",
       "      <td>5.0</td>\n",
       "      <td>12.50</td>\n",
       "      <td>5</td>\n",
       "    </tr>\n",
       "    <tr>\n",
       "      <th>2</th>\n",
       "      <td>Honda Jazz V</td>\n",
       "      <td>Chennai</td>\n",
       "      <td>2011</td>\n",
       "      <td>46000</td>\n",
       "      <td>Petrol</td>\n",
       "      <td>Manual</td>\n",
       "      <td>First</td>\n",
       "      <td>18.20</td>\n",
       "      <td>1199.0</td>\n",
       "      <td>88.70</td>\n",
       "      <td>5.0</td>\n",
       "      <td>4.50</td>\n",
       "      <td>9</td>\n",
       "    </tr>\n",
       "    <tr>\n",
       "      <th>3</th>\n",
       "      <td>Maruti Ertiga VDI</td>\n",
       "      <td>Chennai</td>\n",
       "      <td>2012</td>\n",
       "      <td>87000</td>\n",
       "      <td>Diesel</td>\n",
       "      <td>Manual</td>\n",
       "      <td>First</td>\n",
       "      <td>20.77</td>\n",
       "      <td>1248.0</td>\n",
       "      <td>88.76</td>\n",
       "      <td>7.0</td>\n",
       "      <td>6.00</td>\n",
       "      <td>8</td>\n",
       "    </tr>\n",
       "    <tr>\n",
       "      <th>4</th>\n",
       "      <td>Audi A4 New 2.0 TDI Multitronic</td>\n",
       "      <td>Coimbatore</td>\n",
       "      <td>2013</td>\n",
       "      <td>40670</td>\n",
       "      <td>Diesel</td>\n",
       "      <td>Automatic</td>\n",
       "      <td>Second</td>\n",
       "      <td>15.20</td>\n",
       "      <td>1968.0</td>\n",
       "      <td>140.80</td>\n",
       "      <td>5.0</td>\n",
       "      <td>17.74</td>\n",
       "      <td>7</td>\n",
       "    </tr>\n",
       "  </tbody>\n",
       "</table>\n",
       "</div>"
      ],
      "text/plain": [
       "                               Name    Location  Year  ...  Seats  Price Car age\n",
       "0            Maruti Wagon R LXI CNG      Mumbai  2010  ...    5.0   1.75      10\n",
       "1  Hyundai Creta 1.6 CRDi SX Option        Pune  2015  ...    5.0  12.50       5\n",
       "2                      Honda Jazz V     Chennai  2011  ...    5.0   4.50       9\n",
       "3                 Maruti Ertiga VDI     Chennai  2012  ...    7.0   6.00       8\n",
       "4   Audi A4 New 2.0 TDI Multitronic  Coimbatore  2013  ...    5.0  17.74       7\n",
       "\n",
       "[5 rows x 13 columns]"
      ]
     },
     "execution_count": 66,
     "metadata": {
      "tags": []
     },
     "output_type": "execute_result"
    }
   ],
   "source": [
    "tr.head()"
   ]
  },
  {
   "cell_type": "code",
   "execution_count": 67,
   "metadata": {
    "colab": {},
    "colab_type": "code",
    "executionInfo": {
     "elapsed": 1456,
     "status": "ok",
     "timestamp": 1596300333007,
     "user": {
      "displayName": "Vaishnavi Rai",
      "photoUrl": "https://lh3.googleusercontent.com/-muQ4WjNuOb8/AAAAAAAAAAI/AAAAAAAAF5A/L9I9qOt7G_8/s64/photo.jpg",
      "userId": "13557949291054352338"
     },
     "user_tz": -330
    },
    "id": "bLWKO3Xp3u_9"
   },
   "outputs": [],
   "source": [
    "# creating a new variable which contains the brand name of car\n",
    "tr['Brand'] = tr.Name.apply(lambda x: ' '.join(x.split(' ')[:2]))"
   ]
  },
  {
   "cell_type": "code",
   "execution_count": 68,
   "metadata": {
    "colab": {
     "base_uri": "https://localhost:8080/",
     "height": 218
    },
    "colab_type": "code",
    "executionInfo": {
     "elapsed": 1635,
     "status": "ok",
     "timestamp": 1596300336287,
     "user": {
      "displayName": "Vaishnavi Rai",
      "photoUrl": "https://lh3.googleusercontent.com/-muQ4WjNuOb8/AAAAAAAAAAI/AAAAAAAAF5A/L9I9qOt7G_8/s64/photo.jpg",
      "userId": "13557949291054352338"
     },
     "user_tz": -330
    },
    "id": "2UlKpWo13u__",
    "outputId": "bf525198-d316-49d2-f630-22ff38c31f72",
    "scrolled": false
   },
   "outputs": [
    {
     "data": {
      "text/plain": [
       "4042    160.00\n",
       "5864    100.00\n",
       "1492     97.07\n",
       "1959     93.67\n",
       "1969     93.00\n",
       "         ...  \n",
       "7193       NaN\n",
       "7194       NaN\n",
       "7195       NaN\n",
       "7196       NaN\n",
       "7197       NaN\n",
       "Name: Price, Length: 7198, dtype: float64"
      ]
     },
     "execution_count": 68,
     "metadata": {
      "tags": []
     },
     "output_type": "execute_result"
    }
   ],
   "source": [
    "tr.Price.sort_values(ascending=False)"
   ]
  },
  {
   "cell_type": "code",
   "execution_count": 69,
   "metadata": {
    "colab": {
     "base_uri": "https://localhost:8080/",
     "height": 313
    },
    "colab_type": "code",
    "executionInfo": {
     "elapsed": 1408,
     "status": "ok",
     "timestamp": 1596300340406,
     "user": {
      "displayName": "Vaishnavi Rai",
      "photoUrl": "https://lh3.googleusercontent.com/-muQ4WjNuOb8/AAAAAAAAAAI/AAAAAAAAF5A/L9I9qOt7G_8/s64/photo.jpg",
      "userId": "13557949291054352338"
     },
     "user_tz": -330
    },
    "id": "73nhgGgV3vAB",
    "outputId": "e63bbd32-d2b0-490b-a3f4-181ba862b85b"
   },
   "outputs": [
    {
     "data": {
      "text/html": [
       "<div>\n",
       "<style scoped>\n",
       "    .dataframe tbody tr th:only-of-type {\n",
       "        vertical-align: middle;\n",
       "    }\n",
       "\n",
       "    .dataframe tbody tr th {\n",
       "        vertical-align: top;\n",
       "    }\n",
       "\n",
       "    .dataframe thead th {\n",
       "        text-align: right;\n",
       "    }\n",
       "</style>\n",
       "<table border=\"1\" class=\"dataframe\">\n",
       "  <thead>\n",
       "    <tr style=\"text-align: right;\">\n",
       "      <th></th>\n",
       "      <th>Name</th>\n",
       "      <th>Location</th>\n",
       "      <th>Year</th>\n",
       "      <th>Kilometers_Driven</th>\n",
       "      <th>Fuel_Type</th>\n",
       "      <th>Transmission</th>\n",
       "      <th>Owner_Type</th>\n",
       "      <th>Mileage</th>\n",
       "      <th>Engine</th>\n",
       "      <th>Power</th>\n",
       "      <th>Seats</th>\n",
       "      <th>Price</th>\n",
       "      <th>Car age</th>\n",
       "      <th>Brand</th>\n",
       "    </tr>\n",
       "  </thead>\n",
       "  <tbody>\n",
       "    <tr>\n",
       "      <th>0</th>\n",
       "      <td>Maruti Wagon R LXI CNG</td>\n",
       "      <td>Mumbai</td>\n",
       "      <td>2010</td>\n",
       "      <td>72000</td>\n",
       "      <td>CNG</td>\n",
       "      <td>Manual</td>\n",
       "      <td>First</td>\n",
       "      <td>26.60</td>\n",
       "      <td>998.0</td>\n",
       "      <td>58.16</td>\n",
       "      <td>5.0</td>\n",
       "      <td>1.75</td>\n",
       "      <td>10</td>\n",
       "      <td>Maruti Wagon</td>\n",
       "    </tr>\n",
       "    <tr>\n",
       "      <th>1</th>\n",
       "      <td>Hyundai Creta 1.6 CRDi SX Option</td>\n",
       "      <td>Pune</td>\n",
       "      <td>2015</td>\n",
       "      <td>41000</td>\n",
       "      <td>Diesel</td>\n",
       "      <td>Manual</td>\n",
       "      <td>First</td>\n",
       "      <td>19.67</td>\n",
       "      <td>1582.0</td>\n",
       "      <td>126.20</td>\n",
       "      <td>5.0</td>\n",
       "      <td>12.50</td>\n",
       "      <td>5</td>\n",
       "      <td>Hyundai Creta</td>\n",
       "    </tr>\n",
       "    <tr>\n",
       "      <th>2</th>\n",
       "      <td>Honda Jazz V</td>\n",
       "      <td>Chennai</td>\n",
       "      <td>2011</td>\n",
       "      <td>46000</td>\n",
       "      <td>Petrol</td>\n",
       "      <td>Manual</td>\n",
       "      <td>First</td>\n",
       "      <td>18.20</td>\n",
       "      <td>1199.0</td>\n",
       "      <td>88.70</td>\n",
       "      <td>5.0</td>\n",
       "      <td>4.50</td>\n",
       "      <td>9</td>\n",
       "      <td>Honda Jazz</td>\n",
       "    </tr>\n",
       "    <tr>\n",
       "      <th>3</th>\n",
       "      <td>Maruti Ertiga VDI</td>\n",
       "      <td>Chennai</td>\n",
       "      <td>2012</td>\n",
       "      <td>87000</td>\n",
       "      <td>Diesel</td>\n",
       "      <td>Manual</td>\n",
       "      <td>First</td>\n",
       "      <td>20.77</td>\n",
       "      <td>1248.0</td>\n",
       "      <td>88.76</td>\n",
       "      <td>7.0</td>\n",
       "      <td>6.00</td>\n",
       "      <td>8</td>\n",
       "      <td>Maruti Ertiga</td>\n",
       "    </tr>\n",
       "    <tr>\n",
       "      <th>4</th>\n",
       "      <td>Audi A4 New 2.0 TDI Multitronic</td>\n",
       "      <td>Coimbatore</td>\n",
       "      <td>2013</td>\n",
       "      <td>40670</td>\n",
       "      <td>Diesel</td>\n",
       "      <td>Automatic</td>\n",
       "      <td>Second</td>\n",
       "      <td>15.20</td>\n",
       "      <td>1968.0</td>\n",
       "      <td>140.80</td>\n",
       "      <td>5.0</td>\n",
       "      <td>17.74</td>\n",
       "      <td>7</td>\n",
       "      <td>Audi A4</td>\n",
       "    </tr>\n",
       "  </tbody>\n",
       "</table>\n",
       "</div>"
      ],
      "text/plain": [
       "                               Name    Location  ...  Car age          Brand\n",
       "0            Maruti Wagon R LXI CNG      Mumbai  ...       10   Maruti Wagon\n",
       "1  Hyundai Creta 1.6 CRDi SX Option        Pune  ...        5  Hyundai Creta\n",
       "2                      Honda Jazz V     Chennai  ...        9     Honda Jazz\n",
       "3                 Maruti Ertiga VDI     Chennai  ...        8  Maruti Ertiga\n",
       "4   Audi A4 New 2.0 TDI Multitronic  Coimbatore  ...        7        Audi A4\n",
       "\n",
       "[5 rows x 14 columns]"
      ]
     },
     "execution_count": 69,
     "metadata": {
      "tags": []
     },
     "output_type": "execute_result"
    }
   ],
   "source": [
    "tr.head()"
   ]
  },
  {
   "cell_type": "code",
   "execution_count": 70,
   "metadata": {
    "colab": {
     "base_uri": "https://localhost:8080/",
     "height": 34
    },
    "colab_type": "code",
    "executionInfo": {
     "elapsed": 1901,
     "status": "ok",
     "timestamp": 1596300344878,
     "user": {
      "displayName": "Vaishnavi Rai",
      "photoUrl": "https://lh3.googleusercontent.com/-muQ4WjNuOb8/AAAAAAAAAAI/AAAAAAAAF5A/L9I9qOt7G_8/s64/photo.jpg",
      "userId": "13557949291054352338"
     },
     "user_tz": -330
    },
    "id": "q7nFfi5w3vAC",
    "outputId": "157eeac1-f2c5-4020-9880-0f09c0dd67e5"
   },
   "outputs": [
    {
     "data": {
      "text/plain": [
       "(7198, 14)"
      ]
     },
     "execution_count": 70,
     "metadata": {
      "tags": []
     },
     "output_type": "execute_result"
    }
   ],
   "source": [
    "# Shape of dataset after removing missing values\n",
    "tr.shape\n"
   ]
  },
  {
   "cell_type": "code",
   "execution_count": 71,
   "metadata": {
    "colab": {
     "base_uri": "https://localhost:8080/",
     "height": 269
    },
    "colab_type": "code",
    "executionInfo": {
     "elapsed": 1491,
     "status": "ok",
     "timestamp": 1596300349010,
     "user": {
      "displayName": "Vaishnavi Rai",
      "photoUrl": "https://lh3.googleusercontent.com/-muQ4WjNuOb8/AAAAAAAAAAI/AAAAAAAAF5A/L9I9qOt7G_8/s64/photo.jpg",
      "userId": "13557949291054352338"
     },
     "user_tz": -330
    },
    "id": "6OI3R1k63vAE",
    "outputId": "aa27d8b2-7e1d-4807-dcf6-ea918e059bee"
   },
   "outputs": [
    {
     "data": {
      "text/plain": [
       "Name                    0\n",
       "Location                0\n",
       "Year                    0\n",
       "Kilometers_Driven       0\n",
       "Fuel_Type               0\n",
       "Transmission            0\n",
       "Owner_Type              0\n",
       "Mileage                 0\n",
       "Engine                 10\n",
       "Power                  10\n",
       "Seats                  11\n",
       "Price                1234\n",
       "Car age                 0\n",
       "Brand                   0\n",
       "dtype: int64"
      ]
     },
     "execution_count": 71,
     "metadata": {
      "tags": []
     },
     "output_type": "execute_result"
    }
   ],
   "source": [
    "tr.isnull().sum()"
   ]
  },
  {
   "cell_type": "code",
   "execution_count": 72,
   "metadata": {
    "colab": {},
    "colab_type": "code",
    "executionInfo": {
     "elapsed": 1802,
     "status": "ok",
     "timestamp": 1596300353189,
     "user": {
      "displayName": "Vaishnavi Rai",
      "photoUrl": "https://lh3.googleusercontent.com/-muQ4WjNuOb8/AAAAAAAAAAI/AAAAAAAAF5A/L9I9qOt7G_8/s64/photo.jpg",
      "userId": "13557949291054352338"
     },
     "user_tz": -330
    },
    "id": "B8JxjdCy3vAG"
   },
   "outputs": [],
   "source": [
    "def aggregate_functions(tr):        \n",
    "    \n",
    "    agg_func = {\n",
    "        'Location' : ['count'],\n",
    "        'Mileage' : ['mean'],\n",
    "        'Power' : ['mean'],\n",
    "        'Engine' : ['mean'] }\n",
    "    \n",
    "    agg_tr = tr.groupby(['Brand']).agg(agg_func)\n",
    "    agg_tr.columns = ['_'.join(col).strip() for col in agg_tr.columns.values]\n",
    "    agg_tr.reset_index(inplace=True)\n",
    "    \n",
    "    agg_tr = pd.merge(tr, agg_tr, on='Brand', how='left')\n",
    "    \n",
    "    return agg_tr\n",
    "tr=aggregate_functions(tr)"
   ]
  },
  {
   "cell_type": "code",
   "execution_count": 73,
   "metadata": {
    "colab": {
     "base_uri": "https://localhost:8080/",
     "height": 400
    },
    "colab_type": "code",
    "executionInfo": {
     "elapsed": 1663,
     "status": "ok",
     "timestamp": 1596300357770,
     "user": {
      "displayName": "Vaishnavi Rai",
      "photoUrl": "https://lh3.googleusercontent.com/-muQ4WjNuOb8/AAAAAAAAAAI/AAAAAAAAF5A/L9I9qOt7G_8/s64/photo.jpg",
      "userId": "13557949291054352338"
     },
     "user_tz": -330
    },
    "id": "P0k32Bno3vAH",
    "outputId": "a6cec676-2ea3-482f-9b8b-5fd57f52614a"
   },
   "outputs": [
    {
     "data": {
      "text/html": [
       "<div>\n",
       "<style scoped>\n",
       "    .dataframe tbody tr th:only-of-type {\n",
       "        vertical-align: middle;\n",
       "    }\n",
       "\n",
       "    .dataframe tbody tr th {\n",
       "        vertical-align: top;\n",
       "    }\n",
       "\n",
       "    .dataframe thead th {\n",
       "        text-align: right;\n",
       "    }\n",
       "</style>\n",
       "<table border=\"1\" class=\"dataframe\">\n",
       "  <thead>\n",
       "    <tr style=\"text-align: right;\">\n",
       "      <th></th>\n",
       "      <th>Name</th>\n",
       "      <th>Location</th>\n",
       "      <th>Year</th>\n",
       "      <th>Kilometers_Driven</th>\n",
       "      <th>Fuel_Type</th>\n",
       "      <th>Transmission</th>\n",
       "      <th>Owner_Type</th>\n",
       "      <th>Mileage</th>\n",
       "      <th>Engine</th>\n",
       "      <th>Power</th>\n",
       "      <th>Seats</th>\n",
       "      <th>Price</th>\n",
       "      <th>Car age</th>\n",
       "      <th>Brand</th>\n",
       "      <th>Location_count</th>\n",
       "      <th>Mileage_mean</th>\n",
       "      <th>Power_mean</th>\n",
       "      <th>Engine_mean</th>\n",
       "    </tr>\n",
       "  </thead>\n",
       "  <tbody>\n",
       "    <tr>\n",
       "      <th>0</th>\n",
       "      <td>Maruti Wagon R LXI CNG</td>\n",
       "      <td>Mumbai</td>\n",
       "      <td>2010</td>\n",
       "      <td>72000</td>\n",
       "      <td>CNG</td>\n",
       "      <td>Manual</td>\n",
       "      <td>First</td>\n",
       "      <td>26.60</td>\n",
       "      <td>998.0</td>\n",
       "      <td>58.16</td>\n",
       "      <td>5.0</td>\n",
       "      <td>1.75</td>\n",
       "      <td>10</td>\n",
       "      <td>Maruti Wagon</td>\n",
       "      <td>176</td>\n",
       "      <td>20.963011</td>\n",
       "      <td>66.197045</td>\n",
       "      <td>1014.147727</td>\n",
       "    </tr>\n",
       "    <tr>\n",
       "      <th>1</th>\n",
       "      <td>Hyundai Creta 1.6 CRDi SX Option</td>\n",
       "      <td>Pune</td>\n",
       "      <td>2015</td>\n",
       "      <td>41000</td>\n",
       "      <td>Diesel</td>\n",
       "      <td>Manual</td>\n",
       "      <td>First</td>\n",
       "      <td>19.67</td>\n",
       "      <td>1582.0</td>\n",
       "      <td>126.20</td>\n",
       "      <td>5.0</td>\n",
       "      <td>12.50</td>\n",
       "      <td>5</td>\n",
       "      <td>Hyundai Creta</td>\n",
       "      <td>118</td>\n",
       "      <td>17.673898</td>\n",
       "      <td>121.830508</td>\n",
       "      <td>1572.745763</td>\n",
       "    </tr>\n",
       "    <tr>\n",
       "      <th>2</th>\n",
       "      <td>Honda Jazz V</td>\n",
       "      <td>Chennai</td>\n",
       "      <td>2011</td>\n",
       "      <td>46000</td>\n",
       "      <td>Petrol</td>\n",
       "      <td>Manual</td>\n",
       "      <td>First</td>\n",
       "      <td>18.20</td>\n",
       "      <td>1199.0</td>\n",
       "      <td>88.70</td>\n",
       "      <td>5.0</td>\n",
       "      <td>4.50</td>\n",
       "      <td>9</td>\n",
       "      <td>Honda Jazz</td>\n",
       "      <td>69</td>\n",
       "      <td>20.586957</td>\n",
       "      <td>91.521739</td>\n",
       "      <td>1281.246377</td>\n",
       "    </tr>\n",
       "    <tr>\n",
       "      <th>3</th>\n",
       "      <td>Maruti Ertiga VDI</td>\n",
       "      <td>Chennai</td>\n",
       "      <td>2012</td>\n",
       "      <td>87000</td>\n",
       "      <td>Diesel</td>\n",
       "      <td>Manual</td>\n",
       "      <td>First</td>\n",
       "      <td>20.77</td>\n",
       "      <td>1248.0</td>\n",
       "      <td>88.76</td>\n",
       "      <td>7.0</td>\n",
       "      <td>6.00</td>\n",
       "      <td>8</td>\n",
       "      <td>Maruti Ertiga</td>\n",
       "      <td>86</td>\n",
       "      <td>20.633953</td>\n",
       "      <td>89.712093</td>\n",
       "      <td>1287.860465</td>\n",
       "    </tr>\n",
       "    <tr>\n",
       "      <th>4</th>\n",
       "      <td>Audi A4 New 2.0 TDI Multitronic</td>\n",
       "      <td>Coimbatore</td>\n",
       "      <td>2013</td>\n",
       "      <td>40670</td>\n",
       "      <td>Diesel</td>\n",
       "      <td>Automatic</td>\n",
       "      <td>Second</td>\n",
       "      <td>15.20</td>\n",
       "      <td>1968.0</td>\n",
       "      <td>140.80</td>\n",
       "      <td>5.0</td>\n",
       "      <td>17.74</td>\n",
       "      <td>7</td>\n",
       "      <td>Audi A4</td>\n",
       "      <td>90</td>\n",
       "      <td>16.438111</td>\n",
       "      <td>162.041556</td>\n",
       "      <td>2024.922222</td>\n",
       "    </tr>\n",
       "  </tbody>\n",
       "</table>\n",
       "</div>"
      ],
      "text/plain": [
       "                               Name    Location  ...  Power_mean  Engine_mean\n",
       "0            Maruti Wagon R LXI CNG      Mumbai  ...   66.197045  1014.147727\n",
       "1  Hyundai Creta 1.6 CRDi SX Option        Pune  ...  121.830508  1572.745763\n",
       "2                      Honda Jazz V     Chennai  ...   91.521739  1281.246377\n",
       "3                 Maruti Ertiga VDI     Chennai  ...   89.712093  1287.860465\n",
       "4   Audi A4 New 2.0 TDI Multitronic  Coimbatore  ...  162.041556  2024.922222\n",
       "\n",
       "[5 rows x 18 columns]"
      ]
     },
     "execution_count": 73,
     "metadata": {
      "tags": []
     },
     "output_type": "execute_result"
    }
   ],
   "source": [
    "tr.head()"
   ]
  },
  {
   "cell_type": "code",
   "execution_count": 74,
   "metadata": {
    "colab": {
     "base_uri": "https://localhost:8080/",
     "height": 34
    },
    "colab_type": "code",
    "executionInfo": {
     "elapsed": 1470,
     "status": "ok",
     "timestamp": 1596300362102,
     "user": {
      "displayName": "Vaishnavi Rai",
      "photoUrl": "https://lh3.googleusercontent.com/-muQ4WjNuOb8/AAAAAAAAAAI/AAAAAAAAF5A/L9I9qOt7G_8/s64/photo.jpg",
      "userId": "13557949291054352338"
     },
     "user_tz": -330
    },
    "id": "7W8S1Nx-3vAJ",
    "outputId": "78c357ec-1ada-45f1-fad7-ee4646bd35c1"
   },
   "outputs": [
    {
     "data": {
      "text/plain": [
       "(7198, 18)"
      ]
     },
     "execution_count": 74,
     "metadata": {
      "tags": []
     },
     "output_type": "execute_result"
    }
   ],
   "source": [
    "tr.shape"
   ]
  },
  {
   "cell_type": "code",
   "execution_count": 75,
   "metadata": {
    "colab": {},
    "colab_type": "code",
    "executionInfo": {
     "elapsed": 2104,
     "status": "ok",
     "timestamp": 1596300368041,
     "user": {
      "displayName": "Vaishnavi Rai",
      "photoUrl": "https://lh3.googleusercontent.com/-muQ4WjNuOb8/AAAAAAAAAAI/AAAAAAAAF5A/L9I9qOt7G_8/s64/photo.jpg",
      "userId": "13557949291054352338"
     },
     "user_tz": -330
    },
    "id": "ArHk-Zo33vAL"
   },
   "outputs": [],
   "source": [
    "dummy_name=pd.get_dummies(tr.Name)# creating dummy variables for the categorical variables"
   ]
  },
  {
   "cell_type": "code",
   "execution_count": 76,
   "metadata": {
    "colab": {},
    "colab_type": "code",
    "executionInfo": {
     "elapsed": 1729,
     "status": "ok",
     "timestamp": 1596300371733,
     "user": {
      "displayName": "Vaishnavi Rai",
      "photoUrl": "https://lh3.googleusercontent.com/-muQ4WjNuOb8/AAAAAAAAAAI/AAAAAAAAF5A/L9I9qOt7G_8/s64/photo.jpg",
      "userId": "13557949291054352338"
     },
     "user_tz": -330
    },
    "id": "Q-m3wuXJ3vAM"
   },
   "outputs": [],
   "source": [
    "tr=pd.concat([tr,dummy_name],axis=1)"
   ]
  },
  {
   "cell_type": "code",
   "execution_count": 77,
   "metadata": {
    "colab": {
     "base_uri": "https://localhost:8080/",
     "height": 496
    },
    "colab_type": "code",
    "executionInfo": {
     "elapsed": 1241,
     "status": "ok",
     "timestamp": 1596300375047,
     "user": {
      "displayName": "Vaishnavi Rai",
      "photoUrl": "https://lh3.googleusercontent.com/-muQ4WjNuOb8/AAAAAAAAAAI/AAAAAAAAF5A/L9I9qOt7G_8/s64/photo.jpg",
      "userId": "13557949291054352338"
     },
     "user_tz": -330
    },
    "id": "TW_oaPSv3vAO",
    "outputId": "b1569300-29a7-4cc5-a5b1-d02db97ef71c",
    "scrolled": false
   },
   "outputs": [
    {
     "data": {
      "text/html": [
       "<div>\n",
       "<style scoped>\n",
       "    .dataframe tbody tr th:only-of-type {\n",
       "        vertical-align: middle;\n",
       "    }\n",
       "\n",
       "    .dataframe tbody tr th {\n",
       "        vertical-align: top;\n",
       "    }\n",
       "\n",
       "    .dataframe thead th {\n",
       "        text-align: right;\n",
       "    }\n",
       "</style>\n",
       "<table border=\"1\" class=\"dataframe\">\n",
       "  <thead>\n",
       "    <tr style=\"text-align: right;\">\n",
       "      <th></th>\n",
       "      <th>Name</th>\n",
       "      <th>Location</th>\n",
       "      <th>Year</th>\n",
       "      <th>Kilometers_Driven</th>\n",
       "      <th>Fuel_Type</th>\n",
       "      <th>Transmission</th>\n",
       "      <th>Owner_Type</th>\n",
       "      <th>Mileage</th>\n",
       "      <th>Engine</th>\n",
       "      <th>Power</th>\n",
       "      <th>Seats</th>\n",
       "      <th>Price</th>\n",
       "      <th>Car age</th>\n",
       "      <th>Brand</th>\n",
       "      <th>Location_count</th>\n",
       "      <th>Mileage_mean</th>\n",
       "      <th>Power_mean</th>\n",
       "      <th>Engine_mean</th>\n",
       "      <th>Audi A3 35 TDI Attraction</th>\n",
       "      <th>Audi A3 35 TDI Premium</th>\n",
       "      <th>Audi A3 35 TDI Premium Plus</th>\n",
       "      <th>Audi A3 35 TDI Technology</th>\n",
       "      <th>Audi A4 1.8 TFSI</th>\n",
       "      <th>Audi A4 1.8 TFSI Technology Edition</th>\n",
       "      <th>Audi A4 2.0 TDI</th>\n",
       "      <th>Audi A4 2.0 TDI 177 Bhp Premium Plus</th>\n",
       "      <th>Audi A4 2.0 TDI 177 Bhp Technology Edition</th>\n",
       "      <th>Audi A4 2.0 TDI Celebration Edition</th>\n",
       "      <th>Audi A4 2.0 TDI Multitronic</th>\n",
       "      <th>Audi A4 2.0 TDI Premium Sport Limited Edition</th>\n",
       "      <th>Audi A4 2.0 TFSI</th>\n",
       "      <th>Audi A4 3.0 TDI Quattro</th>\n",
       "      <th>Audi A4 3.0 TDI Quattro Premium</th>\n",
       "      <th>Audi A4 3.2 FSI Tiptronic Quattro</th>\n",
       "      <th>Audi A4 30 TFSI Premium Plus</th>\n",
       "      <th>Audi A4 35 TDI Premium</th>\n",
       "      <th>Audi A4 35 TDI Premium Plus</th>\n",
       "      <th>Audi A4 35 TDI Premium Sport</th>\n",
       "      <th>Audi A4 35 TDI Technology</th>\n",
       "      <th>Audi A4 35 TDI Technology Edition</th>\n",
       "      <th>...</th>\n",
       "      <th>Volkswagen Vento 1.5 TDI Highline</th>\n",
       "      <th>Volkswagen Vento 1.5 TDI Highline AT</th>\n",
       "      <th>Volkswagen Vento 1.5 TDI Highline Plus</th>\n",
       "      <th>Volkswagen Vento 1.5 TDI Highline Plus AT</th>\n",
       "      <th>Volkswagen Vento 1.5 TDI Trendline</th>\n",
       "      <th>Volkswagen Vento 1.6 Comfortline</th>\n",
       "      <th>Volkswagen Vento 1.6 Highline</th>\n",
       "      <th>Volkswagen Vento 1.6 Trendline</th>\n",
       "      <th>Volkswagen Vento 2013-2015 1.6 Comfortline</th>\n",
       "      <th>Volkswagen Vento Diesel Breeze</th>\n",
       "      <th>Volkswagen Vento Diesel Comfortline</th>\n",
       "      <th>Volkswagen Vento Diesel Highline</th>\n",
       "      <th>Volkswagen Vento Diesel Trendline</th>\n",
       "      <th>Volkswagen Vento IPL II Petrol Highline AT</th>\n",
       "      <th>Volkswagen Vento IPL II Petrol Trendline</th>\n",
       "      <th>Volkswagen Vento Konekt Diesel Highline</th>\n",
       "      <th>Volkswagen Vento Magnific 1.6 Comfortline</th>\n",
       "      <th>Volkswagen Vento Petrol Comfortline</th>\n",
       "      <th>Volkswagen Vento Petrol Highline</th>\n",
       "      <th>Volkswagen Vento Petrol Highline AT</th>\n",
       "      <th>Volkswagen Vento Petrol Trendline</th>\n",
       "      <th>Volkswagen Vento Sport 1.2 TSI AT</th>\n",
       "      <th>Volkswagen Vento TSI</th>\n",
       "      <th>Volvo S60 D3</th>\n",
       "      <th>Volvo S60 D4 KINETIC</th>\n",
       "      <th>Volvo S60 D4 Momentum</th>\n",
       "      <th>Volvo S60 D4 SUMMUM</th>\n",
       "      <th>Volvo S60 D5 Kinetic</th>\n",
       "      <th>Volvo S60 D5 Summum</th>\n",
       "      <th>Volvo S80 2006-2013 D5</th>\n",
       "      <th>Volvo S80 D5</th>\n",
       "      <th>Volvo V40 Cross Country D3</th>\n",
       "      <th>Volvo V40 D3</th>\n",
       "      <th>Volvo V40 D3 R Design</th>\n",
       "      <th>Volvo XC60 D4 SUMMUM</th>\n",
       "      <th>Volvo XC60 D4 Summum</th>\n",
       "      <th>Volvo XC60 D5</th>\n",
       "      <th>Volvo XC60 D5 Inscription</th>\n",
       "      <th>Volvo XC90 2007-2015 D5 AT AWD</th>\n",
       "      <th>Volvo XC90 2007-2015 D5 AWD</th>\n",
       "    </tr>\n",
       "  </thead>\n",
       "  <tbody>\n",
       "    <tr>\n",
       "      <th>0</th>\n",
       "      <td>Maruti Wagon R LXI CNG</td>\n",
       "      <td>Mumbai</td>\n",
       "      <td>2010</td>\n",
       "      <td>72000</td>\n",
       "      <td>CNG</td>\n",
       "      <td>Manual</td>\n",
       "      <td>First</td>\n",
       "      <td>26.60</td>\n",
       "      <td>998.0</td>\n",
       "      <td>58.16</td>\n",
       "      <td>5.0</td>\n",
       "      <td>1.75</td>\n",
       "      <td>10</td>\n",
       "      <td>Maruti Wagon</td>\n",
       "      <td>176</td>\n",
       "      <td>20.963011</td>\n",
       "      <td>66.197045</td>\n",
       "      <td>1014.147727</td>\n",
       "      <td>0</td>\n",
       "      <td>0</td>\n",
       "      <td>0</td>\n",
       "      <td>0</td>\n",
       "      <td>0</td>\n",
       "      <td>0</td>\n",
       "      <td>0</td>\n",
       "      <td>0</td>\n",
       "      <td>0</td>\n",
       "      <td>0</td>\n",
       "      <td>0</td>\n",
       "      <td>0</td>\n",
       "      <td>0</td>\n",
       "      <td>0</td>\n",
       "      <td>0</td>\n",
       "      <td>0</td>\n",
       "      <td>0</td>\n",
       "      <td>0</td>\n",
       "      <td>0</td>\n",
       "      <td>0</td>\n",
       "      <td>0</td>\n",
       "      <td>0</td>\n",
       "      <td>...</td>\n",
       "      <td>0</td>\n",
       "      <td>0</td>\n",
       "      <td>0</td>\n",
       "      <td>0</td>\n",
       "      <td>0</td>\n",
       "      <td>0</td>\n",
       "      <td>0</td>\n",
       "      <td>0</td>\n",
       "      <td>0</td>\n",
       "      <td>0</td>\n",
       "      <td>0</td>\n",
       "      <td>0</td>\n",
       "      <td>0</td>\n",
       "      <td>0</td>\n",
       "      <td>0</td>\n",
       "      <td>0</td>\n",
       "      <td>0</td>\n",
       "      <td>0</td>\n",
       "      <td>0</td>\n",
       "      <td>0</td>\n",
       "      <td>0</td>\n",
       "      <td>0</td>\n",
       "      <td>0</td>\n",
       "      <td>0</td>\n",
       "      <td>0</td>\n",
       "      <td>0</td>\n",
       "      <td>0</td>\n",
       "      <td>0</td>\n",
       "      <td>0</td>\n",
       "      <td>0</td>\n",
       "      <td>0</td>\n",
       "      <td>0</td>\n",
       "      <td>0</td>\n",
       "      <td>0</td>\n",
       "      <td>0</td>\n",
       "      <td>0</td>\n",
       "      <td>0</td>\n",
       "      <td>0</td>\n",
       "      <td>0</td>\n",
       "      <td>0</td>\n",
       "    </tr>\n",
       "    <tr>\n",
       "      <th>1</th>\n",
       "      <td>Hyundai Creta 1.6 CRDi SX Option</td>\n",
       "      <td>Pune</td>\n",
       "      <td>2015</td>\n",
       "      <td>41000</td>\n",
       "      <td>Diesel</td>\n",
       "      <td>Manual</td>\n",
       "      <td>First</td>\n",
       "      <td>19.67</td>\n",
       "      <td>1582.0</td>\n",
       "      <td>126.20</td>\n",
       "      <td>5.0</td>\n",
       "      <td>12.50</td>\n",
       "      <td>5</td>\n",
       "      <td>Hyundai Creta</td>\n",
       "      <td>118</td>\n",
       "      <td>17.673898</td>\n",
       "      <td>121.830508</td>\n",
       "      <td>1572.745763</td>\n",
       "      <td>0</td>\n",
       "      <td>0</td>\n",
       "      <td>0</td>\n",
       "      <td>0</td>\n",
       "      <td>0</td>\n",
       "      <td>0</td>\n",
       "      <td>0</td>\n",
       "      <td>0</td>\n",
       "      <td>0</td>\n",
       "      <td>0</td>\n",
       "      <td>0</td>\n",
       "      <td>0</td>\n",
       "      <td>0</td>\n",
       "      <td>0</td>\n",
       "      <td>0</td>\n",
       "      <td>0</td>\n",
       "      <td>0</td>\n",
       "      <td>0</td>\n",
       "      <td>0</td>\n",
       "      <td>0</td>\n",
       "      <td>0</td>\n",
       "      <td>0</td>\n",
       "      <td>...</td>\n",
       "      <td>0</td>\n",
       "      <td>0</td>\n",
       "      <td>0</td>\n",
       "      <td>0</td>\n",
       "      <td>0</td>\n",
       "      <td>0</td>\n",
       "      <td>0</td>\n",
       "      <td>0</td>\n",
       "      <td>0</td>\n",
       "      <td>0</td>\n",
       "      <td>0</td>\n",
       "      <td>0</td>\n",
       "      <td>0</td>\n",
       "      <td>0</td>\n",
       "      <td>0</td>\n",
       "      <td>0</td>\n",
       "      <td>0</td>\n",
       "      <td>0</td>\n",
       "      <td>0</td>\n",
       "      <td>0</td>\n",
       "      <td>0</td>\n",
       "      <td>0</td>\n",
       "      <td>0</td>\n",
       "      <td>0</td>\n",
       "      <td>0</td>\n",
       "      <td>0</td>\n",
       "      <td>0</td>\n",
       "      <td>0</td>\n",
       "      <td>0</td>\n",
       "      <td>0</td>\n",
       "      <td>0</td>\n",
       "      <td>0</td>\n",
       "      <td>0</td>\n",
       "      <td>0</td>\n",
       "      <td>0</td>\n",
       "      <td>0</td>\n",
       "      <td>0</td>\n",
       "      <td>0</td>\n",
       "      <td>0</td>\n",
       "      <td>0</td>\n",
       "    </tr>\n",
       "    <tr>\n",
       "      <th>2</th>\n",
       "      <td>Honda Jazz V</td>\n",
       "      <td>Chennai</td>\n",
       "      <td>2011</td>\n",
       "      <td>46000</td>\n",
       "      <td>Petrol</td>\n",
       "      <td>Manual</td>\n",
       "      <td>First</td>\n",
       "      <td>18.20</td>\n",
       "      <td>1199.0</td>\n",
       "      <td>88.70</td>\n",
       "      <td>5.0</td>\n",
       "      <td>4.50</td>\n",
       "      <td>9</td>\n",
       "      <td>Honda Jazz</td>\n",
       "      <td>69</td>\n",
       "      <td>20.586957</td>\n",
       "      <td>91.521739</td>\n",
       "      <td>1281.246377</td>\n",
       "      <td>0</td>\n",
       "      <td>0</td>\n",
       "      <td>0</td>\n",
       "      <td>0</td>\n",
       "      <td>0</td>\n",
       "      <td>0</td>\n",
       "      <td>0</td>\n",
       "      <td>0</td>\n",
       "      <td>0</td>\n",
       "      <td>0</td>\n",
       "      <td>0</td>\n",
       "      <td>0</td>\n",
       "      <td>0</td>\n",
       "      <td>0</td>\n",
       "      <td>0</td>\n",
       "      <td>0</td>\n",
       "      <td>0</td>\n",
       "      <td>0</td>\n",
       "      <td>0</td>\n",
       "      <td>0</td>\n",
       "      <td>0</td>\n",
       "      <td>0</td>\n",
       "      <td>...</td>\n",
       "      <td>0</td>\n",
       "      <td>0</td>\n",
       "      <td>0</td>\n",
       "      <td>0</td>\n",
       "      <td>0</td>\n",
       "      <td>0</td>\n",
       "      <td>0</td>\n",
       "      <td>0</td>\n",
       "      <td>0</td>\n",
       "      <td>0</td>\n",
       "      <td>0</td>\n",
       "      <td>0</td>\n",
       "      <td>0</td>\n",
       "      <td>0</td>\n",
       "      <td>0</td>\n",
       "      <td>0</td>\n",
       "      <td>0</td>\n",
       "      <td>0</td>\n",
       "      <td>0</td>\n",
       "      <td>0</td>\n",
       "      <td>0</td>\n",
       "      <td>0</td>\n",
       "      <td>0</td>\n",
       "      <td>0</td>\n",
       "      <td>0</td>\n",
       "      <td>0</td>\n",
       "      <td>0</td>\n",
       "      <td>0</td>\n",
       "      <td>0</td>\n",
       "      <td>0</td>\n",
       "      <td>0</td>\n",
       "      <td>0</td>\n",
       "      <td>0</td>\n",
       "      <td>0</td>\n",
       "      <td>0</td>\n",
       "      <td>0</td>\n",
       "      <td>0</td>\n",
       "      <td>0</td>\n",
       "      <td>0</td>\n",
       "      <td>0</td>\n",
       "    </tr>\n",
       "    <tr>\n",
       "      <th>3</th>\n",
       "      <td>Maruti Ertiga VDI</td>\n",
       "      <td>Chennai</td>\n",
       "      <td>2012</td>\n",
       "      <td>87000</td>\n",
       "      <td>Diesel</td>\n",
       "      <td>Manual</td>\n",
       "      <td>First</td>\n",
       "      <td>20.77</td>\n",
       "      <td>1248.0</td>\n",
       "      <td>88.76</td>\n",
       "      <td>7.0</td>\n",
       "      <td>6.00</td>\n",
       "      <td>8</td>\n",
       "      <td>Maruti Ertiga</td>\n",
       "      <td>86</td>\n",
       "      <td>20.633953</td>\n",
       "      <td>89.712093</td>\n",
       "      <td>1287.860465</td>\n",
       "      <td>0</td>\n",
       "      <td>0</td>\n",
       "      <td>0</td>\n",
       "      <td>0</td>\n",
       "      <td>0</td>\n",
       "      <td>0</td>\n",
       "      <td>0</td>\n",
       "      <td>0</td>\n",
       "      <td>0</td>\n",
       "      <td>0</td>\n",
       "      <td>0</td>\n",
       "      <td>0</td>\n",
       "      <td>0</td>\n",
       "      <td>0</td>\n",
       "      <td>0</td>\n",
       "      <td>0</td>\n",
       "      <td>0</td>\n",
       "      <td>0</td>\n",
       "      <td>0</td>\n",
       "      <td>0</td>\n",
       "      <td>0</td>\n",
       "      <td>0</td>\n",
       "      <td>...</td>\n",
       "      <td>0</td>\n",
       "      <td>0</td>\n",
       "      <td>0</td>\n",
       "      <td>0</td>\n",
       "      <td>0</td>\n",
       "      <td>0</td>\n",
       "      <td>0</td>\n",
       "      <td>0</td>\n",
       "      <td>0</td>\n",
       "      <td>0</td>\n",
       "      <td>0</td>\n",
       "      <td>0</td>\n",
       "      <td>0</td>\n",
       "      <td>0</td>\n",
       "      <td>0</td>\n",
       "      <td>0</td>\n",
       "      <td>0</td>\n",
       "      <td>0</td>\n",
       "      <td>0</td>\n",
       "      <td>0</td>\n",
       "      <td>0</td>\n",
       "      <td>0</td>\n",
       "      <td>0</td>\n",
       "      <td>0</td>\n",
       "      <td>0</td>\n",
       "      <td>0</td>\n",
       "      <td>0</td>\n",
       "      <td>0</td>\n",
       "      <td>0</td>\n",
       "      <td>0</td>\n",
       "      <td>0</td>\n",
       "      <td>0</td>\n",
       "      <td>0</td>\n",
       "      <td>0</td>\n",
       "      <td>0</td>\n",
       "      <td>0</td>\n",
       "      <td>0</td>\n",
       "      <td>0</td>\n",
       "      <td>0</td>\n",
       "      <td>0</td>\n",
       "    </tr>\n",
       "    <tr>\n",
       "      <th>4</th>\n",
       "      <td>Audi A4 New 2.0 TDI Multitronic</td>\n",
       "      <td>Coimbatore</td>\n",
       "      <td>2013</td>\n",
       "      <td>40670</td>\n",
       "      <td>Diesel</td>\n",
       "      <td>Automatic</td>\n",
       "      <td>Second</td>\n",
       "      <td>15.20</td>\n",
       "      <td>1968.0</td>\n",
       "      <td>140.80</td>\n",
       "      <td>5.0</td>\n",
       "      <td>17.74</td>\n",
       "      <td>7</td>\n",
       "      <td>Audi A4</td>\n",
       "      <td>90</td>\n",
       "      <td>16.438111</td>\n",
       "      <td>162.041556</td>\n",
       "      <td>2024.922222</td>\n",
       "      <td>0</td>\n",
       "      <td>0</td>\n",
       "      <td>0</td>\n",
       "      <td>0</td>\n",
       "      <td>0</td>\n",
       "      <td>0</td>\n",
       "      <td>0</td>\n",
       "      <td>0</td>\n",
       "      <td>0</td>\n",
       "      <td>0</td>\n",
       "      <td>0</td>\n",
       "      <td>0</td>\n",
       "      <td>0</td>\n",
       "      <td>0</td>\n",
       "      <td>0</td>\n",
       "      <td>0</td>\n",
       "      <td>0</td>\n",
       "      <td>0</td>\n",
       "      <td>0</td>\n",
       "      <td>0</td>\n",
       "      <td>0</td>\n",
       "      <td>0</td>\n",
       "      <td>...</td>\n",
       "      <td>0</td>\n",
       "      <td>0</td>\n",
       "      <td>0</td>\n",
       "      <td>0</td>\n",
       "      <td>0</td>\n",
       "      <td>0</td>\n",
       "      <td>0</td>\n",
       "      <td>0</td>\n",
       "      <td>0</td>\n",
       "      <td>0</td>\n",
       "      <td>0</td>\n",
       "      <td>0</td>\n",
       "      <td>0</td>\n",
       "      <td>0</td>\n",
       "      <td>0</td>\n",
       "      <td>0</td>\n",
       "      <td>0</td>\n",
       "      <td>0</td>\n",
       "      <td>0</td>\n",
       "      <td>0</td>\n",
       "      <td>0</td>\n",
       "      <td>0</td>\n",
       "      <td>0</td>\n",
       "      <td>0</td>\n",
       "      <td>0</td>\n",
       "      <td>0</td>\n",
       "      <td>0</td>\n",
       "      <td>0</td>\n",
       "      <td>0</td>\n",
       "      <td>0</td>\n",
       "      <td>0</td>\n",
       "      <td>0</td>\n",
       "      <td>0</td>\n",
       "      <td>0</td>\n",
       "      <td>0</td>\n",
       "      <td>0</td>\n",
       "      <td>0</td>\n",
       "      <td>0</td>\n",
       "      <td>0</td>\n",
       "      <td>0</td>\n",
       "    </tr>\n",
       "  </tbody>\n",
       "</table>\n",
       "<p>5 rows × 2034 columns</p>\n",
       "</div>"
      ],
      "text/plain": [
       "                               Name  ... Volvo XC90 2007-2015 D5 AWD\n",
       "0            Maruti Wagon R LXI CNG  ...                           0\n",
       "1  Hyundai Creta 1.6 CRDi SX Option  ...                           0\n",
       "2                      Honda Jazz V  ...                           0\n",
       "3                 Maruti Ertiga VDI  ...                           0\n",
       "4   Audi A4 New 2.0 TDI Multitronic  ...                           0\n",
       "\n",
       "[5 rows x 2034 columns]"
      ]
     },
     "execution_count": 77,
     "metadata": {
      "tags": []
     },
     "output_type": "execute_result"
    }
   ],
   "source": [
    "tr.head()"
   ]
  },
  {
   "cell_type": "code",
   "execution_count": 78,
   "metadata": {
    "colab": {},
    "colab_type": "code",
    "executionInfo": {
     "elapsed": 1414,
     "status": "ok",
     "timestamp": 1596300403683,
     "user": {
      "displayName": "Vaishnavi Rai",
      "photoUrl": "https://lh3.googleusercontent.com/-muQ4WjNuOb8/AAAAAAAAAAI/AAAAAAAAF5A/L9I9qOt7G_8/s64/photo.jpg",
      "userId": "13557949291054352338"
     },
     "user_tz": -330
    },
    "id": "xwqu8gwf3vAQ"
   },
   "outputs": [],
   "source": [
    "dummyloc=pd.get_dummies(tr.Location)"
   ]
  },
  {
   "cell_type": "code",
   "execution_count": 79,
   "metadata": {
    "colab": {},
    "colab_type": "code",
    "executionInfo": {
     "elapsed": 1772,
     "status": "ok",
     "timestamp": 1596300407270,
     "user": {
      "displayName": "Vaishnavi Rai",
      "photoUrl": "https://lh3.googleusercontent.com/-muQ4WjNuOb8/AAAAAAAAAAI/AAAAAAAAF5A/L9I9qOt7G_8/s64/photo.jpg",
      "userId": "13557949291054352338"
     },
     "user_tz": -330
    },
    "id": "Uvf0B6fm3vAR"
   },
   "outputs": [],
   "source": [
    "tr=pd.concat([tr,dummyloc],axis=1)"
   ]
  },
  {
   "cell_type": "code",
   "execution_count": 80,
   "metadata": {
    "colab": {},
    "colab_type": "code",
    "executionInfo": {
     "elapsed": 1349,
     "status": "ok",
     "timestamp": 1596300409470,
     "user": {
      "displayName": "Vaishnavi Rai",
      "photoUrl": "https://lh3.googleusercontent.com/-muQ4WjNuOb8/AAAAAAAAAAI/AAAAAAAAF5A/L9I9qOt7G_8/s64/photo.jpg",
      "userId": "13557949291054352338"
     },
     "user_tz": -330
    },
    "id": "Brtb2I0F3vAS"
   },
   "outputs": [],
   "source": [
    "dummyfuel=pd.get_dummies(tr.Fuel_Type)"
   ]
  },
  {
   "cell_type": "code",
   "execution_count": 81,
   "metadata": {
    "colab": {},
    "colab_type": "code",
    "executionInfo": {
     "elapsed": 1095,
     "status": "ok",
     "timestamp": 1596300411368,
     "user": {
      "displayName": "Vaishnavi Rai",
      "photoUrl": "https://lh3.googleusercontent.com/-muQ4WjNuOb8/AAAAAAAAAAI/AAAAAAAAF5A/L9I9qOt7G_8/s64/photo.jpg",
      "userId": "13557949291054352338"
     },
     "user_tz": -330
    },
    "id": "GHfhqg9G3vAU"
   },
   "outputs": [],
   "source": [
    "tr=pd.concat([tr,dummyfuel],axis=1)"
   ]
  },
  {
   "cell_type": "code",
   "execution_count": 82,
   "metadata": {
    "colab": {},
    "colab_type": "code",
    "executionInfo": {
     "elapsed": 2235,
     "status": "ok",
     "timestamp": 1596300415706,
     "user": {
      "displayName": "Vaishnavi Rai",
      "photoUrl": "https://lh3.googleusercontent.com/-muQ4WjNuOb8/AAAAAAAAAAI/AAAAAAAAF5A/L9I9qOt7G_8/s64/photo.jpg",
      "userId": "13557949291054352338"
     },
     "user_tz": -330
    },
    "id": "k6m-Xl9t3vAV"
   },
   "outputs": [],
   "source": [
    "dummytrans=pd.get_dummies(tr.Transmission)"
   ]
  },
  {
   "cell_type": "code",
   "execution_count": 83,
   "metadata": {
    "colab": {},
    "colab_type": "code",
    "executionInfo": {
     "elapsed": 1722,
     "status": "ok",
     "timestamp": 1596300417332,
     "user": {
      "displayName": "Vaishnavi Rai",
      "photoUrl": "https://lh3.googleusercontent.com/-muQ4WjNuOb8/AAAAAAAAAAI/AAAAAAAAF5A/L9I9qOt7G_8/s64/photo.jpg",
      "userId": "13557949291054352338"
     },
     "user_tz": -330
    },
    "id": "YIPRCStg3vAY"
   },
   "outputs": [],
   "source": [
    "tr=pd.concat([tr,dummytrans],axis=1)"
   ]
  },
  {
   "cell_type": "code",
   "execution_count": 84,
   "metadata": {
    "colab": {},
    "colab_type": "code",
    "executionInfo": {
     "elapsed": 1636,
     "status": "ok",
     "timestamp": 1596300419865,
     "user": {
      "displayName": "Vaishnavi Rai",
      "photoUrl": "https://lh3.googleusercontent.com/-muQ4WjNuOb8/AAAAAAAAAAI/AAAAAAAAF5A/L9I9qOt7G_8/s64/photo.jpg",
      "userId": "13557949291054352338"
     },
     "user_tz": -330
    },
    "id": "S_Swshgc3vAa"
   },
   "outputs": [],
   "source": [
    "dummyowner=pd.get_dummies(tr.Owner_Type)"
   ]
  },
  {
   "cell_type": "code",
   "execution_count": 85,
   "metadata": {
    "colab": {},
    "colab_type": "code",
    "executionInfo": {
     "elapsed": 1973,
     "status": "ok",
     "timestamp": 1596300422880,
     "user": {
      "displayName": "Vaishnavi Rai",
      "photoUrl": "https://lh3.googleusercontent.com/-muQ4WjNuOb8/AAAAAAAAAAI/AAAAAAAAF5A/L9I9qOt7G_8/s64/photo.jpg",
      "userId": "13557949291054352338"
     },
     "user_tz": -330
    },
    "id": "5GqRc7j83vAb"
   },
   "outputs": [],
   "source": [
    "tr=pd.concat([tr,dummyowner],axis=1)"
   ]
  },
  {
   "cell_type": "code",
   "execution_count": 86,
   "metadata": {
    "colab": {
     "base_uri": "https://localhost:8080/",
     "height": 496
    },
    "colab_type": "code",
    "executionInfo": {
     "elapsed": 1330,
     "status": "ok",
     "timestamp": 1596300425808,
     "user": {
      "displayName": "Vaishnavi Rai",
      "photoUrl": "https://lh3.googleusercontent.com/-muQ4WjNuOb8/AAAAAAAAAAI/AAAAAAAAF5A/L9I9qOt7G_8/s64/photo.jpg",
      "userId": "13557949291054352338"
     },
     "user_tz": -330
    },
    "id": "TOF7s54Y3vAd",
    "outputId": "88db329c-73fe-476a-9727-3aafe1df69fd"
   },
   "outputs": [
    {
     "data": {
      "text/html": [
       "<div>\n",
       "<style scoped>\n",
       "    .dataframe tbody tr th:only-of-type {\n",
       "        vertical-align: middle;\n",
       "    }\n",
       "\n",
       "    .dataframe tbody tr th {\n",
       "        vertical-align: top;\n",
       "    }\n",
       "\n",
       "    .dataframe thead th {\n",
       "        text-align: right;\n",
       "    }\n",
       "</style>\n",
       "<table border=\"1\" class=\"dataframe\">\n",
       "  <thead>\n",
       "    <tr style=\"text-align: right;\">\n",
       "      <th></th>\n",
       "      <th>Name</th>\n",
       "      <th>Location</th>\n",
       "      <th>Year</th>\n",
       "      <th>Kilometers_Driven</th>\n",
       "      <th>Fuel_Type</th>\n",
       "      <th>Transmission</th>\n",
       "      <th>Owner_Type</th>\n",
       "      <th>Mileage</th>\n",
       "      <th>Engine</th>\n",
       "      <th>Power</th>\n",
       "      <th>Seats</th>\n",
       "      <th>Price</th>\n",
       "      <th>Car age</th>\n",
       "      <th>Brand</th>\n",
       "      <th>Location_count</th>\n",
       "      <th>Mileage_mean</th>\n",
       "      <th>Power_mean</th>\n",
       "      <th>Engine_mean</th>\n",
       "      <th>Audi A3 35 TDI Attraction</th>\n",
       "      <th>Audi A3 35 TDI Premium</th>\n",
       "      <th>Audi A3 35 TDI Premium Plus</th>\n",
       "      <th>Audi A3 35 TDI Technology</th>\n",
       "      <th>Audi A4 1.8 TFSI</th>\n",
       "      <th>Audi A4 1.8 TFSI Technology Edition</th>\n",
       "      <th>Audi A4 2.0 TDI</th>\n",
       "      <th>Audi A4 2.0 TDI 177 Bhp Premium Plus</th>\n",
       "      <th>Audi A4 2.0 TDI 177 Bhp Technology Edition</th>\n",
       "      <th>Audi A4 2.0 TDI Celebration Edition</th>\n",
       "      <th>Audi A4 2.0 TDI Multitronic</th>\n",
       "      <th>Audi A4 2.0 TDI Premium Sport Limited Edition</th>\n",
       "      <th>Audi A4 2.0 TFSI</th>\n",
       "      <th>Audi A4 3.0 TDI Quattro</th>\n",
       "      <th>Audi A4 3.0 TDI Quattro Premium</th>\n",
       "      <th>Audi A4 3.2 FSI Tiptronic Quattro</th>\n",
       "      <th>Audi A4 30 TFSI Premium Plus</th>\n",
       "      <th>Audi A4 35 TDI Premium</th>\n",
       "      <th>Audi A4 35 TDI Premium Plus</th>\n",
       "      <th>Audi A4 35 TDI Premium Sport</th>\n",
       "      <th>Audi A4 35 TDI Technology</th>\n",
       "      <th>Audi A4 35 TDI Technology Edition</th>\n",
       "      <th>...</th>\n",
       "      <th>Volkswagen Vento Sport 1.2 TSI AT</th>\n",
       "      <th>Volkswagen Vento TSI</th>\n",
       "      <th>Volvo S60 D3</th>\n",
       "      <th>Volvo S60 D4 KINETIC</th>\n",
       "      <th>Volvo S60 D4 Momentum</th>\n",
       "      <th>Volvo S60 D4 SUMMUM</th>\n",
       "      <th>Volvo S60 D5 Kinetic</th>\n",
       "      <th>Volvo S60 D5 Summum</th>\n",
       "      <th>Volvo S80 2006-2013 D5</th>\n",
       "      <th>Volvo S80 D5</th>\n",
       "      <th>Volvo V40 Cross Country D3</th>\n",
       "      <th>Volvo V40 D3</th>\n",
       "      <th>Volvo V40 D3 R Design</th>\n",
       "      <th>Volvo XC60 D4 SUMMUM</th>\n",
       "      <th>Volvo XC60 D4 Summum</th>\n",
       "      <th>Volvo XC60 D5</th>\n",
       "      <th>Volvo XC60 D5 Inscription</th>\n",
       "      <th>Volvo XC90 2007-2015 D5 AT AWD</th>\n",
       "      <th>Volvo XC90 2007-2015 D5 AWD</th>\n",
       "      <th>Ahmedabad</th>\n",
       "      <th>Bangalore</th>\n",
       "      <th>Chennai</th>\n",
       "      <th>Coimbatore</th>\n",
       "      <th>Delhi</th>\n",
       "      <th>Hyderabad</th>\n",
       "      <th>Jaipur</th>\n",
       "      <th>Kochi</th>\n",
       "      <th>Kolkata</th>\n",
       "      <th>Mumbai</th>\n",
       "      <th>Pune</th>\n",
       "      <th>CNG</th>\n",
       "      <th>Diesel</th>\n",
       "      <th>LPG</th>\n",
       "      <th>Petrol</th>\n",
       "      <th>Automatic</th>\n",
       "      <th>Manual</th>\n",
       "      <th>First</th>\n",
       "      <th>Fourth &amp; Above</th>\n",
       "      <th>Second</th>\n",
       "      <th>Third</th>\n",
       "    </tr>\n",
       "  </thead>\n",
       "  <tbody>\n",
       "    <tr>\n",
       "      <th>0</th>\n",
       "      <td>Maruti Wagon R LXI CNG</td>\n",
       "      <td>Mumbai</td>\n",
       "      <td>2010</td>\n",
       "      <td>72000</td>\n",
       "      <td>CNG</td>\n",
       "      <td>Manual</td>\n",
       "      <td>First</td>\n",
       "      <td>26.60</td>\n",
       "      <td>998.0</td>\n",
       "      <td>58.16</td>\n",
       "      <td>5.0</td>\n",
       "      <td>1.75</td>\n",
       "      <td>10</td>\n",
       "      <td>Maruti Wagon</td>\n",
       "      <td>176</td>\n",
       "      <td>20.963011</td>\n",
       "      <td>66.197045</td>\n",
       "      <td>1014.147727</td>\n",
       "      <td>0</td>\n",
       "      <td>0</td>\n",
       "      <td>0</td>\n",
       "      <td>0</td>\n",
       "      <td>0</td>\n",
       "      <td>0</td>\n",
       "      <td>0</td>\n",
       "      <td>0</td>\n",
       "      <td>0</td>\n",
       "      <td>0</td>\n",
       "      <td>0</td>\n",
       "      <td>0</td>\n",
       "      <td>0</td>\n",
       "      <td>0</td>\n",
       "      <td>0</td>\n",
       "      <td>0</td>\n",
       "      <td>0</td>\n",
       "      <td>0</td>\n",
       "      <td>0</td>\n",
       "      <td>0</td>\n",
       "      <td>0</td>\n",
       "      <td>0</td>\n",
       "      <td>...</td>\n",
       "      <td>0</td>\n",
       "      <td>0</td>\n",
       "      <td>0</td>\n",
       "      <td>0</td>\n",
       "      <td>0</td>\n",
       "      <td>0</td>\n",
       "      <td>0</td>\n",
       "      <td>0</td>\n",
       "      <td>0</td>\n",
       "      <td>0</td>\n",
       "      <td>0</td>\n",
       "      <td>0</td>\n",
       "      <td>0</td>\n",
       "      <td>0</td>\n",
       "      <td>0</td>\n",
       "      <td>0</td>\n",
       "      <td>0</td>\n",
       "      <td>0</td>\n",
       "      <td>0</td>\n",
       "      <td>0</td>\n",
       "      <td>0</td>\n",
       "      <td>0</td>\n",
       "      <td>0</td>\n",
       "      <td>0</td>\n",
       "      <td>0</td>\n",
       "      <td>0</td>\n",
       "      <td>0</td>\n",
       "      <td>0</td>\n",
       "      <td>1</td>\n",
       "      <td>0</td>\n",
       "      <td>1</td>\n",
       "      <td>0</td>\n",
       "      <td>0</td>\n",
       "      <td>0</td>\n",
       "      <td>0</td>\n",
       "      <td>1</td>\n",
       "      <td>1</td>\n",
       "      <td>0</td>\n",
       "      <td>0</td>\n",
       "      <td>0</td>\n",
       "    </tr>\n",
       "    <tr>\n",
       "      <th>1</th>\n",
       "      <td>Hyundai Creta 1.6 CRDi SX Option</td>\n",
       "      <td>Pune</td>\n",
       "      <td>2015</td>\n",
       "      <td>41000</td>\n",
       "      <td>Diesel</td>\n",
       "      <td>Manual</td>\n",
       "      <td>First</td>\n",
       "      <td>19.67</td>\n",
       "      <td>1582.0</td>\n",
       "      <td>126.20</td>\n",
       "      <td>5.0</td>\n",
       "      <td>12.50</td>\n",
       "      <td>5</td>\n",
       "      <td>Hyundai Creta</td>\n",
       "      <td>118</td>\n",
       "      <td>17.673898</td>\n",
       "      <td>121.830508</td>\n",
       "      <td>1572.745763</td>\n",
       "      <td>0</td>\n",
       "      <td>0</td>\n",
       "      <td>0</td>\n",
       "      <td>0</td>\n",
       "      <td>0</td>\n",
       "      <td>0</td>\n",
       "      <td>0</td>\n",
       "      <td>0</td>\n",
       "      <td>0</td>\n",
       "      <td>0</td>\n",
       "      <td>0</td>\n",
       "      <td>0</td>\n",
       "      <td>0</td>\n",
       "      <td>0</td>\n",
       "      <td>0</td>\n",
       "      <td>0</td>\n",
       "      <td>0</td>\n",
       "      <td>0</td>\n",
       "      <td>0</td>\n",
       "      <td>0</td>\n",
       "      <td>0</td>\n",
       "      <td>0</td>\n",
       "      <td>...</td>\n",
       "      <td>0</td>\n",
       "      <td>0</td>\n",
       "      <td>0</td>\n",
       "      <td>0</td>\n",
       "      <td>0</td>\n",
       "      <td>0</td>\n",
       "      <td>0</td>\n",
       "      <td>0</td>\n",
       "      <td>0</td>\n",
       "      <td>0</td>\n",
       "      <td>0</td>\n",
       "      <td>0</td>\n",
       "      <td>0</td>\n",
       "      <td>0</td>\n",
       "      <td>0</td>\n",
       "      <td>0</td>\n",
       "      <td>0</td>\n",
       "      <td>0</td>\n",
       "      <td>0</td>\n",
       "      <td>0</td>\n",
       "      <td>0</td>\n",
       "      <td>0</td>\n",
       "      <td>0</td>\n",
       "      <td>0</td>\n",
       "      <td>0</td>\n",
       "      <td>0</td>\n",
       "      <td>0</td>\n",
       "      <td>0</td>\n",
       "      <td>0</td>\n",
       "      <td>1</td>\n",
       "      <td>0</td>\n",
       "      <td>1</td>\n",
       "      <td>0</td>\n",
       "      <td>0</td>\n",
       "      <td>0</td>\n",
       "      <td>1</td>\n",
       "      <td>1</td>\n",
       "      <td>0</td>\n",
       "      <td>0</td>\n",
       "      <td>0</td>\n",
       "    </tr>\n",
       "    <tr>\n",
       "      <th>2</th>\n",
       "      <td>Honda Jazz V</td>\n",
       "      <td>Chennai</td>\n",
       "      <td>2011</td>\n",
       "      <td>46000</td>\n",
       "      <td>Petrol</td>\n",
       "      <td>Manual</td>\n",
       "      <td>First</td>\n",
       "      <td>18.20</td>\n",
       "      <td>1199.0</td>\n",
       "      <td>88.70</td>\n",
       "      <td>5.0</td>\n",
       "      <td>4.50</td>\n",
       "      <td>9</td>\n",
       "      <td>Honda Jazz</td>\n",
       "      <td>69</td>\n",
       "      <td>20.586957</td>\n",
       "      <td>91.521739</td>\n",
       "      <td>1281.246377</td>\n",
       "      <td>0</td>\n",
       "      <td>0</td>\n",
       "      <td>0</td>\n",
       "      <td>0</td>\n",
       "      <td>0</td>\n",
       "      <td>0</td>\n",
       "      <td>0</td>\n",
       "      <td>0</td>\n",
       "      <td>0</td>\n",
       "      <td>0</td>\n",
       "      <td>0</td>\n",
       "      <td>0</td>\n",
       "      <td>0</td>\n",
       "      <td>0</td>\n",
       "      <td>0</td>\n",
       "      <td>0</td>\n",
       "      <td>0</td>\n",
       "      <td>0</td>\n",
       "      <td>0</td>\n",
       "      <td>0</td>\n",
       "      <td>0</td>\n",
       "      <td>0</td>\n",
       "      <td>...</td>\n",
       "      <td>0</td>\n",
       "      <td>0</td>\n",
       "      <td>0</td>\n",
       "      <td>0</td>\n",
       "      <td>0</td>\n",
       "      <td>0</td>\n",
       "      <td>0</td>\n",
       "      <td>0</td>\n",
       "      <td>0</td>\n",
       "      <td>0</td>\n",
       "      <td>0</td>\n",
       "      <td>0</td>\n",
       "      <td>0</td>\n",
       "      <td>0</td>\n",
       "      <td>0</td>\n",
       "      <td>0</td>\n",
       "      <td>0</td>\n",
       "      <td>0</td>\n",
       "      <td>0</td>\n",
       "      <td>0</td>\n",
       "      <td>0</td>\n",
       "      <td>1</td>\n",
       "      <td>0</td>\n",
       "      <td>0</td>\n",
       "      <td>0</td>\n",
       "      <td>0</td>\n",
       "      <td>0</td>\n",
       "      <td>0</td>\n",
       "      <td>0</td>\n",
       "      <td>0</td>\n",
       "      <td>0</td>\n",
       "      <td>0</td>\n",
       "      <td>0</td>\n",
       "      <td>1</td>\n",
       "      <td>0</td>\n",
       "      <td>1</td>\n",
       "      <td>1</td>\n",
       "      <td>0</td>\n",
       "      <td>0</td>\n",
       "      <td>0</td>\n",
       "    </tr>\n",
       "    <tr>\n",
       "      <th>3</th>\n",
       "      <td>Maruti Ertiga VDI</td>\n",
       "      <td>Chennai</td>\n",
       "      <td>2012</td>\n",
       "      <td>87000</td>\n",
       "      <td>Diesel</td>\n",
       "      <td>Manual</td>\n",
       "      <td>First</td>\n",
       "      <td>20.77</td>\n",
       "      <td>1248.0</td>\n",
       "      <td>88.76</td>\n",
       "      <td>7.0</td>\n",
       "      <td>6.00</td>\n",
       "      <td>8</td>\n",
       "      <td>Maruti Ertiga</td>\n",
       "      <td>86</td>\n",
       "      <td>20.633953</td>\n",
       "      <td>89.712093</td>\n",
       "      <td>1287.860465</td>\n",
       "      <td>0</td>\n",
       "      <td>0</td>\n",
       "      <td>0</td>\n",
       "      <td>0</td>\n",
       "      <td>0</td>\n",
       "      <td>0</td>\n",
       "      <td>0</td>\n",
       "      <td>0</td>\n",
       "      <td>0</td>\n",
       "      <td>0</td>\n",
       "      <td>0</td>\n",
       "      <td>0</td>\n",
       "      <td>0</td>\n",
       "      <td>0</td>\n",
       "      <td>0</td>\n",
       "      <td>0</td>\n",
       "      <td>0</td>\n",
       "      <td>0</td>\n",
       "      <td>0</td>\n",
       "      <td>0</td>\n",
       "      <td>0</td>\n",
       "      <td>0</td>\n",
       "      <td>...</td>\n",
       "      <td>0</td>\n",
       "      <td>0</td>\n",
       "      <td>0</td>\n",
       "      <td>0</td>\n",
       "      <td>0</td>\n",
       "      <td>0</td>\n",
       "      <td>0</td>\n",
       "      <td>0</td>\n",
       "      <td>0</td>\n",
       "      <td>0</td>\n",
       "      <td>0</td>\n",
       "      <td>0</td>\n",
       "      <td>0</td>\n",
       "      <td>0</td>\n",
       "      <td>0</td>\n",
       "      <td>0</td>\n",
       "      <td>0</td>\n",
       "      <td>0</td>\n",
       "      <td>0</td>\n",
       "      <td>0</td>\n",
       "      <td>0</td>\n",
       "      <td>1</td>\n",
       "      <td>0</td>\n",
       "      <td>0</td>\n",
       "      <td>0</td>\n",
       "      <td>0</td>\n",
       "      <td>0</td>\n",
       "      <td>0</td>\n",
       "      <td>0</td>\n",
       "      <td>0</td>\n",
       "      <td>0</td>\n",
       "      <td>1</td>\n",
       "      <td>0</td>\n",
       "      <td>0</td>\n",
       "      <td>0</td>\n",
       "      <td>1</td>\n",
       "      <td>1</td>\n",
       "      <td>0</td>\n",
       "      <td>0</td>\n",
       "      <td>0</td>\n",
       "    </tr>\n",
       "    <tr>\n",
       "      <th>4</th>\n",
       "      <td>Audi A4 New 2.0 TDI Multitronic</td>\n",
       "      <td>Coimbatore</td>\n",
       "      <td>2013</td>\n",
       "      <td>40670</td>\n",
       "      <td>Diesel</td>\n",
       "      <td>Automatic</td>\n",
       "      <td>Second</td>\n",
       "      <td>15.20</td>\n",
       "      <td>1968.0</td>\n",
       "      <td>140.80</td>\n",
       "      <td>5.0</td>\n",
       "      <td>17.74</td>\n",
       "      <td>7</td>\n",
       "      <td>Audi A4</td>\n",
       "      <td>90</td>\n",
       "      <td>16.438111</td>\n",
       "      <td>162.041556</td>\n",
       "      <td>2024.922222</td>\n",
       "      <td>0</td>\n",
       "      <td>0</td>\n",
       "      <td>0</td>\n",
       "      <td>0</td>\n",
       "      <td>0</td>\n",
       "      <td>0</td>\n",
       "      <td>0</td>\n",
       "      <td>0</td>\n",
       "      <td>0</td>\n",
       "      <td>0</td>\n",
       "      <td>0</td>\n",
       "      <td>0</td>\n",
       "      <td>0</td>\n",
       "      <td>0</td>\n",
       "      <td>0</td>\n",
       "      <td>0</td>\n",
       "      <td>0</td>\n",
       "      <td>0</td>\n",
       "      <td>0</td>\n",
       "      <td>0</td>\n",
       "      <td>0</td>\n",
       "      <td>0</td>\n",
       "      <td>...</td>\n",
       "      <td>0</td>\n",
       "      <td>0</td>\n",
       "      <td>0</td>\n",
       "      <td>0</td>\n",
       "      <td>0</td>\n",
       "      <td>0</td>\n",
       "      <td>0</td>\n",
       "      <td>0</td>\n",
       "      <td>0</td>\n",
       "      <td>0</td>\n",
       "      <td>0</td>\n",
       "      <td>0</td>\n",
       "      <td>0</td>\n",
       "      <td>0</td>\n",
       "      <td>0</td>\n",
       "      <td>0</td>\n",
       "      <td>0</td>\n",
       "      <td>0</td>\n",
       "      <td>0</td>\n",
       "      <td>0</td>\n",
       "      <td>0</td>\n",
       "      <td>0</td>\n",
       "      <td>1</td>\n",
       "      <td>0</td>\n",
       "      <td>0</td>\n",
       "      <td>0</td>\n",
       "      <td>0</td>\n",
       "      <td>0</td>\n",
       "      <td>0</td>\n",
       "      <td>0</td>\n",
       "      <td>0</td>\n",
       "      <td>1</td>\n",
       "      <td>0</td>\n",
       "      <td>0</td>\n",
       "      <td>1</td>\n",
       "      <td>0</td>\n",
       "      <td>0</td>\n",
       "      <td>0</td>\n",
       "      <td>1</td>\n",
       "      <td>0</td>\n",
       "    </tr>\n",
       "  </tbody>\n",
       "</table>\n",
       "<p>5 rows × 2055 columns</p>\n",
       "</div>"
      ],
      "text/plain": [
       "                               Name    Location  ...  Second  Third\n",
       "0            Maruti Wagon R LXI CNG      Mumbai  ...       0      0\n",
       "1  Hyundai Creta 1.6 CRDi SX Option        Pune  ...       0      0\n",
       "2                      Honda Jazz V     Chennai  ...       0      0\n",
       "3                 Maruti Ertiga VDI     Chennai  ...       0      0\n",
       "4   Audi A4 New 2.0 TDI Multitronic  Coimbatore  ...       1      0\n",
       "\n",
       "[5 rows x 2055 columns]"
      ]
     },
     "execution_count": 86,
     "metadata": {
      "tags": []
     },
     "output_type": "execute_result"
    }
   ],
   "source": [
    "tr.head()"
   ]
  },
  {
   "cell_type": "code",
   "execution_count": 87,
   "metadata": {
    "colab": {},
    "colab_type": "code",
    "executionInfo": {
     "elapsed": 1339,
     "status": "ok",
     "timestamp": 1596300430306,
     "user": {
      "displayName": "Vaishnavi Rai",
      "photoUrl": "https://lh3.googleusercontent.com/-muQ4WjNuOb8/AAAAAAAAAAI/AAAAAAAAF5A/L9I9qOt7G_8/s64/photo.jpg",
      "userId": "13557949291054352338"
     },
     "user_tz": -330
    },
    "id": "2mgtubnl3vAe"
   },
   "outputs": [],
   "source": [
    "tr.drop(['Name','Brand','Location','Fuel_Type','Owner_Type','Transmission'], axis=1, inplace=True)"
   ]
  },
  {
   "cell_type": "code",
   "execution_count": 88,
   "metadata": {
    "colab": {
     "base_uri": "https://localhost:8080/",
     "height": 34
    },
    "colab_type": "code",
    "executionInfo": {
     "elapsed": 1774,
     "status": "ok",
     "timestamp": 1596300435124,
     "user": {
      "displayName": "Vaishnavi Rai",
      "photoUrl": "https://lh3.googleusercontent.com/-muQ4WjNuOb8/AAAAAAAAAAI/AAAAAAAAF5A/L9I9qOt7G_8/s64/photo.jpg",
      "userId": "13557949291054352338"
     },
     "user_tz": -330
    },
    "id": "IZvtNpSv3vAf",
    "outputId": "fefb1851-2470-468e-c796-fb4af1db41e9"
   },
   "outputs": [
    {
     "data": {
      "text/plain": [
       "(7198, 2049)"
      ]
     },
     "execution_count": 88,
     "metadata": {
      "tags": []
     },
     "output_type": "execute_result"
    }
   ],
   "source": [
    "tr.shape"
   ]
  },
  {
   "cell_type": "code",
   "execution_count": 89,
   "metadata": {
    "colab": {},
    "colab_type": "code",
    "executionInfo": {
     "elapsed": 1468,
     "status": "ok",
     "timestamp": 1596300438297,
     "user": {
      "displayName": "Vaishnavi Rai",
      "photoUrl": "https://lh3.googleusercontent.com/-muQ4WjNuOb8/AAAAAAAAAAI/AAAAAAAAF5A/L9I9qOt7G_8/s64/photo.jpg",
      "userId": "13557949291054352338"
     },
     "user_tz": -330
    },
    "id": "fKA5FWUZ3vAk"
   },
   "outputs": [],
   "source": [
    "tr.drop(['Year'],axis=1,inplace=True)"
   ]
  },
  {
   "cell_type": "code",
   "execution_count": 90,
   "metadata": {
    "colab": {
     "base_uri": "https://localhost:8080/",
     "height": 101
    },
    "colab_type": "code",
    "executionInfo": {
     "elapsed": 1667,
     "status": "ok",
     "timestamp": 1596300442189,
     "user": {
      "displayName": "Vaishnavi Rai",
      "photoUrl": "https://lh3.googleusercontent.com/-muQ4WjNuOb8/AAAAAAAAAAI/AAAAAAAAF5A/L9I9qOt7G_8/s64/photo.jpg",
      "userId": "13557949291054352338"
     },
     "user_tz": -330
    },
    "id": "7AJrMUTB3vAl",
    "outputId": "6a3dba25-10c2-473e-fa85-e3dcbba9eebb"
   },
   "outputs": [
    {
     "name": "stderr",
     "output_type": "stream",
     "text": [
      "/usr/local/lib/python3.6/dist-packages/pandas/core/frame.py:3997: SettingWithCopyWarning: \n",
      "A value is trying to be set on a copy of a slice from a DataFrame\n",
      "\n",
      "See the caveats in the documentation: https://pandas.pydata.org/pandas-docs/stable/user_guide/indexing.html#returning-a-view-versus-a-copy\n",
      "  errors=errors,\n"
     ]
    }
   ],
   "source": [
    "# Splitting the whole dataset into Training data and Testing data\n",
    "train_tr = tr[tr['Price'].isnull()!=True]\n",
    "test_tr = tr[tr['Price'].isnull()==True]\n",
    "test_tr.drop('Price', axis=1, inplace=True)"
   ]
  },
  {
   "cell_type": "code",
   "execution_count": 91,
   "metadata": {
    "colab": {
     "base_uri": "https://localhost:8080/",
     "height": 34
    },
    "colab_type": "code",
    "executionInfo": {
     "elapsed": 1430,
     "status": "ok",
     "timestamp": 1596300459656,
     "user": {
      "displayName": "Vaishnavi Rai",
      "photoUrl": "https://lh3.googleusercontent.com/-muQ4WjNuOb8/AAAAAAAAAAI/AAAAAAAAF5A/L9I9qOt7G_8/s64/photo.jpg",
      "userId": "13557949291054352338"
     },
     "user_tz": -330
    },
    "id": "WG7I2W443vAn",
    "outputId": "553d46ae-5806-43f3-917d-e540219aaf7a"
   },
   "outputs": [
    {
     "data": {
      "text/plain": [
       "((5964, 2048), (1234, 2047))"
      ]
     },
     "execution_count": 91,
     "metadata": {
      "tags": []
     },
     "output_type": "execute_result"
    }
   ],
   "source": [
    "train_tr.shape,test_tr.shape"
   ]
  },
  {
   "cell_type": "code",
   "execution_count": 92,
   "metadata": {
    "colab": {},
    "colab_type": "code",
    "executionInfo": {
     "elapsed": 1418,
     "status": "ok",
     "timestamp": 1596300463692,
     "user": {
      "displayName": "Vaishnavi Rai",
      "photoUrl": "https://lh3.googleusercontent.com/-muQ4WjNuOb8/AAAAAAAAAAI/AAAAAAAAF5A/L9I9qOt7G_8/s64/photo.jpg",
      "userId": "13557949291054352338"
     },
     "user_tz": -330
    },
    "id": "9QRTkDDs3vAp",
    "scrolled": true
   },
   "outputs": [],
   "source": [
    "y=train_tr.Price"
   ]
  },
  {
   "cell_type": "code",
   "execution_count": 93,
   "metadata": {
    "colab": {
     "base_uri": "https://localhost:8080/",
     "height": 101
    },
    "colab_type": "code",
    "executionInfo": {
     "elapsed": 1603,
     "status": "ok",
     "timestamp": 1596300466456,
     "user": {
      "displayName": "Vaishnavi Rai",
      "photoUrl": "https://lh3.googleusercontent.com/-muQ4WjNuOb8/AAAAAAAAAAI/AAAAAAAAF5A/L9I9qOt7G_8/s64/photo.jpg",
      "userId": "13557949291054352338"
     },
     "user_tz": -330
    },
    "id": "IOvlg0_03vAq",
    "outputId": "479ff606-df12-483c-fdb7-57f4bda04a49"
   },
   "outputs": [
    {
     "name": "stderr",
     "output_type": "stream",
     "text": [
      "/usr/local/lib/python3.6/dist-packages/pandas/core/frame.py:3997: SettingWithCopyWarning: \n",
      "A value is trying to be set on a copy of a slice from a DataFrame\n",
      "\n",
      "See the caveats in the documentation: https://pandas.pydata.org/pandas-docs/stable/user_guide/indexing.html#returning-a-view-versus-a-copy\n",
      "  errors=errors,\n"
     ]
    }
   ],
   "source": [
    "train_tr.drop('Price',axis=1,inplace=True)\n",
    "x=train_tr"
   ]
  },
  {
   "cell_type": "code",
   "execution_count": 94,
   "metadata": {
    "colab": {
     "base_uri": "https://localhost:8080/",
     "height": 34
    },
    "colab_type": "code",
    "executionInfo": {
     "elapsed": 1413,
     "status": "ok",
     "timestamp": 1596300477417,
     "user": {
      "displayName": "Vaishnavi Rai",
      "photoUrl": "https://lh3.googleusercontent.com/-muQ4WjNuOb8/AAAAAAAAAAI/AAAAAAAAF5A/L9I9qOt7G_8/s64/photo.jpg",
      "userId": "13557949291054352338"
     },
     "user_tz": -330
    },
    "id": "T6A8Xyt93vAs",
    "outputId": "7582db4a-df19-4cab-dc89-81dfcd4aa11f"
   },
   "outputs": [
    {
     "data": {
      "text/plain": [
       "((5964, 2047), (5964,))"
      ]
     },
     "execution_count": 94,
     "metadata": {
      "tags": []
     },
     "output_type": "execute_result"
    }
   ],
   "source": [
    "x.shape,y.shape\n"
   ]
  },
  {
   "cell_type": "code",
   "execution_count": 95,
   "metadata": {
    "colab": {
     "base_uri": "https://localhost:8080/",
     "height": 345
    },
    "colab_type": "code",
    "executionInfo": {
     "elapsed": 2073,
     "status": "ok",
     "timestamp": 1596300481373,
     "user": {
      "displayName": "Vaishnavi Rai",
      "photoUrl": "https://lh3.googleusercontent.com/-muQ4WjNuOb8/AAAAAAAAAAI/AAAAAAAAF5A/L9I9qOt7G_8/s64/photo.jpg",
      "userId": "13557949291054352338"
     },
     "user_tz": -330
    },
    "id": "06f1x8-O3vAt",
    "outputId": "d05a9c03-0d5b-4af1-bc69-2d23e3d26e7c"
   },
   "outputs": [
    {
     "data": {
      "text/html": [
       "<div>\n",
       "<style scoped>\n",
       "    .dataframe tbody tr th:only-of-type {\n",
       "        vertical-align: middle;\n",
       "    }\n",
       "\n",
       "    .dataframe tbody tr th {\n",
       "        vertical-align: top;\n",
       "    }\n",
       "\n",
       "    .dataframe thead th {\n",
       "        text-align: right;\n",
       "    }\n",
       "</style>\n",
       "<table border=\"1\" class=\"dataframe\">\n",
       "  <thead>\n",
       "    <tr style=\"text-align: right;\">\n",
       "      <th></th>\n",
       "      <th>Kilometers_Driven</th>\n",
       "      <th>Mileage</th>\n",
       "      <th>Engine</th>\n",
       "      <th>Power</th>\n",
       "      <th>Seats</th>\n",
       "      <th>Car age</th>\n",
       "      <th>Location_count</th>\n",
       "      <th>Mileage_mean</th>\n",
       "      <th>Power_mean</th>\n",
       "      <th>Engine_mean</th>\n",
       "      <th>Audi A3 35 TDI Attraction</th>\n",
       "      <th>Audi A3 35 TDI Premium</th>\n",
       "      <th>Audi A3 35 TDI Premium Plus</th>\n",
       "      <th>Audi A3 35 TDI Technology</th>\n",
       "      <th>Audi A4 1.8 TFSI</th>\n",
       "      <th>Audi A4 1.8 TFSI Technology Edition</th>\n",
       "      <th>Audi A4 2.0 TDI</th>\n",
       "      <th>Audi A4 2.0 TDI 177 Bhp Premium Plus</th>\n",
       "      <th>Audi A4 2.0 TDI 177 Bhp Technology Edition</th>\n",
       "      <th>Audi A4 2.0 TDI Celebration Edition</th>\n",
       "      <th>Audi A4 2.0 TDI Multitronic</th>\n",
       "      <th>Audi A4 2.0 TDI Premium Sport Limited Edition</th>\n",
       "      <th>Audi A4 2.0 TFSI</th>\n",
       "      <th>Audi A4 3.0 TDI Quattro</th>\n",
       "      <th>Audi A4 3.0 TDI Quattro Premium</th>\n",
       "      <th>Audi A4 3.2 FSI Tiptronic Quattro</th>\n",
       "      <th>Audi A4 30 TFSI Premium Plus</th>\n",
       "      <th>Audi A4 35 TDI Premium</th>\n",
       "      <th>Audi A4 35 TDI Premium Plus</th>\n",
       "      <th>Audi A4 35 TDI Premium Sport</th>\n",
       "      <th>Audi A4 35 TDI Technology</th>\n",
       "      <th>Audi A4 35 TDI Technology Edition</th>\n",
       "      <th>Audi A4 New 2.0 TDI Multitronic</th>\n",
       "      <th>Audi A6 2.0 TDI Design Edition</th>\n",
       "      <th>Audi A6 2.7 TDI</th>\n",
       "      <th>Audi A6 2.8 FSI</th>\n",
       "      <th>Audi A6 2011-2015 2.0 TDI</th>\n",
       "      <th>Audi A6 2011-2015 2.0 TDI Premium Plus</th>\n",
       "      <th>Audi A6 2011-2015 2.0 TDI Technology</th>\n",
       "      <th>Audi A6 2011-2015 3.0 TDI Quattro Premium Plus</th>\n",
       "      <th>...</th>\n",
       "      <th>Volkswagen Vento Sport 1.2 TSI AT</th>\n",
       "      <th>Volkswagen Vento TSI</th>\n",
       "      <th>Volvo S60 D3</th>\n",
       "      <th>Volvo S60 D4 KINETIC</th>\n",
       "      <th>Volvo S60 D4 Momentum</th>\n",
       "      <th>Volvo S60 D4 SUMMUM</th>\n",
       "      <th>Volvo S60 D5 Kinetic</th>\n",
       "      <th>Volvo S60 D5 Summum</th>\n",
       "      <th>Volvo S80 2006-2013 D5</th>\n",
       "      <th>Volvo S80 D5</th>\n",
       "      <th>Volvo V40 Cross Country D3</th>\n",
       "      <th>Volvo V40 D3</th>\n",
       "      <th>Volvo V40 D3 R Design</th>\n",
       "      <th>Volvo XC60 D4 SUMMUM</th>\n",
       "      <th>Volvo XC60 D4 Summum</th>\n",
       "      <th>Volvo XC60 D5</th>\n",
       "      <th>Volvo XC60 D5 Inscription</th>\n",
       "      <th>Volvo XC90 2007-2015 D5 AT AWD</th>\n",
       "      <th>Volvo XC90 2007-2015 D5 AWD</th>\n",
       "      <th>Ahmedabad</th>\n",
       "      <th>Bangalore</th>\n",
       "      <th>Chennai</th>\n",
       "      <th>Coimbatore</th>\n",
       "      <th>Delhi</th>\n",
       "      <th>Hyderabad</th>\n",
       "      <th>Jaipur</th>\n",
       "      <th>Kochi</th>\n",
       "      <th>Kolkata</th>\n",
       "      <th>Mumbai</th>\n",
       "      <th>Pune</th>\n",
       "      <th>CNG</th>\n",
       "      <th>Diesel</th>\n",
       "      <th>LPG</th>\n",
       "      <th>Petrol</th>\n",
       "      <th>Automatic</th>\n",
       "      <th>Manual</th>\n",
       "      <th>First</th>\n",
       "      <th>Fourth &amp; Above</th>\n",
       "      <th>Second</th>\n",
       "      <th>Third</th>\n",
       "    </tr>\n",
       "  </thead>\n",
       "  <tbody>\n",
       "    <tr>\n",
       "      <th>0</th>\n",
       "      <td>72000</td>\n",
       "      <td>26.60</td>\n",
       "      <td>998.0</td>\n",
       "      <td>58.16</td>\n",
       "      <td>5.0</td>\n",
       "      <td>10</td>\n",
       "      <td>176</td>\n",
       "      <td>20.963011</td>\n",
       "      <td>66.197045</td>\n",
       "      <td>1014.147727</td>\n",
       "      <td>0</td>\n",
       "      <td>0</td>\n",
       "      <td>0</td>\n",
       "      <td>0</td>\n",
       "      <td>0</td>\n",
       "      <td>0</td>\n",
       "      <td>0</td>\n",
       "      <td>0</td>\n",
       "      <td>0</td>\n",
       "      <td>0</td>\n",
       "      <td>0</td>\n",
       "      <td>0</td>\n",
       "      <td>0</td>\n",
       "      <td>0</td>\n",
       "      <td>0</td>\n",
       "      <td>0</td>\n",
       "      <td>0</td>\n",
       "      <td>0</td>\n",
       "      <td>0</td>\n",
       "      <td>0</td>\n",
       "      <td>0</td>\n",
       "      <td>0</td>\n",
       "      <td>0</td>\n",
       "      <td>0</td>\n",
       "      <td>0</td>\n",
       "      <td>0</td>\n",
       "      <td>0</td>\n",
       "      <td>0</td>\n",
       "      <td>0</td>\n",
       "      <td>0</td>\n",
       "      <td>...</td>\n",
       "      <td>0</td>\n",
       "      <td>0</td>\n",
       "      <td>0</td>\n",
       "      <td>0</td>\n",
       "      <td>0</td>\n",
       "      <td>0</td>\n",
       "      <td>0</td>\n",
       "      <td>0</td>\n",
       "      <td>0</td>\n",
       "      <td>0</td>\n",
       "      <td>0</td>\n",
       "      <td>0</td>\n",
       "      <td>0</td>\n",
       "      <td>0</td>\n",
       "      <td>0</td>\n",
       "      <td>0</td>\n",
       "      <td>0</td>\n",
       "      <td>0</td>\n",
       "      <td>0</td>\n",
       "      <td>0</td>\n",
       "      <td>0</td>\n",
       "      <td>0</td>\n",
       "      <td>0</td>\n",
       "      <td>0</td>\n",
       "      <td>0</td>\n",
       "      <td>0</td>\n",
       "      <td>0</td>\n",
       "      <td>0</td>\n",
       "      <td>1</td>\n",
       "      <td>0</td>\n",
       "      <td>1</td>\n",
       "      <td>0</td>\n",
       "      <td>0</td>\n",
       "      <td>0</td>\n",
       "      <td>0</td>\n",
       "      <td>1</td>\n",
       "      <td>1</td>\n",
       "      <td>0</td>\n",
       "      <td>0</td>\n",
       "      <td>0</td>\n",
       "    </tr>\n",
       "    <tr>\n",
       "      <th>1</th>\n",
       "      <td>41000</td>\n",
       "      <td>19.67</td>\n",
       "      <td>1582.0</td>\n",
       "      <td>126.20</td>\n",
       "      <td>5.0</td>\n",
       "      <td>5</td>\n",
       "      <td>118</td>\n",
       "      <td>17.673898</td>\n",
       "      <td>121.830508</td>\n",
       "      <td>1572.745763</td>\n",
       "      <td>0</td>\n",
       "      <td>0</td>\n",
       "      <td>0</td>\n",
       "      <td>0</td>\n",
       "      <td>0</td>\n",
       "      <td>0</td>\n",
       "      <td>0</td>\n",
       "      <td>0</td>\n",
       "      <td>0</td>\n",
       "      <td>0</td>\n",
       "      <td>0</td>\n",
       "      <td>0</td>\n",
       "      <td>0</td>\n",
       "      <td>0</td>\n",
       "      <td>0</td>\n",
       "      <td>0</td>\n",
       "      <td>0</td>\n",
       "      <td>0</td>\n",
       "      <td>0</td>\n",
       "      <td>0</td>\n",
       "      <td>0</td>\n",
       "      <td>0</td>\n",
       "      <td>0</td>\n",
       "      <td>0</td>\n",
       "      <td>0</td>\n",
       "      <td>0</td>\n",
       "      <td>0</td>\n",
       "      <td>0</td>\n",
       "      <td>0</td>\n",
       "      <td>0</td>\n",
       "      <td>...</td>\n",
       "      <td>0</td>\n",
       "      <td>0</td>\n",
       "      <td>0</td>\n",
       "      <td>0</td>\n",
       "      <td>0</td>\n",
       "      <td>0</td>\n",
       "      <td>0</td>\n",
       "      <td>0</td>\n",
       "      <td>0</td>\n",
       "      <td>0</td>\n",
       "      <td>0</td>\n",
       "      <td>0</td>\n",
       "      <td>0</td>\n",
       "      <td>0</td>\n",
       "      <td>0</td>\n",
       "      <td>0</td>\n",
       "      <td>0</td>\n",
       "      <td>0</td>\n",
       "      <td>0</td>\n",
       "      <td>0</td>\n",
       "      <td>0</td>\n",
       "      <td>0</td>\n",
       "      <td>0</td>\n",
       "      <td>0</td>\n",
       "      <td>0</td>\n",
       "      <td>0</td>\n",
       "      <td>0</td>\n",
       "      <td>0</td>\n",
       "      <td>0</td>\n",
       "      <td>1</td>\n",
       "      <td>0</td>\n",
       "      <td>1</td>\n",
       "      <td>0</td>\n",
       "      <td>0</td>\n",
       "      <td>0</td>\n",
       "      <td>1</td>\n",
       "      <td>1</td>\n",
       "      <td>0</td>\n",
       "      <td>0</td>\n",
       "      <td>0</td>\n",
       "    </tr>\n",
       "    <tr>\n",
       "      <th>2</th>\n",
       "      <td>46000</td>\n",
       "      <td>18.20</td>\n",
       "      <td>1199.0</td>\n",
       "      <td>88.70</td>\n",
       "      <td>5.0</td>\n",
       "      <td>9</td>\n",
       "      <td>69</td>\n",
       "      <td>20.586957</td>\n",
       "      <td>91.521739</td>\n",
       "      <td>1281.246377</td>\n",
       "      <td>0</td>\n",
       "      <td>0</td>\n",
       "      <td>0</td>\n",
       "      <td>0</td>\n",
       "      <td>0</td>\n",
       "      <td>0</td>\n",
       "      <td>0</td>\n",
       "      <td>0</td>\n",
       "      <td>0</td>\n",
       "      <td>0</td>\n",
       "      <td>0</td>\n",
       "      <td>0</td>\n",
       "      <td>0</td>\n",
       "      <td>0</td>\n",
       "      <td>0</td>\n",
       "      <td>0</td>\n",
       "      <td>0</td>\n",
       "      <td>0</td>\n",
       "      <td>0</td>\n",
       "      <td>0</td>\n",
       "      <td>0</td>\n",
       "      <td>0</td>\n",
       "      <td>0</td>\n",
       "      <td>0</td>\n",
       "      <td>0</td>\n",
       "      <td>0</td>\n",
       "      <td>0</td>\n",
       "      <td>0</td>\n",
       "      <td>0</td>\n",
       "      <td>0</td>\n",
       "      <td>...</td>\n",
       "      <td>0</td>\n",
       "      <td>0</td>\n",
       "      <td>0</td>\n",
       "      <td>0</td>\n",
       "      <td>0</td>\n",
       "      <td>0</td>\n",
       "      <td>0</td>\n",
       "      <td>0</td>\n",
       "      <td>0</td>\n",
       "      <td>0</td>\n",
       "      <td>0</td>\n",
       "      <td>0</td>\n",
       "      <td>0</td>\n",
       "      <td>0</td>\n",
       "      <td>0</td>\n",
       "      <td>0</td>\n",
       "      <td>0</td>\n",
       "      <td>0</td>\n",
       "      <td>0</td>\n",
       "      <td>0</td>\n",
       "      <td>0</td>\n",
       "      <td>1</td>\n",
       "      <td>0</td>\n",
       "      <td>0</td>\n",
       "      <td>0</td>\n",
       "      <td>0</td>\n",
       "      <td>0</td>\n",
       "      <td>0</td>\n",
       "      <td>0</td>\n",
       "      <td>0</td>\n",
       "      <td>0</td>\n",
       "      <td>0</td>\n",
       "      <td>0</td>\n",
       "      <td>1</td>\n",
       "      <td>0</td>\n",
       "      <td>1</td>\n",
       "      <td>1</td>\n",
       "      <td>0</td>\n",
       "      <td>0</td>\n",
       "      <td>0</td>\n",
       "    </tr>\n",
       "    <tr>\n",
       "      <th>3</th>\n",
       "      <td>87000</td>\n",
       "      <td>20.77</td>\n",
       "      <td>1248.0</td>\n",
       "      <td>88.76</td>\n",
       "      <td>7.0</td>\n",
       "      <td>8</td>\n",
       "      <td>86</td>\n",
       "      <td>20.633953</td>\n",
       "      <td>89.712093</td>\n",
       "      <td>1287.860465</td>\n",
       "      <td>0</td>\n",
       "      <td>0</td>\n",
       "      <td>0</td>\n",
       "      <td>0</td>\n",
       "      <td>0</td>\n",
       "      <td>0</td>\n",
       "      <td>0</td>\n",
       "      <td>0</td>\n",
       "      <td>0</td>\n",
       "      <td>0</td>\n",
       "      <td>0</td>\n",
       "      <td>0</td>\n",
       "      <td>0</td>\n",
       "      <td>0</td>\n",
       "      <td>0</td>\n",
       "      <td>0</td>\n",
       "      <td>0</td>\n",
       "      <td>0</td>\n",
       "      <td>0</td>\n",
       "      <td>0</td>\n",
       "      <td>0</td>\n",
       "      <td>0</td>\n",
       "      <td>0</td>\n",
       "      <td>0</td>\n",
       "      <td>0</td>\n",
       "      <td>0</td>\n",
       "      <td>0</td>\n",
       "      <td>0</td>\n",
       "      <td>0</td>\n",
       "      <td>0</td>\n",
       "      <td>...</td>\n",
       "      <td>0</td>\n",
       "      <td>0</td>\n",
       "      <td>0</td>\n",
       "      <td>0</td>\n",
       "      <td>0</td>\n",
       "      <td>0</td>\n",
       "      <td>0</td>\n",
       "      <td>0</td>\n",
       "      <td>0</td>\n",
       "      <td>0</td>\n",
       "      <td>0</td>\n",
       "      <td>0</td>\n",
       "      <td>0</td>\n",
       "      <td>0</td>\n",
       "      <td>0</td>\n",
       "      <td>0</td>\n",
       "      <td>0</td>\n",
       "      <td>0</td>\n",
       "      <td>0</td>\n",
       "      <td>0</td>\n",
       "      <td>0</td>\n",
       "      <td>1</td>\n",
       "      <td>0</td>\n",
       "      <td>0</td>\n",
       "      <td>0</td>\n",
       "      <td>0</td>\n",
       "      <td>0</td>\n",
       "      <td>0</td>\n",
       "      <td>0</td>\n",
       "      <td>0</td>\n",
       "      <td>0</td>\n",
       "      <td>1</td>\n",
       "      <td>0</td>\n",
       "      <td>0</td>\n",
       "      <td>0</td>\n",
       "      <td>1</td>\n",
       "      <td>1</td>\n",
       "      <td>0</td>\n",
       "      <td>0</td>\n",
       "      <td>0</td>\n",
       "    </tr>\n",
       "    <tr>\n",
       "      <th>4</th>\n",
       "      <td>40670</td>\n",
       "      <td>15.20</td>\n",
       "      <td>1968.0</td>\n",
       "      <td>140.80</td>\n",
       "      <td>5.0</td>\n",
       "      <td>7</td>\n",
       "      <td>90</td>\n",
       "      <td>16.438111</td>\n",
       "      <td>162.041556</td>\n",
       "      <td>2024.922222</td>\n",
       "      <td>0</td>\n",
       "      <td>0</td>\n",
       "      <td>0</td>\n",
       "      <td>0</td>\n",
       "      <td>0</td>\n",
       "      <td>0</td>\n",
       "      <td>0</td>\n",
       "      <td>0</td>\n",
       "      <td>0</td>\n",
       "      <td>0</td>\n",
       "      <td>0</td>\n",
       "      <td>0</td>\n",
       "      <td>0</td>\n",
       "      <td>0</td>\n",
       "      <td>0</td>\n",
       "      <td>0</td>\n",
       "      <td>0</td>\n",
       "      <td>0</td>\n",
       "      <td>0</td>\n",
       "      <td>0</td>\n",
       "      <td>0</td>\n",
       "      <td>0</td>\n",
       "      <td>1</td>\n",
       "      <td>0</td>\n",
       "      <td>0</td>\n",
       "      <td>0</td>\n",
       "      <td>0</td>\n",
       "      <td>0</td>\n",
       "      <td>0</td>\n",
       "      <td>0</td>\n",
       "      <td>...</td>\n",
       "      <td>0</td>\n",
       "      <td>0</td>\n",
       "      <td>0</td>\n",
       "      <td>0</td>\n",
       "      <td>0</td>\n",
       "      <td>0</td>\n",
       "      <td>0</td>\n",
       "      <td>0</td>\n",
       "      <td>0</td>\n",
       "      <td>0</td>\n",
       "      <td>0</td>\n",
       "      <td>0</td>\n",
       "      <td>0</td>\n",
       "      <td>0</td>\n",
       "      <td>0</td>\n",
       "      <td>0</td>\n",
       "      <td>0</td>\n",
       "      <td>0</td>\n",
       "      <td>0</td>\n",
       "      <td>0</td>\n",
       "      <td>0</td>\n",
       "      <td>0</td>\n",
       "      <td>1</td>\n",
       "      <td>0</td>\n",
       "      <td>0</td>\n",
       "      <td>0</td>\n",
       "      <td>0</td>\n",
       "      <td>0</td>\n",
       "      <td>0</td>\n",
       "      <td>0</td>\n",
       "      <td>0</td>\n",
       "      <td>1</td>\n",
       "      <td>0</td>\n",
       "      <td>0</td>\n",
       "      <td>1</td>\n",
       "      <td>0</td>\n",
       "      <td>0</td>\n",
       "      <td>0</td>\n",
       "      <td>1</td>\n",
       "      <td>0</td>\n",
       "    </tr>\n",
       "  </tbody>\n",
       "</table>\n",
       "<p>5 rows × 2047 columns</p>\n",
       "</div>"
      ],
      "text/plain": [
       "   Kilometers_Driven  Mileage  Engine  ...  Fourth & Above  Second  Third\n",
       "0              72000    26.60   998.0  ...               0       0      0\n",
       "1              41000    19.67  1582.0  ...               0       0      0\n",
       "2              46000    18.20  1199.0  ...               0       0      0\n",
       "3              87000    20.77  1248.0  ...               0       0      0\n",
       "4              40670    15.20  1968.0  ...               0       1      0\n",
       "\n",
       "[5 rows x 2047 columns]"
      ]
     },
     "execution_count": 95,
     "metadata": {
      "tags": []
     },
     "output_type": "execute_result"
    }
   ],
   "source": [
    "x.head()"
   ]
  },
  {
   "cell_type": "markdown",
   "metadata": {
    "colab_type": "text",
    "id": "ld-ax-AV3vAw"
   },
   "source": [
    "## Splitting the labeled dataset into training and testing data"
   ]
  },
  {
   "cell_type": "code",
   "execution_count": 96,
   "metadata": {
    "colab": {},
    "colab_type": "code",
    "executionInfo": {
     "elapsed": 2167,
     "status": "ok",
     "timestamp": 1596300490724,
     "user": {
      "displayName": "Vaishnavi Rai",
      "photoUrl": "https://lh3.googleusercontent.com/-muQ4WjNuOb8/AAAAAAAAAAI/AAAAAAAAF5A/L9I9qOt7G_8/s64/photo.jpg",
      "userId": "13557949291054352338"
     },
     "user_tz": -330
    },
    "id": "wTPoR9bP3vAw"
   },
   "outputs": [],
   "source": [
    "from sklearn.model_selection import train_test_split\n",
    "x_train, x_test, y_train, y_test = train_test_split(x, y, test_size=0.2,random_state=42)\n"
   ]
  },
  {
   "cell_type": "markdown",
   "metadata": {
    "colab_type": "text",
    "id": "tvofONgG3vAx"
   },
   "source": [
    "# BUILDING & TRAINING THE MODELS"
   ]
  },
  {
   "cell_type": "markdown",
   "metadata": {
    "colab_type": "text",
    "id": "I2-E_SK63vAy"
   },
   "source": [
    "## KNN Regression:"
   ]
  },
  {
   "cell_type": "code",
   "execution_count": 97,
   "metadata": {
    "colab": {},
    "colab_type": "code",
    "executionInfo": {
     "elapsed": 2122,
     "status": "ok",
     "timestamp": 1596300503799,
     "user": {
      "displayName": "Vaishnavi Rai",
      "photoUrl": "https://lh3.googleusercontent.com/-muQ4WjNuOb8/AAAAAAAAAAI/AAAAAAAAF5A/L9I9qOt7G_8/s64/photo.jpg",
      "userId": "13557949291054352338"
     },
     "user_tz": -330
    },
    "id": "EVQ8NSNr3vAy"
   },
   "outputs": [],
   "source": [
    "from sklearn.neighbors import KNeighborsRegressor"
   ]
  },
  {
   "cell_type": "code",
   "execution_count": 98,
   "metadata": {
    "colab": {
     "base_uri": "https://localhost:8080/",
     "height": 218
    },
    "colab_type": "code",
    "executionInfo": {
     "elapsed": 23243,
     "status": "ok",
     "timestamp": 1596300528919,
     "user": {
      "displayName": "Vaishnavi Rai",
      "photoUrl": "https://lh3.googleusercontent.com/-muQ4WjNuOb8/AAAAAAAAAAI/AAAAAAAAF5A/L9I9qOt7G_8/s64/photo.jpg",
      "userId": "13557949291054352338"
     },
     "user_tz": -330
    },
    "id": "csx2kVY53vAz",
    "outputId": "82382219-4716-4ab0-b0f7-8169719903c0"
   },
   "outputs": [
    {
     "name": "stdout",
     "output_type": "stream",
     "text": [
      "for neighbors= 1 rmse: 8.770842086918623\n",
      "for neighbors= 2 rmse: 8.770842086918623\n",
      "for neighbors= 3 rmse: 8.770842086918623\n",
      "for neighbors= 4 rmse: 8.770842086918623\n",
      "for neighbors= 5 rmse: 8.770842086918623\n",
      "for neighbors= 6 rmse: 8.770842086918623\n",
      "for neighbors= 7 rmse: 8.770842086918623\n",
      "for neighbors= 8 rmse: 8.770842086918623\n",
      "for neighbors= 9 rmse: 8.770842086918623\n",
      "for neighbors= 10 rmse: 8.770842086918623\n",
      "for neighbors= 11 rmse: 8.770842086918623\n",
      "for neighbors= 12 rmse: 8.770842086918623\n"
     ]
    }
   ],
   "source": [
    "error=[]\n",
    "for k in range(1,13):\n",
    "    knn=KNeighborsRegressor(n_neighbors=1)\n",
    "    knn.fit(x_train,y_train)\n",
    "    pred=knn.predict(x_test)\n",
    "    mse=metrics.mean_squared_error(y_test,pred)\n",
    "    rmse=math.sqrt(mse)\n",
    "    error.append(rmse)\n",
    "    print('for neighbors=',k,'rmse:',rmse)"
   ]
  },
  {
   "cell_type": "markdown",
   "metadata": {
    "colab_type": "text",
    "id": "JZU0N_5i3vA1"
   },
   "source": [
    "- So,the root mean squared error is not varying for the no of neighbors in KNN algorithm"
   ]
  },
  {
   "cell_type": "code",
   "execution_count": 99,
   "metadata": {
    "colab": {
     "base_uri": "https://localhost:8080/",
     "height": 296
    },
    "colab_type": "code",
    "executionInfo": {
     "elapsed": 3603,
     "status": "ok",
     "timestamp": 1596300548277,
     "user": {
      "displayName": "Vaishnavi Rai",
      "photoUrl": "https://lh3.googleusercontent.com/-muQ4WjNuOb8/AAAAAAAAAAI/AAAAAAAAF5A/L9I9qOt7G_8/s64/photo.jpg",
      "userId": "13557949291054352338"
     },
     "user_tz": -330
    },
    "id": "CXB3hjgN3vA1",
    "outputId": "b81545d8-f5cd-4621-c827-0cff1478c298"
   },
   "outputs": [
    {
     "data": {
      "text/plain": [
       "Text(0, 0.5, 'RMSE')"
      ]
     },
     "execution_count": 99,
     "metadata": {
      "tags": []
     },
     "output_type": "execute_result"
    },
    {
     "data": {
      "image/png": "[encoded data removed]",
      "text/plain": [
       "<Figure size 432x288 with 1 Axes>"
      ]
     },
     "metadata": {
      "tags": []
     },
     "output_type": "display_data"
    }
   ],
   "source": [
    "x=range(1,13)\n",
    "plt.plot(x,error)\n",
    "plt.xlabel('Value of k in KNN')\n",
    "plt.ylabel('RMSE')"
   ]
  },
  {
   "cell_type": "markdown",
   "metadata": {
    "colab_type": "text",
    "id": "yNCldx3a3vA2"
   },
   "source": [
    "- Graph between actual and predicted values:"
   ]
  },
  {
   "cell_type": "code",
   "execution_count": 100,
   "metadata": {
    "colab": {
     "base_uri": "https://localhost:8080/",
     "height": 296
    },
    "colab_type": "code",
    "executionInfo": {
     "elapsed": 3430,
     "status": "ok",
     "timestamp": 1596300554021,
     "user": {
      "displayName": "Vaishnavi Rai",
      "photoUrl": "https://lh3.googleusercontent.com/-muQ4WjNuOb8/AAAAAAAAAAI/AAAAAAAAF5A/L9I9qOt7G_8/s64/photo.jpg",
      "userId": "13557949291054352338"
     },
     "user_tz": -330
    },
    "id": "GWvF43w_3vA3",
    "outputId": "4d336747-5030-4168-d113-3ab84e94bbc9"
   },
   "outputs": [
    {
     "data": {
      "text/plain": [
       "Text(0, 0.5, 'Predicted values of price')"
      ]
     },
     "execution_count": 100,
     "metadata": {
      "tags": []
     },
     "output_type": "execute_result"
    },
    {
     "data": {
      "image/png": "[encoded data removed]",
      "text/plain": [
       "<Figure size 432x288 with 1 Axes>"
      ]
     },
     "metadata": {
      "tags": []
     },
     "output_type": "display_data"
    }
   ],
   "source": [
    "sns.scatterplot(y_test,pred)\n",
    "x=range(0,80)\n",
    "y=range(0,80)\n",
    "plt.plot(x,y,color='red')\n",
    "plt.xlabel(\"Actual values of price\")\n",
    "plt.ylabel(\"Predicted values of price\")"
   ]
  },
  {
   "cell_type": "markdown",
   "metadata": {
    "colab_type": "text",
    "id": "x-QGpxJS3vA4"
   },
   "source": [
    "## Random Forest Regression"
   ]
  },
  {
   "cell_type": "code",
   "execution_count": 101,
   "metadata": {
    "colab": {},
    "colab_type": "code",
    "executionInfo": {
     "elapsed": 1923,
     "status": "ok",
     "timestamp": 1596300561450,
     "user": {
      "displayName": "Vaishnavi Rai",
      "photoUrl": "https://lh3.googleusercontent.com/-muQ4WjNuOb8/AAAAAAAAAAI/AAAAAAAAF5A/L9I9qOt7G_8/s64/photo.jpg",
      "userId": "13557949291054352338"
     },
     "user_tz": -330
    },
    "id": "g9JBfNpd3vA4"
   },
   "outputs": [],
   "source": [
    "from sklearn.ensemble import RandomForestRegressor\n"
   ]
  },
  {
   "cell_type": "code",
   "execution_count": 107,
   "metadata": {
    "colab": {},
    "colab_type": "code",
    "executionInfo": {
     "elapsed": 21585,
     "status": "ok",
     "timestamp": 1596300815241,
     "user": {
      "displayName": "Vaishnavi Rai",
      "photoUrl": "https://lh3.googleusercontent.com/-muQ4WjNuOb8/AAAAAAAAAAI/AAAAAAAAF5A/L9I9qOt7G_8/s64/photo.jpg",
      "userId": "13557949291054352338"
     },
     "user_tz": -330
    },
    "id": "toEP8iPm3vA5"
   },
   "outputs": [],
   "source": [
    "rf = RandomForestRegressor(n_estimators = 1000, random_state = 42)\n"
   ]
  },
  {
   "cell_type": "code",
   "execution_count": 113,
   "metadata": {
    "colab": {
     "base_uri": "https://localhost:8080/",
     "height": 134
    },
    "colab_type": "code",
    "executionInfo": {
     "elapsed": 210003,
     "status": "ok",
     "timestamp": 1596301510579,
     "user": {
      "displayName": "Vaishnavi Rai",
      "photoUrl": "https://lh3.googleusercontent.com/-muQ4WjNuOb8/AAAAAAAAAAI/AAAAAAAAF5A/L9I9qOt7G_8/s64/photo.jpg",
      "userId": "13557949291054352338"
     },
     "user_tz": -330
    },
    "id": "XPUNNL5p8tT-",
    "outputId": "0d57a248-ef54-41b6-9755-b016ee133673"
   },
   "outputs": [
    {
     "data": {
      "text/plain": [
       "RandomForestRegressor(bootstrap=True, ccp_alpha=0.0, criterion='mse',\n",
       "                      max_depth=None, max_features='auto', max_leaf_nodes=None,\n",
       "                      max_samples=None, min_impurity_decrease=0.0,\n",
       "                      min_impurity_split=None, min_samples_leaf=1,\n",
       "                      min_samples_split=2, min_weight_fraction_leaf=0.0,\n",
       "                      n_estimators=1000, n_jobs=None, oob_score=False,\n",
       "                      random_state=42, verbose=0, warm_start=False)"
      ]
     },
     "execution_count": 113,
     "metadata": {
      "tags": []
     },
     "output_type": "execute_result"
    }
   ],
   "source": [
    "def custom_excepthook(type, value, traceback):\n",
    "    if type is KeyboardInterrupt:\n",
    "        return # do nothing\n",
    "    else:\n",
    "        sys.__excepthook__(type, value, traceback)\n",
    "rf.fit(x_train, y_train)     "
   ]
  },
  {
   "cell_type": "code",
   "execution_count": 115,
   "metadata": {
    "colab": {},
    "colab_type": "code",
    "executionInfo": {
     "elapsed": 23321,
     "status": "ok",
     "timestamp": 1596301681767,
     "user": {
      "displayName": "Vaishnavi Rai",
      "photoUrl": "https://lh3.googleusercontent.com/-muQ4WjNuOb8/AAAAAAAAAAI/AAAAAAAAF5A/L9I9qOt7G_8/s64/photo.jpg",
      "userId": "13557949291054352338"
     },
     "user_tz": -330
    },
    "id": "-m7QwazB3vA8"
   },
   "outputs": [],
   "source": [
    "predrf=rf.predict(x_test)\n",
    "reg_ols=sm.OLS(endog=y_train,exog=x_train).fit()\n",
    "\n"
   ]
  },
  {
   "cell_type": "markdown",
   "metadata": {
    "colab_type": "text",
    "id": "VOLwbUlL3vA9"
   },
   "source": [
    "- Finding the root mean squared error"
   ]
  },
  {
   "cell_type": "code",
   "execution_count": 116,
   "metadata": {
    "colab": {
     "base_uri": "https://localhost:8080/",
     "height": 34
    },
    "colab_type": "code",
    "executionInfo": {
     "elapsed": 4351,
     "status": "ok",
     "timestamp": 1596301697558,
     "user": {
      "displayName": "Vaishnavi Rai",
      "photoUrl": "https://lh3.googleusercontent.com/-muQ4WjNuOb8/AAAAAAAAAAI/AAAAAAAAF5A/L9I9qOt7G_8/s64/photo.jpg",
      "userId": "13557949291054352338"
     },
     "user_tz": -330
    },
    "id": "Acb7dnMc3vA9",
    "outputId": "dd9b26f1-934c-4b8d-fa64-e08cefa37c97"
   },
   "outputs": [
    {
     "name": "stdout",
     "output_type": "stream",
     "text": [
      "RMSE is: 3.386985497297232\n"
     ]
    }
   ],
   "source": [
    "mse=metrics.mean_squared_error(y_test,predrf)\n",
    "rmse=math.sqrt(mse)\n",
    "print('RMSE is:',rmse)"
   ]
  },
  {
   "cell_type": "markdown",
   "metadata": {
    "colab_type": "text",
    "id": "TAjqTl7K3vA-"
   },
   "source": [
    "- Graph between actual and predicted values:"
   ]
  },
  {
   "cell_type": "code",
   "execution_count": 117,
   "metadata": {
    "colab": {
     "base_uri": "https://localhost:8080/",
     "height": 296
    },
    "colab_type": "code",
    "executionInfo": {
     "elapsed": 2076,
     "status": "ok",
     "timestamp": 1596301703450,
     "user": {
      "displayName": "Vaishnavi Rai",
      "photoUrl": "https://lh3.googleusercontent.com/-muQ4WjNuOb8/AAAAAAAAAAI/AAAAAAAAF5A/L9I9qOt7G_8/s64/photo.jpg",
      "userId": "13557949291054352338"
     },
     "user_tz": -330
    },
    "id": "cdtQF-MO3vA_",
    "outputId": "1b53b375-7887-4564-b3bd-acd08573a2dc"
   },
   "outputs": [
    {
     "data": {
      "text/plain": [
       "Text(0, 0.5, 'Predicted values of price')"
      ]
     },
     "execution_count": 117,
     "metadata": {
      "tags": []
     },
     "output_type": "execute_result"
    },
    {
     "data": {
      "image/png": "[encoded data removed]",
      "text/plain": [
       "<Figure size 432x288 with 1 Axes>"
      ]
     },
     "metadata": {
      "tags": []
     },
     "output_type": "display_data"
    }
   ],
   "source": [
    "sns.scatterplot(predrf,y_test)\n",
    "x=range(0,80)\n",
    "y=range(0,80)\n",
    "plt.plot(x,y,color='red')\n",
    "plt.xlabel(\"Actual values of price\")\n",
    "plt.ylabel(\"Predicted values of price\")\n"
   ]
  },
  {
   "cell_type": "markdown",
   "metadata": {
    "colab_type": "text",
    "id": "qCvKNonZ3vBA"
   },
   "source": [
    "## LightGBM Regressor"
   ]
  },
  {
   "cell_type": "markdown",
   "metadata": {
    "colab_type": "text",
    "id": "yTzOw6H_3vBA"
   },
   "source": [
    "- Advantages of Light GBM\n",
    "\n",
    " - Faster training speed and higher efficiency: Light GBM use histogram based algorithm i.e it buckets continuous feature values into discrete bins which fasten the training procedure.\n",
    "\n",
    " - Lower memory usage: Replaces continuous values to discrete bins which result in lower memory usage.\n"
   ]
  },
  {
   "cell_type": "markdown",
   "metadata": {
    "colab_type": "text",
    "id": "42cr3_KM3vBD"
   },
   "source": [
    "- Finding the root mean squared error"
   ]
  },
  {
   "cell_type": "code",
   "execution_count": 119,
   "metadata": {
    "colab": {
     "base_uri": "https://localhost:8080/",
     "height": 34
    },
    "colab_type": "code",
    "executionInfo": {
     "elapsed": 1248,
     "status": "ok",
     "timestamp": 1596301869000,
     "user": {
      "displayName": "Vaishnavi Rai",
      "photoUrl": "https://lh3.googleusercontent.com/-muQ4WjNuOb8/AAAAAAAAAAI/AAAAAAAAF5A/L9I9qOt7G_8/s64/photo.jpg",
      "userId": "13557949291054352338"
     },
     "user_tz": -330
    },
    "id": "VpUPQeQ43vBD",
    "outputId": "62b50ee4-0762-4c4f-8f85-cf6697c38787"
   },
   "outputs": [
    {
     "name": "stdout",
     "output_type": "stream",
     "text": [
      "RMSE is: 3.080697305209765\n"
     ]
    }
   ],
   "source": [
    "mse=metrics.mean_squared_error(y_test,y_pred_lgbm)\n",
    "rmse=math.sqrt(mse)\n",
    "print('RMSE is:',rmse)"
   ]
  },
  {
   "cell_type": "markdown",
   "metadata": {
    "colab_type": "text",
    "id": "_8KxjWZU3vBF"
   },
   "source": [
    "- Graph between actual and predicted values:"
   ]
  },
  {
   "cell_type": "code",
   "execution_count": 120,
   "metadata": {
    "colab": {
     "base_uri": "https://localhost:8080/",
     "height": 296
    },
    "colab_type": "code",
    "executionInfo": {
     "elapsed": 1680,
     "status": "ok",
     "timestamp": 1596301875573,
     "user": {
      "displayName": "Vaishnavi Rai",
      "photoUrl": "https://lh3.googleusercontent.com/-muQ4WjNuOb8/AAAAAAAAAAI/AAAAAAAAF5A/L9I9qOt7G_8/s64/photo.jpg",
      "userId": "13557949291054352338"
     },
     "user_tz": -330
    },
    "id": "1VwvOgcm3vBF",
    "outputId": "0904a8da-2cd0-4789-e2fb-45303ca09b6c"
   },
   "outputs": [
    {
     "data": {
      "text/plain": [
       "Text(0, 0.5, 'Predicted values of price')"
      ]
     },
     "execution_count": 120,
     "metadata": {
      "tags": []
     },
     "output_type": "execute_result"
    },
    {
     "data": {
      "image/png": "[encoded data removed]",
      "text/plain": [
       "<Figure size 432x288 with 1 Axes>"
      ]
     },
     "metadata": {
      "tags": []
     },
     "output_type": "display_data"
    }
   ],
   "source": [
    "sns.scatterplot(x=y_test,y=y_pred_lgbm)\n",
    "x=range(0,80)\n",
    "y=range(0,80)\n",
    "plt.plot(x,y,color='red')\n",
    "plt.xlabel(\"Actual values of price\")\n",
    "plt.ylabel(\"Predicted values of price\")"
   ]
  },
  {
   "cell_type": "markdown",
   "metadata": {
    "colab_type": "text",
    "id": "F0Bf92y43vBH"
   },
   "source": [
    "## Decision Tree Regressor"
   ]
  },
  {
   "cell_type": "code",
   "execution_count": 121,
   "metadata": {
    "colab": {},
    "colab_type": "code",
    "executionInfo": {
     "elapsed": 22174,
     "status": "ok",
     "timestamp": 1596301903483,
     "user": {
      "displayName": "Vaishnavi Rai",
      "photoUrl": "https://lh3.googleusercontent.com/-muQ4WjNuOb8/AAAAAAAAAAI/AAAAAAAAF5A/L9I9qOt7G_8/s64/photo.jpg",
      "userId": "13557949291054352338"
     },
     "user_tz": -330
    },
    "id": "8eCiYoh23vBH"
   },
   "outputs": [],
   "source": [
    "import sklearn.tree as model\n",
    "dt=model.DecisionTreeRegressor(criterion='mse')\n",
    "dt.fit(x_train,y_train)\n",
    "preddec=dt.predict(x_test)\n",
    "reg_ols=sm.OLS(endog=y_train,exog=x_train).fit()\n"
   ]
  },
  {
   "cell_type": "markdown",
   "metadata": {
    "colab_type": "text",
    "id": "HTu97qTK3vBI"
   },
   "source": [
    "- Finding the root mean squared error"
   ]
  },
  {
   "cell_type": "code",
   "execution_count": 122,
   "metadata": {
    "colab": {
     "base_uri": "https://localhost:8080/",
     "height": 34
    },
    "colab_type": "code",
    "executionInfo": {
     "elapsed": 1543,
     "status": "ok",
     "timestamp": 1596301909403,
     "user": {
      "displayName": "Vaishnavi Rai",
      "photoUrl": "https://lh3.googleusercontent.com/-muQ4WjNuOb8/AAAAAAAAAAI/AAAAAAAAF5A/L9I9qOt7G_8/s64/photo.jpg",
      "userId": "13557949291054352338"
     },
     "user_tz": -330
    },
    "id": "iFfH9rc53vBJ",
    "outputId": "92424436-8a93-4a5d-fbe3-d0a605a25929"
   },
   "outputs": [
    {
     "name": "stdout",
     "output_type": "stream",
     "text": [
      "RMSE is: 4.244450686525132\n"
     ]
    }
   ],
   "source": [
    "mse=metrics.mean_squared_error(y_test,preddec)\n",
    "rmse=math.sqrt(mse)\n",
    "print('RMSE is:',rmse)"
   ]
  },
  {
   "cell_type": "markdown",
   "metadata": {
    "colab_type": "text",
    "id": "WegDtO7L3vBK"
   },
   "source": [
    "- Graph between actual and predicted values:"
   ]
  },
  {
   "cell_type": "code",
   "execution_count": 123,
   "metadata": {
    "colab": {
     "base_uri": "https://localhost:8080/",
     "height": 296
    },
    "colab_type": "code",
    "executionInfo": {
     "elapsed": 2437,
     "status": "ok",
     "timestamp": 1596301913963,
     "user": {
      "displayName": "Vaishnavi Rai",
      "photoUrl": "https://lh3.googleusercontent.com/-muQ4WjNuOb8/AAAAAAAAAAI/AAAAAAAAF5A/L9I9qOt7G_8/s64/photo.jpg",
      "userId": "13557949291054352338"
     },
     "user_tz": -330
    },
    "id": "0WhNhhua3vBK",
    "outputId": "0f8cebe6-1599-4e49-d41f-68cd55786f8d"
   },
   "outputs": [
    {
     "data": {
      "text/plain": [
       "Text(0, 0.5, 'Predicted values of price')"
      ]
     },
     "execution_count": 123,
     "metadata": {
      "tags": []
     },
     "output_type": "execute_result"
    },
    {
     "data": {
      "image/png": "[encoded data removed]",
      "text/plain": [
       "<Figure size 432x288 with 1 Axes>"
      ]
     },
     "metadata": {
      "tags": []
     },
     "output_type": "display_data"
    }
   ],
   "source": [
    "sns.scatterplot(x=y_test,y=preddec)\n",
    "x=range(0,80)\n",
    "y=range(0,80)\n",
    "plt.plot(x,y,color='red')\n",
    "plt.xlabel(\"Actual values of price\")\n",
    "plt.ylabel(\"Predicted values of price\")"
   ]
  },
  {
   "cell_type": "markdown",
   "metadata": {
    "colab_type": "text",
    "id": "BEViQ4SY3vBL"
   },
   "source": [
    "## Multiple Regression"
   ]
  },
  {
   "cell_type": "code",
   "execution_count": 124,
   "metadata": {
    "colab": {},
    "colab_type": "code",
    "executionInfo": {
     "elapsed": 25476,
     "status": "ok",
     "timestamp": 1596301941949,
     "user": {
      "displayName": "Vaishnavi Rai",
      "photoUrl": "https://lh3.googleusercontent.com/-muQ4WjNuOb8/AAAAAAAAAAI/AAAAAAAAF5A/L9I9qOt7G_8/s64/photo.jpg",
      "userId": "13557949291054352338"
     },
     "user_tz": -330
    },
    "id": "lV4ss4ts3vBM"
   },
   "outputs": [],
   "source": [
    "from sklearn.linear_model import LinearRegression\n",
    "reg= LinearRegression()\n",
    "reg.fit(x_train,y_train)   \n",
    "predlin=reg.predict(x_test)\n",
    "reg_ols=sm.OLS(endog=y_train,exog=x_train).fit()\n",
    "\n"
   ]
  },
  {
   "cell_type": "markdown",
   "metadata": {
    "colab_type": "text",
    "id": "pSmRGFGG3vBN"
   },
   "source": [
    "- Finding the root mean squared error"
   ]
  },
  {
   "cell_type": "code",
   "execution_count": null,
   "metadata": {
    "colab": {},
    "colab_type": "code",
    "id": "axtrA2B93vBN",
    "outputId": "58ff8e8a-31ad-45eb-beff-13babd61acf2"
   },
   "outputs": [
    {
     "name": "stdout",
     "output_type": "stream",
     "text": [
      "RMSE is: 5.750583776651055\n"
     ]
    }
   ],
   "source": [
    "mse=metrics.mean_squared_error(y_test,predlin)\n",
    "rmse=math.sqrt(mse)\n",
    "print('RMSE is:',rmse)"
   ]
  },
  {
   "cell_type": "markdown",
   "metadata": {
    "colab_type": "text",
    "id": "63y8mqKO3vBP"
   },
   "source": [
    "- Graph between actual and predicted values:"
   ]
  },
  {
   "cell_type": "code",
   "execution_count": null,
   "metadata": {
    "colab": {},
    "colab_type": "code",
    "id": "bApfBkpF3vBP",
    "outputId": "366f6eda-a90f-47ab-a220-97f6b8791dbb"
   },
   "outputs": [
    {
     "data": {
      "text/plain": [
       "Text(0, 0.5, 'Predicted values of price')"
      ]
     },
     "execution_count": 91,
     "metadata": {
      "tags": []
     },
     "output_type": "execute_result"
    },
    {
     "data": {
      "image/png": "[encoded data removed]",
      "text/plain": [
       "<Figure size 432x288 with 1 Axes>"
      ]
     },
     "metadata": {
      "tags": []
     },
     "output_type": "display_data"
    }
   ],
   "source": [
    "sns.scatterplot(predlin,y_test)\n",
    "x=range(0,80)\n",
    "y=range(0,80)\n",
    "plt.plot(x,y,color='red')\n",
    "plt.xlabel(\"Actual values of price\")\n",
    "plt.ylabel(\"Predicted values of price\")"
   ]
  },
  {
   "cell_type": "markdown",
   "metadata": {
    "colab_type": "text",
    "id": "0qWcxila3vBQ"
   },
   "source": [
    "###  SELECTING THE BEST MODEL"
   ]
  },
  {
   "cell_type": "markdown",
   "metadata": {
    "colab_type": "text",
    "id": "CbaVKTWp3vBQ"
   },
   "source": [
    "- From all the above models, we can see that the Root mean squared error is minimum for LightGBM Regression.\n",
    "- So, we will predict on the Test Data by using LightGBM Regressor."
   ]
  },
  {
   "cell_type": "markdown",
   "metadata": {
    "colab_type": "text",
    "id": "ifKmzxdR3vBQ"
   },
   "source": [
    "## MAKING PREDICTIONS ON THE UNKNOWN(TEST) DATA"
   ]
  },
  {
   "cell_type": "code",
   "execution_count": 125,
   "metadata": {
    "colab": {},
    "colab_type": "code",
    "executionInfo": {
     "elapsed": 1396,
     "status": "ok",
     "timestamp": 1596301955308,
     "user": {
      "displayName": "Vaishnavi Rai",
      "photoUrl": "https://lh3.googleusercontent.com/-muQ4WjNuOb8/AAAAAAAAAAI/AAAAAAAAF5A/L9I9qOt7G_8/s64/photo.jpg",
      "userId": "13557949291054352338"
     },
     "user_tz": -330
    },
    "id": "LNV5S5Gs3vBR"
   },
   "outputs": [],
   "source": [
    "Predicted_price=lgbm.predict(test_tr)# Using LGBM Regressor, making predictions on the Unknown(Test) data."
   ]
  },
  {
   "cell_type": "code",
   "execution_count": 126,
   "metadata": {
    "colab": {},
    "colab_type": "code",
    "executionInfo": {
     "elapsed": 1916,
     "status": "ok",
     "timestamp": 1596301960450,
     "user": {
      "displayName": "Vaishnavi Rai",
      "photoUrl": "https://lh3.googleusercontent.com/-muQ4WjNuOb8/AAAAAAAAAAI/AAAAAAAAF5A/L9I9qOt7G_8/s64/photo.jpg",
      "userId": "13557949291054352338"
     },
     "user_tz": -330
    },
    "id": "UHnKuHfE3vBS"
   },
   "outputs": [],
   "source": [
    "Predicted_price=pd.DataFrame(Predicted_price,columns=['Predicted Price(in Lakhs)'])# Storing the predicted values in series"
   ]
  },
  {
   "cell_type": "markdown",
   "metadata": {
    "colab_type": "text",
    "id": "gD_Qz68A3vBW"
   },
   "source": [
    "### Saving the predicted price in excelsheet"
   ]
  },
  {
   "cell_type": "code",
   "execution_count": 131,
   "metadata": {
    "colab": {},
    "colab_type": "code",
    "executionInfo": {
     "elapsed": 1492,
     "status": "ok",
     "timestamp": 1596302207933,
     "user": {
      "displayName": "Vaishnavi Rai",
      "photoUrl": "https://lh3.googleusercontent.com/-muQ4WjNuOb8/AAAAAAAAAAI/AAAAAAAAF5A/L9I9qOt7G_8/s64/photo.jpg",
      "userId": "13557949291054352338"
     },
     "user_tz": -330
    },
    "id": "Brt5Opqa3vBX"
   },
   "outputs": [],
   "source": [
    "from pandas import ExcelWriter\n",
    "with ExcelWriter('Predicted Prices on Unknown(Test) data.xlsx')as writer:# The file saved has name 'Predicted Prices on Unknown(Test) Data'\n",
    "    Predicted_price.to_excel(writer)# Saving file in excelsheet\n",
    "writer.save()"
   ]
  },
  {
   "cell_type": "markdown",
   "metadata": {
    "colab_type": "text",
    "id": "pJ3LOyeC3vBY"
   },
   "source": [
    "- We took into consideration 5 models namely,\n",
    "- KNN\n",
    "- Random Forest \n",
    "- LightGBM\n",
    "- Decision Tree\n",
    "- Multiple Regression\n",
    " We inferred from the above five models that, LightGBM has given us the least RMSE value.So we used this model for the prediction of dataset.\n",
    " \n",
    " We learnt many things through the discussions that we've made in successfully completing the project.\n",
    " \n",
    " This is a joint effort by our beloved teammates.\n"
   ]
  }
 ],
 "metadata": {
  "colab": {
   "name": "ml major project.ipynb",
   "provenance": [],
   "toc_visible": true
  },
  "kernelspec": {
   "display_name": "Python 3",
   "language": "python",
   "name": "python3"
  },
  "language_info": {
   "codemirror_mode": {
    "name": "ipython",
    "version": 3
   },
   "file_extension": ".py",
   "mimetype": "text/x-python",
   "name": "python",
   "nbconvert_exporter": "python",
   "pygments_lexer": "ipython3",
   "version": "3.7.3"
  }
 },
 "nbformat": 4,
 "nbformat_minor": 1
}
